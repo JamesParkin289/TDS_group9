{
 "cells": [
  {
   "cell_type": "markdown",
   "metadata": {},
   "source": [
    "# TDS Project: Running lazy predict on the 1yr, 3yr and 5yr comorbid data"
   ]
  },
  {
   "cell_type": "markdown",
   "metadata": {},
   "source": [
    "## This is at the ICD A00 to Z99 10yr window binary resolution"
   ]
  },
  {
   "cell_type": "markdown",
   "metadata": {},
   "source": [
    "#### Load packages"
   ]
  },
  {
   "cell_type": "code",
   "execution_count": 151,
   "metadata": {},
   "outputs": [],
   "source": [
    "import os\n",
    "import numpy as np \n",
    "import pandas as pd\n",
    "import seaborn as sns\n",
    "\n",
    "from sklearn.preprocessing import normalize, OneHotEncoder\n",
    "from sklearn.model_selection import train_test_split, StratifiedKFold, GridSearchCV\n",
    "from sklearn.metrics import confusion_matrix, roc_auc_score, accuracy_score, f1_score, recall_score, precision_score\n",
    "\n",
    "from lazypredict.Supervised import LazyClassifier \n",
    "\n",
    "import xgboost as xgb"
   ]
  },
  {
   "cell_type": "code",
   "execution_count": 42,
   "metadata": {},
   "outputs": [],
   "source": [
    "os.chdir(\"/rds/general/project/hda_students_data/live/Group9/General/Data\")"
   ]
  },
  {
   "cell_type": "markdown",
   "metadata": {},
   "source": [
    "#### Read in the CSV"
   ]
  },
  {
   "cell_type": "code",
   "execution_count": 43,
   "metadata": {},
   "outputs": [],
   "source": [
    "data_10yr = pd.read_csv(\"hes_10yr_A00Z99_bin_FAMD.csv\")"
   ]
  },
  {
   "cell_type": "markdown",
   "metadata": {},
   "source": [
    "#### Preview the data"
   ]
  },
  {
   "cell_type": "code",
   "execution_count": 44,
   "metadata": {},
   "outputs": [
    {
     "data": {
      "text/plain": [
       "(15356, 1292)"
      ]
     },
     "execution_count": 44,
     "metadata": {},
     "output_type": "execute_result"
    }
   ],
   "source": [
    "data_10yr.shape"
   ]
  },
  {
   "cell_type": "code",
   "execution_count": 45,
   "metadata": {},
   "outputs": [
    {
     "data": {
      "text/html": [
       "<div>\n",
       "<style scoped>\n",
       "    .dataframe tbody tr th:only-of-type {\n",
       "        vertical-align: middle;\n",
       "    }\n",
       "\n",
       "    .dataframe tbody tr th {\n",
       "        vertical-align: top;\n",
       "    }\n",
       "\n",
       "    .dataframe thead th {\n",
       "        text-align: right;\n",
       "    }\n",
       "</style>\n",
       "<table border=\"1\" class=\"dataframe\">\n",
       "  <thead>\n",
       "    <tr style=\"text-align: right;\">\n",
       "      <th></th>\n",
       "      <th>Unnamed: 0</th>\n",
       "      <th>eid</th>\n",
       "      <th>X21003.0.0</th>\n",
       "      <th>X31.0.0</th>\n",
       "      <th>casecont</th>\n",
       "      <th>triplet_id</th>\n",
       "      <th>A02</th>\n",
       "      <th>A04</th>\n",
       "      <th>A06</th>\n",
       "      <th>A08</th>\n",
       "      <th>...</th>\n",
       "      <th>Z93</th>\n",
       "      <th>Z94</th>\n",
       "      <th>Z95</th>\n",
       "      <th>Z96</th>\n",
       "      <th>Z97</th>\n",
       "      <th>Z98</th>\n",
       "      <th>Z99</th>\n",
       "      <th>X0</th>\n",
       "      <th>X1</th>\n",
       "      <th>X2</th>\n",
       "    </tr>\n",
       "  </thead>\n",
       "  <tbody>\n",
       "    <tr>\n",
       "      <th>0</th>\n",
       "      <td>1</td>\n",
       "      <td>1000015</td>\n",
       "      <td>65</td>\n",
       "      <td>1</td>\n",
       "      <td>0</td>\n",
       "      <td>1</td>\n",
       "      <td>0</td>\n",
       "      <td>0</td>\n",
       "      <td>0</td>\n",
       "      <td>0</td>\n",
       "      <td>...</td>\n",
       "      <td>0</td>\n",
       "      <td>0</td>\n",
       "      <td>0</td>\n",
       "      <td>0</td>\n",
       "      <td>0</td>\n",
       "      <td>0</td>\n",
       "      <td>0</td>\n",
       "      <td>-0.33</td>\n",
       "      <td>-0.03</td>\n",
       "      <td>-0.06</td>\n",
       "    </tr>\n",
       "    <tr>\n",
       "      <th>1</th>\n",
       "      <td>2</td>\n",
       "      <td>1000027</td>\n",
       "      <td>66</td>\n",
       "      <td>1</td>\n",
       "      <td>0</td>\n",
       "      <td>57</td>\n",
       "      <td>0</td>\n",
       "      <td>0</td>\n",
       "      <td>0</td>\n",
       "      <td>0</td>\n",
       "      <td>...</td>\n",
       "      <td>0</td>\n",
       "      <td>0</td>\n",
       "      <td>0</td>\n",
       "      <td>0</td>\n",
       "      <td>0</td>\n",
       "      <td>0</td>\n",
       "      <td>0</td>\n",
       "      <td>-0.33</td>\n",
       "      <td>-0.05</td>\n",
       "      <td>-0.05</td>\n",
       "    </tr>\n",
       "    <tr>\n",
       "      <th>2</th>\n",
       "      <td>3</td>\n",
       "      <td>1000039</td>\n",
       "      <td>69</td>\n",
       "      <td>1</td>\n",
       "      <td>0</td>\n",
       "      <td>8</td>\n",
       "      <td>0</td>\n",
       "      <td>0</td>\n",
       "      <td>0</td>\n",
       "      <td>0</td>\n",
       "      <td>...</td>\n",
       "      <td>0</td>\n",
       "      <td>0</td>\n",
       "      <td>0</td>\n",
       "      <td>0</td>\n",
       "      <td>0</td>\n",
       "      <td>0</td>\n",
       "      <td>0</td>\n",
       "      <td>-0.34</td>\n",
       "      <td>-0.05</td>\n",
       "      <td>-0.07</td>\n",
       "    </tr>\n",
       "    <tr>\n",
       "      <th>3</th>\n",
       "      <td>4</td>\n",
       "      <td>1000040</td>\n",
       "      <td>50</td>\n",
       "      <td>0</td>\n",
       "      <td>0</td>\n",
       "      <td>13</td>\n",
       "      <td>0</td>\n",
       "      <td>0</td>\n",
       "      <td>0</td>\n",
       "      <td>0</td>\n",
       "      <td>...</td>\n",
       "      <td>0</td>\n",
       "      <td>0</td>\n",
       "      <td>0</td>\n",
       "      <td>0</td>\n",
       "      <td>0</td>\n",
       "      <td>0</td>\n",
       "      <td>0</td>\n",
       "      <td>-0.33</td>\n",
       "      <td>-0.05</td>\n",
       "      <td>-0.06</td>\n",
       "    </tr>\n",
       "    <tr>\n",
       "      <th>4</th>\n",
       "      <td>5</td>\n",
       "      <td>1000053</td>\n",
       "      <td>46</td>\n",
       "      <td>1</td>\n",
       "      <td>0</td>\n",
       "      <td>273</td>\n",
       "      <td>0</td>\n",
       "      <td>0</td>\n",
       "      <td>0</td>\n",
       "      <td>0</td>\n",
       "      <td>...</td>\n",
       "      <td>0</td>\n",
       "      <td>0</td>\n",
       "      <td>0</td>\n",
       "      <td>0</td>\n",
       "      <td>0</td>\n",
       "      <td>0</td>\n",
       "      <td>0</td>\n",
       "      <td>-0.32</td>\n",
       "      <td>-0.06</td>\n",
       "      <td>-0.05</td>\n",
       "    </tr>\n",
       "  </tbody>\n",
       "</table>\n",
       "<p>5 rows × 1292 columns</p>\n",
       "</div>"
      ],
      "text/plain": [
       "   Unnamed: 0      eid  X21003.0.0  X31.0.0  casecont  triplet_id  A02  A04  \\\n",
       "0           1  1000015          65        1         0           1    0    0   \n",
       "1           2  1000027          66        1         0          57    0    0   \n",
       "2           3  1000039          69        1         0           8    0    0   \n",
       "3           4  1000040          50        0         0          13    0    0   \n",
       "4           5  1000053          46        1         0         273    0    0   \n",
       "\n",
       "   A06  A08  ...  Z93  Z94  Z95  Z96  Z97  Z98  Z99    X0    X1    X2  \n",
       "0    0    0  ...    0    0    0    0    0    0    0 -0.33 -0.03 -0.06  \n",
       "1    0    0  ...    0    0    0    0    0    0    0 -0.33 -0.05 -0.05  \n",
       "2    0    0  ...    0    0    0    0    0    0    0 -0.34 -0.05 -0.07  \n",
       "3    0    0  ...    0    0    0    0    0    0    0 -0.33 -0.05 -0.06  \n",
       "4    0    0  ...    0    0    0    0    0    0    0 -0.32 -0.06 -0.05  \n",
       "\n",
       "[5 rows x 1292 columns]"
      ]
     },
     "execution_count": 45,
     "metadata": {},
     "output_type": "execute_result"
    }
   ],
   "source": [
    "data_10yr.head()"
   ]
  },
  {
   "cell_type": "markdown",
   "metadata": {},
   "source": [
    "## Remove unnecessary columns!"
   ]
  },
  {
   "cell_type": "code",
   "execution_count": 46,
   "metadata": {},
   "outputs": [],
   "source": [
    "data_10yr = data_10yr.drop([\"X21003.0.0\", \"X31.0.0\", \"triplet_id\",\"Unnamed: 0\"], axis = 1)"
   ]
  },
  {
   "cell_type": "code",
   "execution_count": 47,
   "metadata": {},
   "outputs": [],
   "source": [
    "data_10yr = data_10yr.set_index(\"eid\")"
   ]
  },
  {
   "cell_type": "markdown",
   "metadata": {},
   "source": [
    "## 10 Year"
   ]
  },
  {
   "cell_type": "markdown",
   "metadata": {},
   "source": [
    "#### Create features (X) and target (Y) "
   ]
  },
  {
   "cell_type": "code",
   "execution_count": 48,
   "metadata": {},
   "outputs": [],
   "source": [
    "X_10yr = data_10yr\n",
    "Y_10yr = data_10yr[\"casecont\"]"
   ]
  },
  {
   "cell_type": "markdown",
   "metadata": {},
   "source": [
    "#### Train test split"
   ]
  },
  {
   "cell_type": "code",
   "execution_count": 49,
   "metadata": {},
   "outputs": [],
   "source": [
    "X_train_10yr, X_test_10yr, Y_train_10yr, Y_test_10yr = train_test_split(X_10yr, Y_10yr, test_size = 0.25, random_state = 289)"
   ]
  },
  {
   "cell_type": "markdown",
   "metadata": {},
   "source": [
    "#### Balance the training data "
   ]
  },
  {
   "cell_type": "code",
   "execution_count": 50,
   "metadata": {},
   "outputs": [],
   "source": [
    "X_train_10yr = X_train_10yr.append(X_train_10yr[X_train_10yr[\"casecont\"] == 1])\n",
    "Y_train_10yr = Y_train_10yr.append(Y_train_10yr[Y_train_10yr == 1])\n",
    "\n",
    "X_train_10yr = X_train_10yr.drop(labels = \"casecont\", axis = 1)\n",
    "X_test_10yr = X_test_10yr.drop(labels = \"casecont\", axis = 1)"
   ]
  },
  {
   "cell_type": "markdown",
   "metadata": {},
   "source": [
    "## Lazy predict"
   ]
  },
  {
   "cell_type": "markdown",
   "metadata": {},
   "source": [
    "#### 10 year time window"
   ]
  },
  {
   "cell_type": "code",
   "execution_count": 29,
   "metadata": {},
   "outputs": [],
   "source": [
    "clf = LazyClassifier(verbose = 0, custom_metric = None)"
   ]
  },
  {
   "cell_type": "code",
   "execution_count": 30,
   "metadata": {},
   "outputs": [
    {
     "name": "stderr",
     "output_type": "stream",
     "text": [
      "100%|██████████| 29/29 [38:24<00:00, 79.48s/it]\n"
     ]
    }
   ],
   "source": [
    "models, predictions = clf.fit(X_train_10yr, X_test_10yr, Y_train_10yr, Y_test_10yr)"
   ]
  },
  {
   "cell_type": "code",
   "execution_count": 31,
   "metadata": {},
   "outputs": [
    {
     "data": {
      "text/html": [
       "<div>\n",
       "<style scoped>\n",
       "    .dataframe tbody tr th:only-of-type {\n",
       "        vertical-align: middle;\n",
       "    }\n",
       "\n",
       "    .dataframe tbody tr th {\n",
       "        vertical-align: top;\n",
       "    }\n",
       "\n",
       "    .dataframe thead th {\n",
       "        text-align: right;\n",
       "    }\n",
       "</style>\n",
       "<table border=\"1\" class=\"dataframe\">\n",
       "  <thead>\n",
       "    <tr style=\"text-align: right;\">\n",
       "      <th></th>\n",
       "      <th>Accuracy</th>\n",
       "      <th>Balanced Accuracy</th>\n",
       "      <th>ROC AUC</th>\n",
       "      <th>F1 Score</th>\n",
       "      <th>Time Taken</th>\n",
       "    </tr>\n",
       "    <tr>\n",
       "      <th>Model</th>\n",
       "      <th></th>\n",
       "      <th></th>\n",
       "      <th></th>\n",
       "      <th></th>\n",
       "      <th></th>\n",
       "    </tr>\n",
       "  </thead>\n",
       "  <tbody>\n",
       "    <tr>\n",
       "      <th>LGBMClassifier</th>\n",
       "      <td>0.79</td>\n",
       "      <td>0.78</td>\n",
       "      <td>0.78</td>\n",
       "      <td>0.79</td>\n",
       "      <td>3.25</td>\n",
       "    </tr>\n",
       "    <tr>\n",
       "      <th>XGBClassifier</th>\n",
       "      <td>0.78</td>\n",
       "      <td>0.77</td>\n",
       "      <td>0.77</td>\n",
       "      <td>0.79</td>\n",
       "      <td>10.93</td>\n",
       "    </tr>\n",
       "    <tr>\n",
       "      <th>AdaBoostClassifier</th>\n",
       "      <td>0.77</td>\n",
       "      <td>0.76</td>\n",
       "      <td>0.76</td>\n",
       "      <td>0.77</td>\n",
       "      <td>12.99</td>\n",
       "    </tr>\n",
       "    <tr>\n",
       "      <th>RandomForestClassifier</th>\n",
       "      <td>0.79</td>\n",
       "      <td>0.76</td>\n",
       "      <td>0.76</td>\n",
       "      <td>0.78</td>\n",
       "      <td>19.53</td>\n",
       "    </tr>\n",
       "    <tr>\n",
       "      <th>BaggingClassifier</th>\n",
       "      <td>0.77</td>\n",
       "      <td>0.75</td>\n",
       "      <td>0.75</td>\n",
       "      <td>0.77</td>\n",
       "      <td>11.89</td>\n",
       "    </tr>\n",
       "    <tr>\n",
       "      <th>LogisticRegression</th>\n",
       "      <td>0.74</td>\n",
       "      <td>0.71</td>\n",
       "      <td>0.71</td>\n",
       "      <td>0.74</td>\n",
       "      <td>4.15</td>\n",
       "    </tr>\n",
       "    <tr>\n",
       "      <th>DecisionTreeClassifier</th>\n",
       "      <td>0.73</td>\n",
       "      <td>0.70</td>\n",
       "      <td>0.70</td>\n",
       "      <td>0.73</td>\n",
       "      <td>2.91</td>\n",
       "    </tr>\n",
       "    <tr>\n",
       "      <th>ExtraTreesClassifier</th>\n",
       "      <td>0.75</td>\n",
       "      <td>0.70</td>\n",
       "      <td>0.70</td>\n",
       "      <td>0.74</td>\n",
       "      <td>41.81</td>\n",
       "    </tr>\n",
       "    <tr>\n",
       "      <th>LinearSVC</th>\n",
       "      <td>0.71</td>\n",
       "      <td>0.68</td>\n",
       "      <td>0.68</td>\n",
       "      <td>0.71</td>\n",
       "      <td>66.60</td>\n",
       "    </tr>\n",
       "    <tr>\n",
       "      <th>SGDClassifier</th>\n",
       "      <td>0.70</td>\n",
       "      <td>0.67</td>\n",
       "      <td>0.67</td>\n",
       "      <td>0.70</td>\n",
       "      <td>8.86</td>\n",
       "    </tr>\n",
       "    <tr>\n",
       "      <th>CalibratedClassifierCV</th>\n",
       "      <td>0.72</td>\n",
       "      <td>0.66</td>\n",
       "      <td>0.66</td>\n",
       "      <td>0.71</td>\n",
       "      <td>260.17</td>\n",
       "    </tr>\n",
       "    <tr>\n",
       "      <th>KNeighborsClassifier</th>\n",
       "      <td>0.69</td>\n",
       "      <td>0.66</td>\n",
       "      <td>0.66</td>\n",
       "      <td>0.69</td>\n",
       "      <td>134.01</td>\n",
       "    </tr>\n",
       "    <tr>\n",
       "      <th>ExtraTreeClassifier</th>\n",
       "      <td>0.69</td>\n",
       "      <td>0.65</td>\n",
       "      <td>0.65</td>\n",
       "      <td>0.69</td>\n",
       "      <td>1.85</td>\n",
       "    </tr>\n",
       "    <tr>\n",
       "      <th>Perceptron</th>\n",
       "      <td>0.66</td>\n",
       "      <td>0.65</td>\n",
       "      <td>0.65</td>\n",
       "      <td>0.67</td>\n",
       "      <td>2.42</td>\n",
       "    </tr>\n",
       "    <tr>\n",
       "      <th>PassiveAggressiveClassifier</th>\n",
       "      <td>0.68</td>\n",
       "      <td>0.64</td>\n",
       "      <td>0.64</td>\n",
       "      <td>0.68</td>\n",
       "      <td>2.28</td>\n",
       "    </tr>\n",
       "    <tr>\n",
       "      <th>BernoulliNB</th>\n",
       "      <td>0.70</td>\n",
       "      <td>0.64</td>\n",
       "      <td>0.64</td>\n",
       "      <td>0.69</td>\n",
       "      <td>1.97</td>\n",
       "    </tr>\n",
       "    <tr>\n",
       "      <th>NuSVC</th>\n",
       "      <td>0.69</td>\n",
       "      <td>0.61</td>\n",
       "      <td>0.61</td>\n",
       "      <td>0.66</td>\n",
       "      <td>1100.44</td>\n",
       "    </tr>\n",
       "    <tr>\n",
       "      <th>NearestCentroid</th>\n",
       "      <td>0.62</td>\n",
       "      <td>0.56</td>\n",
       "      <td>0.56</td>\n",
       "      <td>0.61</td>\n",
       "      <td>1.60</td>\n",
       "    </tr>\n",
       "    <tr>\n",
       "      <th>SVC</th>\n",
       "      <td>0.66</td>\n",
       "      <td>0.55</td>\n",
       "      <td>0.55</td>\n",
       "      <td>0.61</td>\n",
       "      <td>552.79</td>\n",
       "    </tr>\n",
       "    <tr>\n",
       "      <th>LinearDiscriminantAnalysis</th>\n",
       "      <td>0.61</td>\n",
       "      <td>0.54</td>\n",
       "      <td>0.54</td>\n",
       "      <td>0.60</td>\n",
       "      <td>8.59</td>\n",
       "    </tr>\n",
       "    <tr>\n",
       "      <th>RidgeClassifier</th>\n",
       "      <td>0.61</td>\n",
       "      <td>0.54</td>\n",
       "      <td>0.54</td>\n",
       "      <td>0.60</td>\n",
       "      <td>2.24</td>\n",
       "    </tr>\n",
       "    <tr>\n",
       "      <th>RidgeClassifierCV</th>\n",
       "      <td>0.61</td>\n",
       "      <td>0.54</td>\n",
       "      <td>0.54</td>\n",
       "      <td>0.60</td>\n",
       "      <td>6.77</td>\n",
       "    </tr>\n",
       "    <tr>\n",
       "      <th>LabelPropagation</th>\n",
       "      <td>0.66</td>\n",
       "      <td>0.53</td>\n",
       "      <td>0.53</td>\n",
       "      <td>0.59</td>\n",
       "      <td>15.54</td>\n",
       "    </tr>\n",
       "    <tr>\n",
       "      <th>LabelSpreading</th>\n",
       "      <td>0.65</td>\n",
       "      <td>0.53</td>\n",
       "      <td>0.53</td>\n",
       "      <td>0.58</td>\n",
       "      <td>19.19</td>\n",
       "    </tr>\n",
       "    <tr>\n",
       "      <th>GaussianNB</th>\n",
       "      <td>0.36</td>\n",
       "      <td>0.50</td>\n",
       "      <td>0.50</td>\n",
       "      <td>0.23</td>\n",
       "      <td>1.90</td>\n",
       "    </tr>\n",
       "    <tr>\n",
       "      <th>DummyClassifier</th>\n",
       "      <td>0.50</td>\n",
       "      <td>0.50</td>\n",
       "      <td>0.50</td>\n",
       "      <td>0.51</td>\n",
       "      <td>1.38</td>\n",
       "    </tr>\n",
       "    <tr>\n",
       "      <th>QuadraticDiscriminantAnalysis</th>\n",
       "      <td>0.39</td>\n",
       "      <td>0.49</td>\n",
       "      <td>0.49</td>\n",
       "      <td>0.33</td>\n",
       "      <td>7.43</td>\n",
       "    </tr>\n",
       "  </tbody>\n",
       "</table>\n",
       "</div>"
      ],
      "text/plain": [
       "                               Accuracy  Balanced Accuracy  ROC AUC  F1 Score  \\\n",
       "Model                                                                           \n",
       "LGBMClassifier                     0.79               0.78     0.78      0.79   \n",
       "XGBClassifier                      0.78               0.77     0.77      0.79   \n",
       "AdaBoostClassifier                 0.77               0.76     0.76      0.77   \n",
       "RandomForestClassifier             0.79               0.76     0.76      0.78   \n",
       "BaggingClassifier                  0.77               0.75     0.75      0.77   \n",
       "LogisticRegression                 0.74               0.71     0.71      0.74   \n",
       "DecisionTreeClassifier             0.73               0.70     0.70      0.73   \n",
       "ExtraTreesClassifier               0.75               0.70     0.70      0.74   \n",
       "LinearSVC                          0.71               0.68     0.68      0.71   \n",
       "SGDClassifier                      0.70               0.67     0.67      0.70   \n",
       "CalibratedClassifierCV             0.72               0.66     0.66      0.71   \n",
       "KNeighborsClassifier               0.69               0.66     0.66      0.69   \n",
       "ExtraTreeClassifier                0.69               0.65     0.65      0.69   \n",
       "Perceptron                         0.66               0.65     0.65      0.67   \n",
       "PassiveAggressiveClassifier        0.68               0.64     0.64      0.68   \n",
       "BernoulliNB                        0.70               0.64     0.64      0.69   \n",
       "NuSVC                              0.69               0.61     0.61      0.66   \n",
       "NearestCentroid                    0.62               0.56     0.56      0.61   \n",
       "SVC                                0.66               0.55     0.55      0.61   \n",
       "LinearDiscriminantAnalysis         0.61               0.54     0.54      0.60   \n",
       "RidgeClassifier                    0.61               0.54     0.54      0.60   \n",
       "RidgeClassifierCV                  0.61               0.54     0.54      0.60   \n",
       "LabelPropagation                   0.66               0.53     0.53      0.59   \n",
       "LabelSpreading                     0.65               0.53     0.53      0.58   \n",
       "GaussianNB                         0.36               0.50     0.50      0.23   \n",
       "DummyClassifier                    0.50               0.50     0.50      0.51   \n",
       "QuadraticDiscriminantAnalysis      0.39               0.49     0.49      0.33   \n",
       "\n",
       "                               Time Taken  \n",
       "Model                                      \n",
       "LGBMClassifier                       3.25  \n",
       "XGBClassifier                       10.93  \n",
       "AdaBoostClassifier                  12.99  \n",
       "RandomForestClassifier              19.53  \n",
       "BaggingClassifier                   11.89  \n",
       "LogisticRegression                   4.15  \n",
       "DecisionTreeClassifier               2.91  \n",
       "ExtraTreesClassifier                41.81  \n",
       "LinearSVC                           66.60  \n",
       "SGDClassifier                        8.86  \n",
       "CalibratedClassifierCV             260.17  \n",
       "KNeighborsClassifier               134.01  \n",
       "ExtraTreeClassifier                  1.85  \n",
       "Perceptron                           2.42  \n",
       "PassiveAggressiveClassifier          2.28  \n",
       "BernoulliNB                          1.97  \n",
       "NuSVC                             1100.44  \n",
       "NearestCentroid                      1.60  \n",
       "SVC                                552.79  \n",
       "LinearDiscriminantAnalysis           8.59  \n",
       "RidgeClassifier                      2.24  \n",
       "RidgeClassifierCV                    6.77  \n",
       "LabelPropagation                    15.54  \n",
       "LabelSpreading                      19.19  \n",
       "GaussianNB                           1.90  \n",
       "DummyClassifier                      1.38  \n",
       "QuadraticDiscriminantAnalysis        7.43  "
      ]
     },
     "execution_count": 31,
     "metadata": {},
     "output_type": "execute_result"
    }
   ],
   "source": [
    "models"
   ]
  },
  {
   "cell_type": "markdown",
   "metadata": {},
   "source": [
    "## XGBoost"
   ]
  },
  {
   "cell_type": "code",
   "execution_count": 157,
   "metadata": {},
   "outputs": [],
   "source": [
    "model = xgb.XGBClassifier()"
   ]
  },
  {
   "cell_type": "code",
   "execution_count": 158,
   "metadata": {},
   "outputs": [
    {
     "data": {
      "text/plain": [
       "XGBClassifier(base_score=0.5, booster='gbtree', colsample_bylevel=1,\n",
       "              colsample_bynode=1, colsample_bytree=1, gamma=0, gpu_id=-1,\n",
       "              importance_type='gain', interaction_constraints='',\n",
       "              learning_rate=0.300000012, max_delta_step=0, max_depth=6,\n",
       "              min_child_weight=1, missing=nan, monotone_constraints='()',\n",
       "              n_estimators=100, n_jobs=0, num_parallel_tree=1, random_state=0,\n",
       "              reg_alpha=0, reg_lambda=1, scale_pos_weight=1, subsample=1,\n",
       "              tree_method='exact', validate_parameters=1, verbosity=None)"
      ]
     },
     "execution_count": 158,
     "metadata": {},
     "output_type": "execute_result"
    }
   ],
   "source": [
    "model.fit(X_train_10yr, Y_train_10yr)"
   ]
  },
  {
   "cell_type": "code",
   "execution_count": 159,
   "metadata": {},
   "outputs": [
    {
     "data": {
      "text/plain": [
       "0.7835373795259182"
      ]
     },
     "execution_count": 159,
     "metadata": {},
     "output_type": "execute_result"
    }
   ],
   "source": [
    "model.score(X_test_10yr, Y_test_10yr)"
   ]
  },
  {
   "cell_type": "markdown",
   "metadata": {},
   "source": [
    "#### Adjust max_depth parameter, starting with 3 and incrementing by 1"
   ]
  },
  {
   "cell_type": "code",
   "execution_count": 133,
   "metadata": {},
   "outputs": [],
   "source": [
    "params = {\n",
    "    \"max_depth\" : [3, 4, 5, 6, 7, 8, 9, 10]\n",
    "}"
   ]
  },
  {
   "cell_type": "code",
   "execution_count": 134,
   "metadata": {},
   "outputs": [],
   "source": [
    "model = xgb.XGBClassifier()\n",
    "grid = GridSearchCV(estimator = model, param_grid = params, cv = 10, n_jobs = 20, verbose = 3)"
   ]
  },
  {
   "cell_type": "code",
   "execution_count": 135,
   "metadata": {},
   "outputs": [
    {
     "name": "stdout",
     "output_type": "stream",
     "text": [
      "Fitting 10 folds for each of 1 candidates, totalling 10 fits\n"
     ]
    },
    {
     "name": "stderr",
     "output_type": "stream",
     "text": [
      "[Parallel(n_jobs=20)]: Using backend LokyBackend with 20 concurrent workers.\n",
      "[Parallel(n_jobs=20)]: Done   3 out of  10 | elapsed:  3.0min remaining:  7.0min\n",
      "[Parallel(n_jobs=20)]: Done   7 out of  10 | elapsed:  3.4min remaining:  1.5min\n",
      "[Parallel(n_jobs=20)]: Done  10 out of  10 | elapsed:  3.4min finished\n"
     ]
    },
    {
     "data": {
      "text/plain": [
       "GridSearchCV(cv=10,\n",
       "             estimator=XGBClassifier(base_score=None, booster=None,\n",
       "                                     colsample_bylevel=None,\n",
       "                                     colsample_bynode=None,\n",
       "                                     colsample_bytree=None, gamma=None,\n",
       "                                     gpu_id=None, importance_type='gain',\n",
       "                                     interaction_constraints=None,\n",
       "                                     learning_rate=None, max_delta_step=None,\n",
       "                                     max_depth=None, min_child_weight=None,\n",
       "                                     missing=nan, monotone_constraints=None,\n",
       "                                     n_estimators=100, n_jobs=None,\n",
       "                                     num_parallel_tree=None, random_state=None,\n",
       "                                     reg_alpha=None, reg_lambda=None,\n",
       "                                     scale_pos_weight=None, subsample=None,\n",
       "                                     tree_method=None, validate_parameters=None,\n",
       "                                     verbosity=None),\n",
       "             n_jobs=20, param_grid={'max_depth': [5]}, verbose=3)"
      ]
     },
     "execution_count": 135,
     "metadata": {},
     "output_type": "execute_result"
    }
   ],
   "source": [
    "grid.fit(X_train_10yr, Y_train_10yr)"
   ]
  },
  {
   "cell_type": "code",
   "execution_count": 136,
   "metadata": {},
   "outputs": [
    {
     "name": "stdout",
     "output_type": "stream",
     "text": [
      "XGBClassifier(base_score=0.5, booster='gbtree', colsample_bylevel=1,\n",
      "              colsample_bynode=1, colsample_bytree=1, gamma=0, gpu_id=-1,\n",
      "              importance_type='gain', interaction_constraints='',\n",
      "              learning_rate=0.300000012, max_delta_step=0, max_depth=5,\n",
      "              min_child_weight=1, missing=nan, monotone_constraints='()',\n",
      "              n_estimators=100, n_jobs=0, num_parallel_tree=1, random_state=0,\n",
      "              reg_alpha=0, reg_lambda=1, scale_pos_weight=1, subsample=1,\n",
      "              tree_method='exact', validate_parameters=1, verbosity=None)\n",
      "{'max_depth': 5}\n"
     ]
    }
   ],
   "source": [
    "print(grid.best_estimator_)\n",
    "print(grid.best_params_)"
   ]
  },
  {
   "cell_type": "code",
   "execution_count": 137,
   "metadata": {},
   "outputs": [
    {
     "name": "stdout",
     "output_type": "stream",
     "text": [
      "Training score: 0.853588454254555\n",
      "Test score: 0.7835373795259182\n"
     ]
    }
   ],
   "source": [
    "score = grid.best_estimator_.score(X_train_10yr, Y_train_10yr)\n",
    "print(f\"Training score: {score}\")\n",
    "\n",
    "score = grid.best_estimator_.score(X_test_10yr, Y_test_10yr)\n",
    "print(f\"Test score: {score}\")"
   ]
  },
  {
   "cell_type": "code",
   "execution_count": 78,
   "metadata": {},
   "outputs": [
    {
     "data": {
      "text/plain": [
       "{'mean_fit_time': array([224.04391742, 315.29138455, 388.48249807, 486.95465341,\n",
       "        557.25365486, 609.65080128, 615.42437406, 562.41762214]),\n",
       " 'std_fit_time': array([12.31904463,  8.53022038, 18.70713556, 11.36638558, 10.09275636,\n",
       "         7.91731629,  7.03922732,  4.96658733]),\n",
       " 'mean_score_time': array([1.29556036, 1.59916172, 1.71170607, 1.53338604, 1.502425  ,\n",
       "        0.71853242, 0.66794562, 0.26432519]),\n",
       " 'std_score_time': array([0.5062905 , 0.29363112, 0.24186868, 0.61186157, 0.47586766,\n",
       "        0.09815936, 0.20012607, 0.05191629]),\n",
       " 'param_max_depth': masked_array(data=[3, 4, 5, 6, 7, 8, 9, 10],\n",
       "              mask=[False, False, False, False, False, False, False, False],\n",
       "        fill_value='?',\n",
       "             dtype=object),\n",
       " 'params': [{'max_depth': 3},\n",
       "  {'max_depth': 4},\n",
       "  {'max_depth': 5},\n",
       "  {'max_depth': 6},\n",
       "  {'max_depth': 7},\n",
       "  {'max_depth': 8},\n",
       "  {'max_depth': 9},\n",
       "  {'max_depth': 10}],\n",
       " 'split0_test_score': array([0.78746327, 0.79497225, 0.81488737, 0.81456089, 0.81945805,\n",
       "        0.83512896, 0.84100555, 0.85210578]),\n",
       " 'split1_test_score': array([0.79823702, 0.8086843 , 0.82043748, 0.82468168, 0.83055828,\n",
       "        0.83512896, 0.84982044, 0.85047339]),\n",
       " 'split2_test_score': array([0.78191316, 0.79399282, 0.79888998, 0.81619327, 0.81554032,\n",
       "        0.82435521, 0.84198498, 0.83839373]),\n",
       " 'split3_test_score': array([0.79588504, 0.80437622, 0.81286741, 0.82103201, 0.83409536,\n",
       "        0.83932071, 0.84715872, 0.85271065]),\n",
       " 'split4_test_score': array([0.80502939, 0.8089484 , 0.82364468, 0.8272371 , 0.83115611,\n",
       "        0.84519922, 0.85140431, 0.86120183]),\n",
       " 'mean_test_score': array([0.79370558, 0.8021948 , 0.81414538, 0.82074099, 0.82616162,\n",
       "        0.83582661, 0.8462748 , 0.85097708]),\n",
       " 'std_test_score': array([0.00814298, 0.00651032, 0.00854094, 0.00483091, 0.00727969,\n",
       "        0.00682086, 0.00414324, 0.00731326]),\n",
       " 'rank_test_score': array([8, 7, 6, 5, 4, 3, 2, 1], dtype=int32)}"
      ]
     },
     "execution_count": 78,
     "metadata": {},
     "output_type": "execute_result"
    }
   ],
   "source": [
    "grid.cv_results_"
   ]
  },
  {
   "cell_type": "markdown",
   "metadata": {},
   "source": [
    "#### Settle on a max_depth of 4, now time to run a gridsearchCV on the remaining important parameters"
   ]
  },
  {
   "cell_type": "markdown",
   "metadata": {},
   "source": [
    "#### We will run a gridsearch on learning_rate, subsample, colsample_bytree and gamma!"
   ]
  },
  {
   "cell_type": "code",
   "execution_count": 140,
   "metadata": {},
   "outputs": [],
   "source": [
    "params = {\n",
    "    \"learning_rate\" : [0.1, 0.05, 0.01],\n",
    "    \"subsample\" : [0.8, 0.9, 1],\n",
    "    \"colsample_bytree\" : [0.3, 0.4, 0.5, 0.6, 0.7, 0.8],\n",
    "    \"gamma\" : [0, 1, 5],\n",
    "    \"max_depth\" : [4]\n",
    "}"
   ]
  },
  {
   "cell_type": "code",
   "execution_count": 141,
   "metadata": {},
   "outputs": [],
   "source": [
    "model = xgb.XGBClassifier()\n",
    "grid = GridSearchCV(estimator = model, param_grid = params, cv = 2, n_jobs = 20, verbose = 3)"
   ]
  },
  {
   "cell_type": "code",
   "execution_count": 142,
   "metadata": {},
   "outputs": [
    {
     "name": "stdout",
     "output_type": "stream",
     "text": [
      "Fitting 2 folds for each of 162 candidates, totalling 324 fits\n"
     ]
    },
    {
     "name": "stderr",
     "output_type": "stream",
     "text": [
      "[Parallel(n_jobs=20)]: Using backend LokyBackend with 20 concurrent workers.\n",
      "[Parallel(n_jobs=20)]: Done  88 tasks      | elapsed: 20.9min\n",
      "[Parallel(n_jobs=20)]: Done 248 tasks      | elapsed: 56.8min\n",
      "[Parallel(n_jobs=20)]: Done 324 out of 324 | elapsed: 71.9min finished\n"
     ]
    },
    {
     "data": {
      "text/plain": [
       "GridSearchCV(cv=2,\n",
       "             estimator=XGBClassifier(base_score=None, booster=None,\n",
       "                                     colsample_bylevel=None,\n",
       "                                     colsample_bynode=None,\n",
       "                                     colsample_bytree=None, gamma=None,\n",
       "                                     gpu_id=None, importance_type='gain',\n",
       "                                     interaction_constraints=None,\n",
       "                                     learning_rate=None, max_delta_step=None,\n",
       "                                     max_depth=None, min_child_weight=None,\n",
       "                                     missing=nan, monotone_constraints=None,\n",
       "                                     n_estimators=100, n_jobs=None,\n",
       "                                     num_parallel_tree=None, random_state=None,\n",
       "                                     reg_alpha=None, reg_lambda=None,\n",
       "                                     scale_pos_weight=None, subsample=None,\n",
       "                                     tree_method=None, validate_parameters=None,\n",
       "                                     verbosity=None),\n",
       "             n_jobs=20,\n",
       "             param_grid={'colsample_bytree': [0.3, 0.4, 0.5, 0.6, 0.7, 0.8],\n",
       "                         'gamma': [0, 1, 5], 'learning_rate': [0.1, 0.05, 0.01],\n",
       "                         'max_depth': [4], 'subsample': [0.8, 0.9, 1]},\n",
       "             verbose=3)"
      ]
     },
     "execution_count": 142,
     "metadata": {},
     "output_type": "execute_result"
    }
   ],
   "source": [
    "grid.fit(X_train_10yr, Y_train_10yr)"
   ]
  },
  {
   "cell_type": "code",
   "execution_count": 143,
   "metadata": {},
   "outputs": [
    {
     "name": "stdout",
     "output_type": "stream",
     "text": [
      "XGBClassifier(base_score=0.5, booster='gbtree', colsample_bylevel=1,\n",
      "              colsample_bynode=1, colsample_bytree=0.6, gamma=0, gpu_id=-1,\n",
      "              importance_type='gain', interaction_constraints='',\n",
      "              learning_rate=0.1, max_delta_step=0, max_depth=4,\n",
      "              min_child_weight=1, missing=nan, monotone_constraints='()',\n",
      "              n_estimators=100, n_jobs=0, num_parallel_tree=1, random_state=0,\n",
      "              reg_alpha=0, reg_lambda=1, scale_pos_weight=1, subsample=0.8,\n",
      "              tree_method='exact', validate_parameters=1, verbosity=None)\n",
      "{'colsample_bytree': 0.6, 'gamma': 0, 'learning_rate': 0.1, 'max_depth': 4, 'subsample': 0.8}\n"
     ]
    }
   ],
   "source": [
    "print(grid.best_estimator_)\n",
    "print(grid.best_params_)"
   ]
  },
  {
   "cell_type": "code",
   "execution_count": 144,
   "metadata": {},
   "outputs": [
    {
     "name": "stdout",
     "output_type": "stream",
     "text": [
      "Training score: 0.804218637758767\n",
      "Test score: 0.7772857514977859\n"
     ]
    }
   ],
   "source": [
    "score = grid.best_estimator_.score(X_train_10yr, Y_train_10yr)\n",
    "print(f\"Training score: {score}\")\n",
    "\n",
    "score = grid.best_estimator_.score(X_test_10yr, Y_test_10yr)\n",
    "print(f\"Test score: {score}\")"
   ]
  },
  {
   "cell_type": "markdown",
   "metadata": {},
   "source": [
    "#### Finally, let's get out all of the metrics for the predictive accuracy of the final model "
   ]
  },
  {
   "cell_type": "markdown",
   "metadata": {},
   "source": [
    "## Final metrics for baseline XGBoost model"
   ]
  },
  {
   "cell_type": "code",
   "execution_count": 160,
   "metadata": {},
   "outputs": [
    {
     "name": "stdout",
     "output_type": "stream",
     "text": [
      "[[2024  492]\n",
      " [ 339  984]]\n",
      "ROC/AUC score => 0.77\n",
      "Accuracy score => 0.78\n",
      "F1 score => 0.7\n",
      "Recall score => 0.74\n",
      "precision score => 0.67\n"
     ]
    }
   ],
   "source": [
    "preds = model.predict(X_test_10yr)\n",
    "roc_auc = round(roc_auc_score(Y_test_10yr, preds), 2)\n",
    "accuracy = round(accuracy_score(Y_test_10yr, preds), 2)\n",
    "f1 = round(f1_score(Y_test_10yr, preds), 2)\n",
    "recall = round(recall_score(Y_test_10yr, preds), 2)\n",
    "precision = round(precision_score(Y_test_10yr, preds), 2)\n",
    "\n",
    "print(confusion_matrix(Y_test_10yr, preds))\n",
    "print(f\"ROC/AUC score => {roc_auc}\")\n",
    "print(f\"Accuracy score => {accuracy}\")\n",
    "print(f\"F1 score => {f1}\")\n",
    "print(f\"Recall score => {recall}\")\n",
    "print(f\"precision score => {precision}\")"
   ]
  },
  {
   "cell_type": "markdown",
   "metadata": {},
   "source": [
    "## Final metrics for tuned XGBoost model"
   ]
  },
  {
   "cell_type": "code",
   "execution_count": 161,
   "metadata": {},
   "outputs": [
    {
     "name": "stdout",
     "output_type": "stream",
     "text": [
      "[[1963  553]\n",
      " [ 302 1021]]\n",
      "ROC/AUC score => 0.78\n",
      "Accuracy score => 0.78\n",
      "F1 score => 0.7\n",
      "Recall score => 0.77\n",
      "precision score => 0.65\n"
     ]
    }
   ],
   "source": [
    "preds = grid.best_estimator_.predict(X_test_10yr)\n",
    "roc_auc = round(roc_auc_score(Y_test_10yr, preds), 2)\n",
    "accuracy = round(accuracy_score(Y_test_10yr, preds), 2)\n",
    "f1 = round(f1_score(Y_test_10yr, preds), 2)\n",
    "recall = round(recall_score(Y_test_10yr, preds), 2)\n",
    "precision = round(precision_score(Y_test_10yr, preds), 2)\n",
    "\n",
    "print(confusion_matrix(Y_test_10yr, preds))\n",
    "print(f\"ROC/AUC score => {roc_auc}\")\n",
    "print(f\"Accuracy score => {accuracy}\")\n",
    "print(f\"F1 score => {f1}\")\n",
    "print(f\"Recall score => {recall}\")\n",
    "print(f\"precision score => {precision}\")"
   ]
  },
  {
   "cell_type": "markdown",
   "metadata": {},
   "source": [
    "## Increase tree max depth to 6 (Best performance all things considered...)"
   ]
  },
  {
   "cell_type": "code",
   "execution_count": 201,
   "metadata": {},
   "outputs": [],
   "source": [
    "model = xgb.XGBClassifier(colsample_bytree = 0.6, gamma = 0, learning_rate = 0.1, max_depth = 6, subsample = 0.8)"
   ]
  },
  {
   "cell_type": "code",
   "execution_count": 202,
   "metadata": {},
   "outputs": [
    {
     "data": {
      "text/plain": [
       "XGBClassifier(base_score=0.5, booster='gbtree', colsample_bylevel=1,\n",
       "              colsample_bynode=1, colsample_bytree=0.6, gamma=0, gpu_id=-1,\n",
       "              importance_type='gain', interaction_constraints='',\n",
       "              learning_rate=0.1, max_delta_step=0, max_depth=6,\n",
       "              min_child_weight=1, missing=nan, monotone_constraints='()',\n",
       "              n_estimators=100, n_jobs=0, num_parallel_tree=1, random_state=0,\n",
       "              reg_alpha=0, reg_lambda=1, scale_pos_weight=1, subsample=0.8,\n",
       "              tree_method='exact', validate_parameters=1, verbosity=None)"
      ]
     },
     "execution_count": 202,
     "metadata": {},
     "output_type": "execute_result"
    }
   ],
   "source": [
    "model.fit(X_train_10yr, Y_train_10yr)"
   ]
  },
  {
   "cell_type": "code",
   "execution_count": 203,
   "metadata": {},
   "outputs": [
    {
     "name": "stdout",
     "output_type": "stream",
     "text": [
      "[[2004  512]\n",
      " [ 311 1012]]\n",
      "ROC/AUC score => 0.78\n",
      "Accuracy score => 0.79\n",
      "F1 score => 0.71\n",
      "Recall score => 0.76\n",
      "precision score => 0.66\n"
     ]
    }
   ],
   "source": [
    "preds = model.predict(X_test_10yr)\n",
    "roc_auc = round(roc_auc_score(Y_test_10yr, preds), 2)\n",
    "accuracy = round(accuracy_score(Y_test_10yr, preds), 2)\n",
    "f1 = round(f1_score(Y_test_10yr, preds), 2)\n",
    "recall = round(recall_score(Y_test_10yr, preds), 2)\n",
    "precision = round(precision_score(Y_test_10yr, preds), 2)\n",
    "\n",
    "print(confusion_matrix(Y_test_10yr, preds))\n",
    "print(f\"ROC/AUC score => {roc_auc}\")\n",
    "print(f\"Accuracy score => {accuracy}\")\n",
    "print(f\"F1 score => {f1}\")\n",
    "print(f\"Recall score => {recall}\")\n",
    "print(f\"precision score => {precision}\")"
   ]
  }
 ],
 "metadata": {
  "kernelspec": {
   "display_name": "Python 3",
   "language": "python",
   "name": "python3"
  },
  "language_info": {
   "codemirror_mode": {
    "name": "ipython",
    "version": 3
   },
   "file_extension": ".py",
   "mimetype": "text/x-python",
   "name": "python",
   "nbconvert_exporter": "python",
   "pygments_lexer": "ipython3",
   "version": "3.6.8"
  }
 },
 "nbformat": 4,
 "nbformat_minor": 2
}

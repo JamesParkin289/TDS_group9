{
 "cells": [
  {
   "cell_type": "markdown",
   "metadata": {},
   "source": [
    "# Random forest model for UKb feature set with 40% missing data cutoff"
   ]
  },
  {
   "cell_type": "markdown",
   "metadata": {},
   "source": [
    "## Libraries"
   ]
  },
  {
   "cell_type": "code",
   "execution_count": 1,
   "metadata": {},
   "outputs": [],
   "source": [
    "import os\n",
    "import numpy as np \n",
    "import pandas as pd\n",
    "import matplotlib.pyplot as plt\n",
    "import seaborn as sns\n",
    "              \n",
    "from sklearn.model_selection import train_test_split, StratifiedKFold, GridSearchCV\n",
    "from sklearn.metrics import confusion_matrix, roc_auc_score, accuracy_score, f1_score, recall_score, precision_score, roc_curve\n",
    "from sklearn.utils import resample\n",
    "from sklearn.ensemble import RandomForestClassifier"
   ]
  },
  {
   "cell_type": "markdown",
   "metadata": {},
   "source": [
    "## Directory"
   ]
  },
  {
   "cell_type": "code",
   "execution_count": 2,
   "metadata": {},
   "outputs": [],
   "source": [
    "os.chdir(\"/rds/general/project/hda_students_data/live/Group9/General/Data/Final_final_final_datasets/UKb40\")"
   ]
  },
  {
   "cell_type": "markdown",
   "metadata": {},
   "source": [
    "## Load in data"
   ]
  },
  {
   "cell_type": "markdown",
   "metadata": {},
   "source": [
    "### UKb column names"
   ]
  },
  {
   "cell_type": "code",
   "execution_count": 3,
   "metadata": {},
   "outputs": [],
   "source": [
    "UKb_col_names = pd.read_csv(\"../../../James/TDS_project/Scripts/lazy_predict_scripts/fourty_colnames.csv\")"
   ]
  },
  {
   "cell_type": "code",
   "execution_count": 4,
   "metadata": {},
   "outputs": [],
   "source": [
    "ls_UKb_cols = [\"X54.0.0\"]\n",
    "for i in UKb_col_names[:291].values:\n",
    "    i = str(i)\n",
    "    i = i.replace(\"[\", \"\")\n",
    "    i = i.replace(\"]\", \"\")\n",
    "    i = i.replace(\"'\", \"\")\n",
    "    ls_UKb_cols.append(i)\n",
    "\n",
    "UKb_col_count = len(ls_UKb_cols)"
   ]
  },
  {
   "cell_type": "markdown",
   "metadata": {},
   "source": [
    "### UKB feature set"
   ]
  },
  {
   "cell_type": "code",
   "execution_count": 5,
   "metadata": {},
   "outputs": [],
   "source": [
    "cols = pd.read_csv(\"../../1_3_5_10_hes/hes_10yr_A00Z99_bin.csv\")\n",
    "ICD_10yr_cols = cols.columns[5:]\n",
    "col_count = len(ICD_10yr_cols)"
   ]
  },
  {
   "cell_type": "code",
   "execution_count": 6,
   "metadata": {},
   "outputs": [],
   "source": [
    "X_train = pd.read_csv(\"X_train_10yr_UKb40_A00toZ99_bin.csv\")\n",
    "Y_train = pd.read_csv(\"Y_train_10yr_UKb40_A00toZ99_bin.csv\")\n",
    "X_test = pd.read_csv(\"X_test_10yr_UKb40_A00toZ99_bin.csv\")\n",
    "Y_test = pd.read_csv(\"Y_test_10yr_UKb40_A00toZ99_bin.csv\")"
   ]
  },
  {
   "cell_type": "code",
   "execution_count": 7,
   "metadata": {},
   "outputs": [],
   "source": [
    "names = X_train.columns.tolist() \n",
    "names[-col_count:] = ICD_10yr_cols\n",
    "X_train.columns = names\n",
    "\n",
    "names = X_test.columns.tolist() \n",
    "names[-col_count:] = ICD_10yr_cols\n",
    "X_test.columns = names"
   ]
  },
  {
   "cell_type": "code",
   "execution_count": 8,
   "metadata": {},
   "outputs": [],
   "source": [
    "names = X_train.columns.tolist()\n",
    "end = UKb_col_count +1\n",
    "names[1:end] = ls_UKb_cols\n",
    "X_train.columns = names\n",
    "\n",
    "names = X_test.columns.tolist() \n",
    "names[1:end] = ls_UKb_cols\n",
    "X_test.columns = names"
   ]
  },
  {
   "cell_type": "code",
   "execution_count": 9,
   "metadata": {},
   "outputs": [
    {
     "data": {
      "text/plain": [
       "292"
      ]
     },
     "execution_count": 9,
     "metadata": {},
     "output_type": "execute_result"
    }
   ],
   "source": [
    "UKb_col_count"
   ]
  },
  {
   "cell_type": "code",
   "execution_count": 10,
   "metadata": {},
   "outputs": [],
   "source": [
    "X_train = X_train.drop([\"Unnamed: 0\"], axis = 1)\n",
    "X_test = X_test.drop([\"Unnamed: 0\"], axis = 1)\n",
    "\n",
    "X_train_UKb = X_train.iloc[:, 0:292]\n",
    "X_test_UKb = X_test.iloc[:, 0:292]"
   ]
  },
  {
   "cell_type": "code",
   "execution_count": 11,
   "metadata": {},
   "outputs": [],
   "source": [
    "Y_train_UKb = Y_train\n",
    "Y_test_UKb = Y_test"
   ]
  },
  {
   "cell_type": "code",
   "execution_count": 12,
   "metadata": {},
   "outputs": [],
   "source": [
    "Y_train_UKb = Y_train_UKb.drop([\"Unnamed: 0\"], axis = 1)\n",
    "Y_test_UKb = Y_test_UKb.drop([\"Unnamed: 0\"], axis = 1)"
   ]
  },
  {
   "cell_type": "markdown",
   "metadata": {},
   "source": [
    "### 10 year time window"
   ]
  },
  {
   "cell_type": "code",
   "execution_count": 13,
   "metadata": {},
   "outputs": [],
   "source": [
    "cols = pd.read_csv(\"../../1_3_5_10_hes/hes_10yr_A00Z99_bin.csv\")\n",
    "ICD_10yr_cols = cols.columns[5:]\n",
    "col_count = len(ICD_10yr_cols)"
   ]
  },
  {
   "cell_type": "code",
   "execution_count": 14,
   "metadata": {},
   "outputs": [],
   "source": [
    "X_train_10yr = pd.read_csv(\"X_train_10yr_UKb40_A00toZ99_bin.csv\")\n",
    "Y_train_10yr = pd.read_csv(\"Y_train_10yr_UKb40_A00toZ99_bin.csv\")\n",
    "X_test_10yr = pd.read_csv(\"X_test_10yr_UKb40_A00toZ99_bin.csv\")\n",
    "Y_test_10yr = pd.read_csv(\"Y_test_10yr_UKb40_A00toZ99_bin.csv\")"
   ]
  },
  {
   "cell_type": "code",
   "execution_count": 15,
   "metadata": {},
   "outputs": [],
   "source": [
    "names = X_train_10yr.columns.tolist() \n",
    "names[-col_count:] = ICD_10yr_cols\n",
    "X_train_10yr.columns = names\n",
    "\n",
    "names = X_test_10yr.columns.tolist() \n",
    "names[-col_count:] = ICD_10yr_cols\n",
    "X_test_10yr.columns = names"
   ]
  },
  {
   "cell_type": "code",
   "execution_count": 16,
   "metadata": {},
   "outputs": [],
   "source": [
    "names = X_train_10yr.columns.tolist()\n",
    "end = UKb_col_count +1\n",
    "names[1:end] = ls_UKb_cols\n",
    "X_train_10yr.columns = names\n",
    "\n",
    "names = X_test_10yr.columns.tolist() \n",
    "names[1:end] = ls_UKb_cols\n",
    "X_test_10yr.columns = names"
   ]
  },
  {
   "cell_type": "markdown",
   "metadata": {},
   "source": [
    "### 5 year time window"
   ]
  },
  {
   "cell_type": "code",
   "execution_count": 17,
   "metadata": {},
   "outputs": [],
   "source": [
    "cols = pd.read_csv(\"../../1_3_5_10_hes/hes_5yr_A00Z99_bin.csv\")\n",
    "ICD_5yr_cols = cols.columns[5:]\n",
    "col_count = len(ICD_5yr_cols)"
   ]
  },
  {
   "cell_type": "code",
   "execution_count": 18,
   "metadata": {},
   "outputs": [],
   "source": [
    "X_train_5yr = pd.read_csv(\"X_train_5yr_UKb40_A00toZ99_bin.csv\")\n",
    "Y_train_5yr = pd.read_csv(\"Y_train_5yr_UKb40_A00toZ99_bin.csv\")\n",
    "X_test_5yr = pd.read_csv(\"X_test_5yr_UKb40_A00toZ99_bin.csv\")\n",
    "Y_test_5yr = pd.read_csv(\"Y_test_5yr_UKb40_A00toZ99_bin.csv\")"
   ]
  },
  {
   "cell_type": "code",
   "execution_count": 19,
   "metadata": {},
   "outputs": [],
   "source": [
    "names = X_train_5yr.columns.tolist() \n",
    "names[-col_count:] = ICD_5yr_cols\n",
    "X_train_5yr.columns = names\n",
    "\n",
    "names = X_test_5yr.columns.tolist() \n",
    "names[-col_count:] = ICD_5yr_cols\n",
    "X_test_5yr.columns = names"
   ]
  },
  {
   "cell_type": "code",
   "execution_count": 20,
   "metadata": {},
   "outputs": [],
   "source": [
    "names = X_train_5yr.columns.tolist()\n",
    "end = UKb_col_count +1\n",
    "names[1:end] = ls_UKb_cols\n",
    "X_train_5yr.columns = names\n",
    "\n",
    "names = X_test_5yr.columns.tolist() \n",
    "names[1:end] = ls_UKb_cols\n",
    "X_test_5yr.columns = names"
   ]
  },
  {
   "cell_type": "markdown",
   "metadata": {},
   "source": [
    "### 3 year time window"
   ]
  },
  {
   "cell_type": "code",
   "execution_count": 21,
   "metadata": {},
   "outputs": [],
   "source": [
    "cols = pd.read_csv(\"../../1_3_5_10_hes/hes_3yr_A00Z99_bin.csv\")\n",
    "ICD_3yr_cols = cols.columns[5:]\n",
    "col_count = len(ICD_3yr_cols)"
   ]
  },
  {
   "cell_type": "code",
   "execution_count": 22,
   "metadata": {},
   "outputs": [],
   "source": [
    "X_train_3yr = pd.read_csv(\"X_train_3yr_UKb40_A00toZ99_bin.csv\")\n",
    "Y_train_3yr = pd.read_csv(\"Y_train_3yr_UKb40_A00toZ99_bin.csv\")\n",
    "X_test_3yr = pd.read_csv(\"X_test_3yr_UKb40_A00toZ99_bin.csv\")\n",
    "Y_test_3yr = pd.read_csv(\"Y_test_3yr_UKb40_A00toZ99_bin.csv\")"
   ]
  },
  {
   "cell_type": "code",
   "execution_count": 23,
   "metadata": {},
   "outputs": [],
   "source": [
    "names = X_train_3yr.columns.tolist() \n",
    "names[-col_count:] = ICD_3yr_cols\n",
    "X_train_3yr.columns = names\n",
    "\n",
    "names = X_test_3yr.columns.tolist() \n",
    "names[-col_count:] = ICD_3yr_cols\n",
    "X_test_3yr.columns = names"
   ]
  },
  {
   "cell_type": "code",
   "execution_count": 24,
   "metadata": {},
   "outputs": [],
   "source": [
    "names = X_train_3yr.columns.tolist()\n",
    "end = UKb_col_count +1\n",
    "names[1:end] = ls_UKb_cols\n",
    "X_train_3yr.columns = names\n",
    "\n",
    "names = X_test_3yr.columns.tolist() \n",
    "names[1:end] = ls_UKb_cols\n",
    "X_test_3yr.columns = names"
   ]
  },
  {
   "cell_type": "markdown",
   "metadata": {},
   "source": [
    "### 1 year time window"
   ]
  },
  {
   "cell_type": "code",
   "execution_count": 25,
   "metadata": {},
   "outputs": [],
   "source": [
    "cols = pd.read_csv(\"../../1_3_5_10_hes/hes_1yr_A00Z99_bin.csv\")\n",
    "ICD_1yr_cols = cols.columns[5:]\n",
    "col_count = len(ICD_1yr_cols)"
   ]
  },
  {
   "cell_type": "code",
   "execution_count": 26,
   "metadata": {},
   "outputs": [],
   "source": [
    "X_train_1yr = pd.read_csv(\"X_train_1yr_UKb40_A00toZ99_bin.csv\")\n",
    "Y_train_1yr = pd.read_csv(\"Y_train_1yr_UKb40_A00toZ99_bin.csv\")\n",
    "X_test_1yr = pd.read_csv(\"X_test_1yr_UKb40_A00toZ99_bin.csv\")\n",
    "Y_test_1yr = pd.read_csv(\"Y_test_1yr_UKb40_A00toZ99_bin.csv\")"
   ]
  },
  {
   "cell_type": "code",
   "execution_count": 27,
   "metadata": {},
   "outputs": [],
   "source": [
    "names = X_train_1yr.columns.tolist() \n",
    "names[-col_count:] = ICD_1yr_cols\n",
    "X_train_1yr.columns = names\n",
    "\n",
    "names = X_test_1yr.columns.tolist() \n",
    "names[-col_count:] = ICD_1yr_cols\n",
    "X_test_1yr.columns = names"
   ]
  },
  {
   "cell_type": "code",
   "execution_count": 28,
   "metadata": {},
   "outputs": [],
   "source": [
    "names = X_train_1yr.columns.tolist()\n",
    "end = UKb_col_count +1\n",
    "names[1:end] = ls_UKb_cols\n",
    "X_train_1yr.columns = names\n",
    "\n",
    "names = X_test_1yr.columns.tolist() \n",
    "names[1:end] = ls_UKb_cols\n",
    "X_test_1yr.columns = names"
   ]
  },
  {
   "cell_type": "markdown",
   "metadata": {},
   "source": [
    "#### Check shapes"
   ]
  },
  {
   "cell_type": "code",
   "execution_count": 29,
   "metadata": {},
   "outputs": [
    {
     "name": "stdout",
     "output_type": "stream",
     "text": [
      "(14855, 1576)\n",
      "(14855, 2)\n",
      "(3957, 1576)\n",
      "(3957, 2)\n"
     ]
    }
   ],
   "source": [
    "print(X_train_10yr.shape)\n",
    "print(Y_train_10yr.shape)\n",
    "print(X_test_10yr.shape)\n",
    "print(Y_test_10yr.shape)"
   ]
  },
  {
   "cell_type": "code",
   "execution_count": 30,
   "metadata": {},
   "outputs": [
    {
     "name": "stdout",
     "output_type": "stream",
     "text": [
      "(14855, 1462)\n",
      "(14855, 2)\n",
      "(3957, 1462)\n",
      "(3957, 2)\n"
     ]
    }
   ],
   "source": [
    "print(X_train_5yr.shape)\n",
    "print(Y_train_5yr.shape)\n",
    "print(X_test_5yr.shape)\n",
    "print(Y_test_5yr.shape)"
   ]
  },
  {
   "cell_type": "code",
   "execution_count": 31,
   "metadata": {},
   "outputs": [
    {
     "name": "stdout",
     "output_type": "stream",
     "text": [
      "(14855, 1380)\n",
      "(14855, 2)\n",
      "(3957, 1380)\n",
      "(3957, 2)\n"
     ]
    }
   ],
   "source": [
    "print(X_train_3yr.shape)\n",
    "print(Y_train_3yr.shape)\n",
    "print(X_test_3yr.shape)\n",
    "print(Y_test_3yr.shape)"
   ]
  },
  {
   "cell_type": "code",
   "execution_count": 32,
   "metadata": {},
   "outputs": [
    {
     "name": "stdout",
     "output_type": "stream",
     "text": [
      "(14855, 1144)\n",
      "(14855, 2)\n",
      "(3957, 1144)\n",
      "(3957, 2)\n"
     ]
    }
   ],
   "source": [
    "print(X_train_1yr.shape)\n",
    "print(Y_train_1yr.shape)\n",
    "print(X_test_1yr.shape)\n",
    "print(Y_test_1yr.shape)"
   ]
  },
  {
   "cell_type": "code",
   "execution_count": 33,
   "metadata": {},
   "outputs": [],
   "source": [
    "X_train_10yr = X_train_10yr.drop(\"Unnamed: 0\", axis = 1)\n",
    "Y_train_10yr = Y_train_10yr.drop(\"Unnamed: 0\", axis = 1)\n",
    "X_test_10yr = X_test_10yr.drop(\"Unnamed: 0\", axis = 1)\n",
    "Y_test_10yr = Y_test_10yr.drop(\"Unnamed: 0\", axis = 1)\n",
    "\n",
    "X_train_5yr = X_train_5yr.drop(\"Unnamed: 0\", axis = 1)\n",
    "Y_train_5yr = Y_train_5yr.drop(\"Unnamed: 0\", axis = 1)\n",
    "X_test_5yr = X_test_5yr.drop(\"Unnamed: 0\", axis = 1)\n",
    "Y_test_5yr = Y_test_5yr.drop(\"Unnamed: 0\", axis = 1)\n",
    "\n",
    "X_train_3yr = X_train_3yr.drop(\"Unnamed: 0\", axis = 1)\n",
    "Y_train_3yr = Y_train_3yr.drop(\"Unnamed: 0\", axis = 1)\n",
    "X_test_3yr = X_test_3yr.drop(\"Unnamed: 0\", axis = 1)\n",
    "Y_test_3yr = Y_test_3yr.drop(\"Unnamed: 0\", axis = 1)\n",
    "\n",
    "X_train_1yr = X_train_1yr.drop(\"Unnamed: 0\", axis = 1)\n",
    "Y_train_1yr = Y_train_1yr.drop(\"Unnamed: 0\", axis = 1)\n",
    "X_test_1yr = X_test_1yr.drop(\"Unnamed: 0\", axis = 1)\n",
    "Y_test_1yr = Y_test_1yr.drop(\"Unnamed: 0\", axis = 1)"
   ]
  },
  {
   "cell_type": "code",
   "execution_count": 26,
   "metadata": {},
   "outputs": [
    {
     "data": {
      "text/html": [
       "<div>\n",
       "<style scoped>\n",
       "    .dataframe tbody tr th:only-of-type {\n",
       "        vertical-align: middle;\n",
       "    }\n",
       "\n",
       "    .dataframe tbody tr th {\n",
       "        vertical-align: top;\n",
       "    }\n",
       "\n",
       "    .dataframe thead th {\n",
       "        text-align: right;\n",
       "    }\n",
       "</style>\n",
       "<table border=\"1\" class=\"dataframe\">\n",
       "  <thead>\n",
       "    <tr style=\"text-align: right;\">\n",
       "      <th></th>\n",
       "      <th>X54.0.0</th>\n",
       "      <th>X21003.0.0</th>\n",
       "      <th>X21022.0.0</th>\n",
       "      <th>X52.0.0</th>\n",
       "      <th>X34.0.0</th>\n",
       "      <th>X31.0.0</th>\n",
       "      <th>X3137.0.0</th>\n",
       "      <th>X3140.0.0</th>\n",
       "      <th>X3143.0.0</th>\n",
       "      <th>X3144.0.0</th>\n",
       "      <th>...</th>\n",
       "      <th>Z90</th>\n",
       "      <th>Z91</th>\n",
       "      <th>Z92</th>\n",
       "      <th>Z93</th>\n",
       "      <th>Z94</th>\n",
       "      <th>Z95</th>\n",
       "      <th>Z96</th>\n",
       "      <th>Z97</th>\n",
       "      <th>Z98</th>\n",
       "      <th>Z99</th>\n",
       "    </tr>\n",
       "  </thead>\n",
       "  <tbody>\n",
       "    <tr>\n",
       "      <th>0</th>\n",
       "      <td>11014.0</td>\n",
       "      <td>64.0</td>\n",
       "      <td>64.0</td>\n",
       "      <td>8.0</td>\n",
       "      <td>1945.0</td>\n",
       "      <td>0.0</td>\n",
       "      <td>3.0</td>\n",
       "      <td>0.000000</td>\n",
       "      <td>43.988409</td>\n",
       "      <td>77.132304</td>\n",
       "      <td>...</td>\n",
       "      <td>0.0</td>\n",
       "      <td>0.0</td>\n",
       "      <td>0.0</td>\n",
       "      <td>0.0</td>\n",
       "      <td>0.0</td>\n",
       "      <td>0.0</td>\n",
       "      <td>0.0</td>\n",
       "      <td>0.0</td>\n",
       "      <td>0.0</td>\n",
       "      <td>0.0</td>\n",
       "    </tr>\n",
       "    <tr>\n",
       "      <th>1</th>\n",
       "      <td>11007.0</td>\n",
       "      <td>70.0</td>\n",
       "      <td>70.0</td>\n",
       "      <td>1.0</td>\n",
       "      <td>1938.0</td>\n",
       "      <td>1.0</td>\n",
       "      <td>3.0</td>\n",
       "      <td>0.002798</td>\n",
       "      <td>48.736000</td>\n",
       "      <td>78.863000</td>\n",
       "      <td>...</td>\n",
       "      <td>0.0</td>\n",
       "      <td>0.0</td>\n",
       "      <td>0.0</td>\n",
       "      <td>0.0</td>\n",
       "      <td>0.0</td>\n",
       "      <td>0.0</td>\n",
       "      <td>0.0</td>\n",
       "      <td>0.0</td>\n",
       "      <td>0.0</td>\n",
       "      <td>0.0</td>\n",
       "    </tr>\n",
       "    <tr>\n",
       "      <th>2</th>\n",
       "      <td>11007.0</td>\n",
       "      <td>53.0</td>\n",
       "      <td>53.0</td>\n",
       "      <td>3.0</td>\n",
       "      <td>1955.0</td>\n",
       "      <td>1.0</td>\n",
       "      <td>3.0</td>\n",
       "      <td>0.002798</td>\n",
       "      <td>52.811000</td>\n",
       "      <td>81.674000</td>\n",
       "      <td>...</td>\n",
       "      <td>0.0</td>\n",
       "      <td>0.0</td>\n",
       "      <td>0.0</td>\n",
       "      <td>0.0</td>\n",
       "      <td>0.0</td>\n",
       "      <td>0.0</td>\n",
       "      <td>0.0</td>\n",
       "      <td>0.0</td>\n",
       "      <td>0.0</td>\n",
       "      <td>0.0</td>\n",
       "    </tr>\n",
       "    <tr>\n",
       "      <th>3</th>\n",
       "      <td>11013.0</td>\n",
       "      <td>41.0</td>\n",
       "      <td>41.0</td>\n",
       "      <td>10.0</td>\n",
       "      <td>1967.0</td>\n",
       "      <td>0.0</td>\n",
       "      <td>2.0</td>\n",
       "      <td>0.000000</td>\n",
       "      <td>39.599000</td>\n",
       "      <td>67.181000</td>\n",
       "      <td>...</td>\n",
       "      <td>0.0</td>\n",
       "      <td>0.0</td>\n",
       "      <td>0.0</td>\n",
       "      <td>0.0</td>\n",
       "      <td>0.0</td>\n",
       "      <td>0.0</td>\n",
       "      <td>0.0</td>\n",
       "      <td>0.0</td>\n",
       "      <td>0.0</td>\n",
       "      <td>0.0</td>\n",
       "    </tr>\n",
       "    <tr>\n",
       "      <th>4</th>\n",
       "      <td>11008.0</td>\n",
       "      <td>63.0</td>\n",
       "      <td>63.0</td>\n",
       "      <td>3.0</td>\n",
       "      <td>1945.0</td>\n",
       "      <td>1.0</td>\n",
       "      <td>3.0</td>\n",
       "      <td>0.002798</td>\n",
       "      <td>46.655000</td>\n",
       "      <td>110.336000</td>\n",
       "      <td>...</td>\n",
       "      <td>0.0</td>\n",
       "      <td>0.0</td>\n",
       "      <td>1.0</td>\n",
       "      <td>0.0</td>\n",
       "      <td>0.0</td>\n",
       "      <td>1.0</td>\n",
       "      <td>1.0</td>\n",
       "      <td>0.0</td>\n",
       "      <td>0.0</td>\n",
       "      <td>0.0</td>\n",
       "    </tr>\n",
       "  </tbody>\n",
       "</table>\n",
       "<p>5 rows × 1143 columns</p>\n",
       "</div>"
      ],
      "text/plain": [
       "   X54.0.0  X21003.0.0  X21022.0.0  X52.0.0  X34.0.0  X31.0.0  X3137.0.0  \\\n",
       "0  11014.0        64.0        64.0      8.0   1945.0      0.0        3.0   \n",
       "1  11007.0        70.0        70.0      1.0   1938.0      1.0        3.0   \n",
       "2  11007.0        53.0        53.0      3.0   1955.0      1.0        3.0   \n",
       "3  11013.0        41.0        41.0     10.0   1967.0      0.0        2.0   \n",
       "4  11008.0        63.0        63.0      3.0   1945.0      1.0        3.0   \n",
       "\n",
       "   X3140.0.0  X3143.0.0   X3144.0.0  ...  Z90  Z91  Z92  Z93  Z94  Z95  Z96  \\\n",
       "0   0.000000  43.988409   77.132304  ...  0.0  0.0  0.0  0.0  0.0  0.0  0.0   \n",
       "1   0.002798  48.736000   78.863000  ...  0.0  0.0  0.0  0.0  0.0  0.0  0.0   \n",
       "2   0.002798  52.811000   81.674000  ...  0.0  0.0  0.0  0.0  0.0  0.0  0.0   \n",
       "3   0.000000  39.599000   67.181000  ...  0.0  0.0  0.0  0.0  0.0  0.0  0.0   \n",
       "4   0.002798  46.655000  110.336000  ...  0.0  0.0  1.0  0.0  0.0  1.0  1.0   \n",
       "\n",
       "   Z97  Z98  Z99  \n",
       "0  0.0  0.0  0.0  \n",
       "1  0.0  0.0  0.0  \n",
       "2  0.0  0.0  0.0  \n",
       "3  0.0  0.0  0.0  \n",
       "4  0.0  0.0  0.0  \n",
       "\n",
       "[5 rows x 1143 columns]"
      ]
     },
     "execution_count": 26,
     "metadata": {},
     "output_type": "execute_result"
    }
   ],
   "source": [
    "X_train_1yr.head()"
   ]
  },
  {
   "cell_type": "code",
   "execution_count": 27,
   "metadata": {},
   "outputs": [
    {
     "data": {
      "text/html": [
       "<div>\n",
       "<style scoped>\n",
       "    .dataframe tbody tr th:only-of-type {\n",
       "        vertical-align: middle;\n",
       "    }\n",
       "\n",
       "    .dataframe tbody tr th {\n",
       "        vertical-align: top;\n",
       "    }\n",
       "\n",
       "    .dataframe thead th {\n",
       "        text-align: right;\n",
       "    }\n",
       "</style>\n",
       "<table border=\"1\" class=\"dataframe\">\n",
       "  <thead>\n",
       "    <tr style=\"text-align: right;\">\n",
       "      <th></th>\n",
       "      <th>casecont</th>\n",
       "    </tr>\n",
       "  </thead>\n",
       "  <tbody>\n",
       "    <tr>\n",
       "      <th>0</th>\n",
       "      <td>0.0</td>\n",
       "    </tr>\n",
       "    <tr>\n",
       "      <th>1</th>\n",
       "      <td>1.0</td>\n",
       "    </tr>\n",
       "    <tr>\n",
       "      <th>2</th>\n",
       "      <td>0.0</td>\n",
       "    </tr>\n",
       "    <tr>\n",
       "      <th>3</th>\n",
       "      <td>0.0</td>\n",
       "    </tr>\n",
       "    <tr>\n",
       "      <th>4</th>\n",
       "      <td>0.0</td>\n",
       "    </tr>\n",
       "  </tbody>\n",
       "</table>\n",
       "</div>"
      ],
      "text/plain": [
       "   casecont\n",
       "0       0.0\n",
       "1       1.0\n",
       "2       0.0\n",
       "3       0.0\n",
       "4       0.0"
      ]
     },
     "execution_count": 27,
     "metadata": {},
     "output_type": "execute_result"
    }
   ],
   "source": [
    "Y_train_1yr.head()"
   ]
  },
  {
   "cell_type": "code",
   "execution_count": 20,
   "metadata": {},
   "outputs": [
    {
     "data": {
      "text/html": [
       "<div>\n",
       "<style scoped>\n",
       "    .dataframe tbody tr th:only-of-type {\n",
       "        vertical-align: middle;\n",
       "    }\n",
       "\n",
       "    .dataframe tbody tr th {\n",
       "        vertical-align: top;\n",
       "    }\n",
       "\n",
       "    .dataframe thead th {\n",
       "        text-align: right;\n",
       "    }\n",
       "</style>\n",
       "<table border=\"1\" class=\"dataframe\">\n",
       "  <thead>\n",
       "    <tr style=\"text-align: right;\">\n",
       "      <th></th>\n",
       "      <th>Unnamed: 0</th>\n",
       "      <th>casecont</th>\n",
       "    </tr>\n",
       "  </thead>\n",
       "  <tbody>\n",
       "    <tr>\n",
       "      <th>0</th>\n",
       "      <td>0</td>\n",
       "      <td>0.0</td>\n",
       "    </tr>\n",
       "    <tr>\n",
       "      <th>1</th>\n",
       "      <td>1</td>\n",
       "      <td>1.0</td>\n",
       "    </tr>\n",
       "    <tr>\n",
       "      <th>2</th>\n",
       "      <td>2</td>\n",
       "      <td>0.0</td>\n",
       "    </tr>\n",
       "    <tr>\n",
       "      <th>3</th>\n",
       "      <td>3</td>\n",
       "      <td>0.0</td>\n",
       "    </tr>\n",
       "    <tr>\n",
       "      <th>4</th>\n",
       "      <td>4</td>\n",
       "      <td>0.0</td>\n",
       "    </tr>\n",
       "    <tr>\n",
       "      <th>...</th>\n",
       "      <td>...</td>\n",
       "      <td>...</td>\n",
       "    </tr>\n",
       "    <tr>\n",
       "      <th>14850</th>\n",
       "      <td>14850</td>\n",
       "      <td>1.0</td>\n",
       "    </tr>\n",
       "    <tr>\n",
       "      <th>14851</th>\n",
       "      <td>14851</td>\n",
       "      <td>1.0</td>\n",
       "    </tr>\n",
       "    <tr>\n",
       "      <th>14852</th>\n",
       "      <td>14852</td>\n",
       "      <td>1.0</td>\n",
       "    </tr>\n",
       "    <tr>\n",
       "      <th>14853</th>\n",
       "      <td>14853</td>\n",
       "      <td>1.0</td>\n",
       "    </tr>\n",
       "    <tr>\n",
       "      <th>14854</th>\n",
       "      <td>14854</td>\n",
       "      <td>1.0</td>\n",
       "    </tr>\n",
       "  </tbody>\n",
       "</table>\n",
       "<p>14855 rows × 2 columns</p>\n",
       "</div>"
      ],
      "text/plain": [
       "       Unnamed: 0  casecont\n",
       "0               0       0.0\n",
       "1               1       1.0\n",
       "2               2       0.0\n",
       "3               3       0.0\n",
       "4               4       0.0\n",
       "...           ...       ...\n",
       "14850       14850       1.0\n",
       "14851       14851       1.0\n",
       "14852       14852       1.0\n",
       "14853       14853       1.0\n",
       "14854       14854       1.0\n",
       "\n",
       "[14855 rows x 2 columns]"
      ]
     },
     "execution_count": 20,
     "metadata": {},
     "output_type": "execute_result"
    }
   ],
   "source": [
    "Y_train_UKb"
   ]
  },
  {
   "cell_type": "markdown",
   "metadata": {},
   "source": [
    "## Random forest Models"
   ]
  },
  {
   "cell_type": "code",
   "execution_count": 34,
   "metadata": {},
   "outputs": [],
   "source": [
    "ls_cols_to_ignore = [\"X40019.0.0\", \"X20004.0.0\", \"C44\", \"X40008.0.0.y\", \"X40009.0.0.y\", \"X134.0.0\", \"X2453.0.0\", \"X20004.0.1\"]\n",
    "ls_cols_to_ignore_UKb = [\"X40019.0.0\", \"X20004.0.0\", \"X40008.0.0.y\", \"X40009.0.0.y\", \"X134.0.0\", \"X2453.0.0\", \"X20004.0.1\"]"
   ]
  },
  {
   "cell_type": "markdown",
   "metadata": {},
   "source": [
    "#### Baseline models"
   ]
  },
  {
   "cell_type": "code",
   "execution_count": 39,
   "metadata": {},
   "outputs": [
    {
     "name": "stderr",
     "output_type": "stream",
     "text": [
      "/apps/jupyterhub/2019-04-29/miniconda/lib/python3.6/site-packages/ipykernel_launcher.py:2: DataConversionWarning: A column-vector y was passed when a 1d array was expected. Please change the shape of y to (n_samples,), for example using ravel().\n",
      "  \n"
     ]
    },
    {
     "data": {
      "text/plain": [
       "RandomForestClassifier(max_depth=3)"
      ]
     },
     "execution_count": 39,
     "metadata": {},
     "output_type": "execute_result"
    }
   ],
   "source": [
    "model = RandomForestClassifier(max_depth = 3)\n",
    "model.fit(X_train_UKb.drop(ls_cols_to_ignore_UKb, axis = 1), Y_train_UKb)"
   ]
  },
  {
   "cell_type": "code",
   "execution_count": 40,
   "metadata": {},
   "outputs": [
    {
     "name": "stdout",
     "output_type": "stream",
     "text": [
      "Training accuracy => 0.7271\n",
      "Testing accuracy => 0.67905\n"
     ]
    }
   ],
   "source": [
    "train_score = round(model.score(X_train_UKb.drop(ls_cols_to_ignore_UKb, axis = 1), Y_train_UKb), 5)\n",
    "test_score = round(model.score(X_test_UKb.drop(ls_cols_to_ignore_UKb, axis = 1), Y_test_UKb), 5)\n",
    "\n",
    "print(f\"Training accuracy => {train_score}\")\n",
    "print(f\"Testing accuracy => {test_score}\")"
   ]
  },
  {
   "cell_type": "code",
   "execution_count": 42,
   "metadata": {},
   "outputs": [
    {
     "name": "stderr",
     "output_type": "stream",
     "text": [
      "/apps/jupyterhub/2019-04-29/miniconda/lib/python3.6/site-packages/ipykernel_launcher.py:2: DataConversionWarning: A column-vector y was passed when a 1d array was expected. Please change the shape of y to (n_samples,), for example using ravel().\n",
      "  \n"
     ]
    },
    {
     "data": {
      "text/plain": [
       "RandomForestClassifier(max_depth=3)"
      ]
     },
     "execution_count": 42,
     "metadata": {},
     "output_type": "execute_result"
    }
   ],
   "source": [
    "model_1yr = RandomForestClassifier(max_depth = 3)\n",
    "model_1yr.fit(X_train_1yr.drop(ls_cols_to_ignore, axis = 1), Y_train_1yr)"
   ]
  },
  {
   "cell_type": "code",
   "execution_count": 43,
   "metadata": {},
   "outputs": [
    {
     "name": "stdout",
     "output_type": "stream",
     "text": [
      "Training accuracy => 0.70919\n",
      "Testing accuracy => 0.67829\n"
     ]
    }
   ],
   "source": [
    "train_score = round(model_1yr.score(X_train_1yr.drop(ls_cols_to_ignore, axis = 1), Y_train_1yr), 5)\n",
    "test_score = round(model_1yr.score(X_test_1yr.drop(ls_cols_to_ignore, axis = 1), Y_test_1yr), 5)\n",
    "\n",
    "print(f\"Training accuracy => {train_score}\")\n",
    "print(f\"Testing accuracy => {test_score}\")"
   ]
  },
  {
   "cell_type": "code",
   "execution_count": 44,
   "metadata": {},
   "outputs": [
    {
     "name": "stderr",
     "output_type": "stream",
     "text": [
      "/apps/jupyterhub/2019-04-29/miniconda/lib/python3.6/site-packages/ipykernel_launcher.py:2: DataConversionWarning: A column-vector y was passed when a 1d array was expected. Please change the shape of y to (n_samples,), for example using ravel().\n",
      "  \n"
     ]
    },
    {
     "data": {
      "text/plain": [
       "RandomForestClassifier(max_depth=3)"
      ]
     },
     "execution_count": 44,
     "metadata": {},
     "output_type": "execute_result"
    }
   ],
   "source": [
    "model_3yr = RandomForestClassifier(max_depth = 3)\n",
    "model_3yr.fit(X_train_3yr.drop(ls_cols_to_ignore, axis = 1), Y_train_3yr)"
   ]
  },
  {
   "cell_type": "code",
   "execution_count": 45,
   "metadata": {},
   "outputs": [
    {
     "name": "stdout",
     "output_type": "stream",
     "text": [
      "Training accuracy => 0.71175\n",
      "Testing accuracy => 0.67627\n"
     ]
    }
   ],
   "source": [
    "train_score = round(model_3yr.score(X_train_3yr.drop(ls_cols_to_ignore, axis = 1), Y_train_3yr), 5)\n",
    "test_score = round(model_3yr.score(X_test_3yr.drop(ls_cols_to_ignore, axis = 1), Y_test_3yr), 5)\n",
    "\n",
    "print(f\"Training accuracy => {train_score}\")\n",
    "print(f\"Testing accuracy => {test_score}\")"
   ]
  },
  {
   "cell_type": "code",
   "execution_count": 46,
   "metadata": {},
   "outputs": [
    {
     "name": "stderr",
     "output_type": "stream",
     "text": [
      "/apps/jupyterhub/2019-04-29/miniconda/lib/python3.6/site-packages/ipykernel_launcher.py:2: DataConversionWarning: A column-vector y was passed when a 1d array was expected. Please change the shape of y to (n_samples,), for example using ravel().\n",
      "  \n"
     ]
    },
    {
     "data": {
      "text/plain": [
       "RandomForestClassifier(max_depth=3)"
      ]
     },
     "execution_count": 46,
     "metadata": {},
     "output_type": "execute_result"
    }
   ],
   "source": [
    "model_5yr = RandomForestClassifier(max_depth = 3)\n",
    "model_5yr.fit(X_train_5yr.drop(ls_cols_to_ignore, axis = 1), Y_train_5yr)"
   ]
  },
  {
   "cell_type": "code",
   "execution_count": 47,
   "metadata": {},
   "outputs": [
    {
     "name": "stdout",
     "output_type": "stream",
     "text": [
      "Training accuracy => 0.71363\n",
      "Testing accuracy => 0.67854\n"
     ]
    }
   ],
   "source": [
    "train_score = round(model_5yr.score(X_train_5yr.drop(ls_cols_to_ignore, axis = 1), Y_train_5yr), 5)\n",
    "test_score = round(model_5yr.score(X_test_5yr.drop(ls_cols_to_ignore, axis = 1), Y_test_5yr), 5)\n",
    "\n",
    "print(f\"Training accuracy => {train_score}\")\n",
    "print(f\"Testing accuracy => {test_score}\")"
   ]
  },
  {
   "cell_type": "code",
   "execution_count": 48,
   "metadata": {},
   "outputs": [
    {
     "name": "stderr",
     "output_type": "stream",
     "text": [
      "/apps/jupyterhub/2019-04-29/miniconda/lib/python3.6/site-packages/ipykernel_launcher.py:2: DataConversionWarning: A column-vector y was passed when a 1d array was expected. Please change the shape of y to (n_samples,), for example using ravel().\n",
      "  \n"
     ]
    },
    {
     "data": {
      "text/plain": [
       "RandomForestClassifier(max_depth=3)"
      ]
     },
     "execution_count": 48,
     "metadata": {},
     "output_type": "execute_result"
    }
   ],
   "source": [
    "model_10yr = RandomForestClassifier(max_depth = 3)\n",
    "model_10yr.fit(X_train_10yr.drop(ls_cols_to_ignore, axis = 1), Y_train_10yr)"
   ]
  },
  {
   "cell_type": "code",
   "execution_count": 49,
   "metadata": {},
   "outputs": [
    {
     "name": "stdout",
     "output_type": "stream",
     "text": [
      "Training accuracy => 0.70522\n",
      "Testing accuracy => 0.67197\n"
     ]
    }
   ],
   "source": [
    "train_score = round(model_10yr.score(X_train_10yr.drop(ls_cols_to_ignore, axis = 1), Y_train_10yr), 5)\n",
    "test_score = round(model_10yr.score(X_test_10yr.drop(ls_cols_to_ignore, axis = 1), Y_test_10yr), 5)\n",
    "\n",
    "print(f\"Training accuracy => {train_score}\")\n",
    "print(f\"Testing accuracy => {test_score}\")"
   ]
  },
  {
   "cell_type": "markdown",
   "metadata": {},
   "source": [
    "## Plot the ROC curves"
   ]
  },
  {
   "cell_type": "markdown",
   "metadata": {},
   "source": [
    "#### This is the code to build the roc curve plot, will need more results obviously, but shouldn't take too long to extend this code!"
   ]
  },
  {
   "cell_type": "code",
   "execution_count": 50,
   "metadata": {},
   "outputs": [],
   "source": [
    "result_table = pd.DataFrame(columns=['Time window', 'fpr','tpr','auc'])"
   ]
  },
  {
   "cell_type": "code",
   "execution_count": 51,
   "metadata": {},
   "outputs": [],
   "source": [
    "yproba = model.predict_proba(X_test_UKb.drop(ls_cols_to_ignore_UKb, axis = 1))[::,1]\n",
    "fpr, tpr, _ = roc_curve(Y_test_UKb,  yproba)\n",
    "auc = roc_auc_score(Y_test_UKb, yproba)\n",
    "\n",
    "result_table = result_table.append({'Time window':\"1 year\",\n",
    "                                    'fpr':fpr, \n",
    "                                        'tpr':tpr, \n",
    "                                        'auc':auc}, ignore_index=True)"
   ]
  },
  {
   "cell_type": "code",
   "execution_count": 52,
   "metadata": {},
   "outputs": [],
   "source": [
    "yproba = model_1yr.predict_proba(X_test_1yr.drop(ls_cols_to_ignore, axis = 1))[::,1]\n",
    "fpr, tpr, _ = roc_curve(Y_test_1yr,  yproba)\n",
    "auc = roc_auc_score(Y_test_1yr, yproba)\n",
    "\n",
    "result_table = result_table.append({'Time window':\"1 year\",\n",
    "                                    'fpr':fpr, \n",
    "                                        'tpr':tpr, \n",
    "                                        'auc':auc}, ignore_index=True)\n",
    "\n",
    "yproba = model_3yr.predict_proba(X_test_3yr.drop(ls_cols_to_ignore, axis = 1))[::,1]\n",
    "fpr, tpr, _ = roc_curve(Y_test_3yr,  yproba)\n",
    "auc = roc_auc_score(Y_test_3yr, yproba)\n",
    "\n",
    "result_table = result_table.append({'Time window':\"3 years\",\n",
    "                                    'fpr':fpr, \n",
    "                                        'tpr':tpr, \n",
    "                                        'auc':auc}, ignore_index=True)\n",
    "\n",
    "yproba = model_5yr.predict_proba(X_test_5yr.drop(ls_cols_to_ignore, axis = 1))[::,1]\n",
    "fpr, tpr, _ = roc_curve(Y_test_5yr,  yproba)\n",
    "auc = roc_auc_score(Y_test_5yr, yproba)\n",
    "\n",
    "result_table = result_table.append({'Time window':\"5 years\",\n",
    "                                    'fpr':fpr, \n",
    "                                        'tpr':tpr, \n",
    "                                        'auc':auc}, ignore_index=True)\n",
    "\n",
    "yproba = model_10yr.predict_proba(X_test_10yr.drop(ls_cols_to_ignore, axis = 1))[::,1]\n",
    "fpr, tpr, _ = roc_curve(Y_test_10yr,  yproba)\n",
    "auc = roc_auc_score(Y_test_10yr, yproba)\n",
    "\n",
    "result_table = result_table.append({'Time window':\"10 years\",\n",
    "                                    'fpr':fpr, \n",
    "                                        'tpr':tpr, \n",
    "                                        'auc':auc}, ignore_index=True)"
   ]
  },
  {
   "cell_type": "code",
   "execution_count": 53,
   "metadata": {},
   "outputs": [
    {
     "data": {
      "image/png": "[encoded data removed]",
      "text/plain": [
       "<Figure size 720x720 with 1 Axes>"
      ]
     },
     "metadata": {
      "needs_background": "light"
     },
     "output_type": "display_data"
    }
   ],
   "source": [
    "plt.rcParams[\"figure.figsize\"] = (10,10)\n",
    "\n",
    "plt.plot(result_table.fpr[0], result_table.tpr[0], label=\"UKb AUC => \" + str(round(result_table.auc[0], 4)))\n",
    "plt.plot(result_table.fpr[1], result_table.tpr[1], label=\"1 Year AUC => \" + str(round(result_table.auc[1], 4)))\n",
    "plt.plot(result_table.fpr[2], result_table.tpr[2], label=\"3 Years AUC => \" + str(round(result_table.auc[2], 4)))\n",
    "plt.plot(result_table.fpr[3], result_table.tpr[3], label=\"5 Years AUC => \" + str(round(result_table.auc[3], 4)))\n",
    "plt.plot(result_table.fpr[4], result_table.tpr[4], label=\"10 Years AUC => \" + str(round(result_table.auc[4], 4)))\n",
    "\n",
    "plt.plot([0,1], [0,1], color='orange', linestyle='--')\n",
    "\n",
    "plt.xticks(np.arange(0.0, 1.1, step=0.1))\n",
    "plt.xlabel(\"False Positive Rate\", fontsize=15)\n",
    "\n",
    "plt.yticks(np.arange(0.0, 1.1, step=0.1))\n",
    "plt.ylabel(\"True Positive Rate\", fontsize=15)\n",
    "\n",
    "plt.title('ROC Curve Analysis', fontweight='bold', fontsize=15)\n",
    "plt.legend(prop={'size':13}, loc='lower right')\n",
    "\n",
    "plt.show()"
   ]
  },
  {
   "cell_type": "markdown",
   "metadata": {},
   "source": [
    "## Extract important features"
   ]
  },
  {
   "cell_type": "code",
   "execution_count": 54,
   "metadata": {},
   "outputs": [
    {
     "data": {
      "image/png": "[encoded data removed]",
      "text/plain": [
       "<Figure size 720x720 with 1 Axes>"
      ]
     },
     "metadata": {
      "needs_background": "light"
     },
     "output_type": "display_data"
    }
   ],
   "source": [
    "plt.bar(range(len(model_1yr.feature_importances_)), model_1yr.feature_importances_)\n",
    "plt.show()"
   ]
  },
  {
   "cell_type": "code",
   "execution_count": 55,
   "metadata": {},
   "outputs": [
    {
     "ename": "NameError",
     "evalue": "name 'plot_importance' is not defined",
     "output_type": "error",
     "traceback": [
      "\u001b[0;31m---------------------------------------------------------------------------\u001b[0m",
      "\u001b[0;31mNameError\u001b[0m                                 Traceback (most recent call last)",
      "\u001b[0;32m<ipython-input-55-ddf6adb86cfa>\u001b[0m in \u001b[0;36m<module>\u001b[0;34m\u001b[0m\n\u001b[0;32m----> 1\u001b[0;31m \u001b[0mplot_importance\u001b[0m\u001b[0;34m(\u001b[0m\u001b[0mmodel_1yr\u001b[0m\u001b[0;34m,\u001b[0m \u001b[0mmax_num_features\u001b[0m\u001b[0;34m=\u001b[0m\u001b[0;36m10\u001b[0m\u001b[0;34m)\u001b[0m\u001b[0;34m\u001b[0m\u001b[0;34m\u001b[0m\u001b[0m\n\u001b[0m\u001b[1;32m      2\u001b[0m \u001b[0mplt\u001b[0m\u001b[0;34m.\u001b[0m\u001b[0mshow\u001b[0m\u001b[0;34m(\u001b[0m\u001b[0;34m)\u001b[0m\u001b[0;34m\u001b[0m\u001b[0;34m\u001b[0m\u001b[0m\n",
      "\u001b[0;31mNameError\u001b[0m: name 'plot_importance' is not defined"
     ]
    }
   ],
   "source": [
    "plot_importance(model_1yr, max_num_features=10)\n",
    "plt.show()"
   ]
  },
  {
   "cell_type": "code",
   "execution_count": 149,
   "metadata": {},
   "outputs": [
    {
     "data": {
      "image/png": "[encoded data removed]",
      "text/plain": [
       "<Figure size 720x720 with 1 Axes>"
      ]
     },
     "metadata": {
      "needs_background": "light"
     },
     "output_type": "display_data"
    }
   ],
   "source": [
    "plt.bar(range(len(model_3yr.feature_importances_)), model_3yr.feature_importances_)\n",
    "plt.show()"
   ]
  },
  {
   "cell_type": "code",
   "execution_count": 150,
   "metadata": {},
   "outputs": [
    {
     "data": {
      "image/png": "[encoded data removed]",
      "text/plain": [
       "<Figure size 720x720 with 1 Axes>"
      ]
     },
     "metadata": {
      "needs_background": "light"
     },
     "output_type": "display_data"
    }
   ],
   "source": [
    "plot_importance(model_3yr, max_num_features=10)\n",
    "plt.show()"
   ]
  },
  {
   "cell_type": "code",
   "execution_count": 151,
   "metadata": {},
   "outputs": [
    {
     "data": {
      "image/png": "[encoded data removed]",
      "text/plain": [
       "<Figure size 720x720 with 1 Axes>"
      ]
     },
     "metadata": {
      "needs_background": "light"
     },
     "output_type": "display_data"
    }
   ],
   "source": [
    "plt.bar(range(len(model_5yr.feature_importances_)), model_5yr.feature_importances_)\n",
    "plt.show()"
   ]
  },
  {
   "cell_type": "code",
   "execution_count": 152,
   "metadata": {},
   "outputs": [
    {
     "data": {
      "image/png": "[encoded data removed]",
      "text/plain": [
       "<Figure size 720x720 with 1 Axes>"
      ]
     },
     "metadata": {
      "needs_background": "light"
     },
     "output_type": "display_data"
    }
   ],
   "source": [
    "plot_importance(model_5yr, max_num_features=10)\n",
    "plt.show()"
   ]
  },
  {
   "cell_type": "code",
   "execution_count": 153,
   "metadata": {},
   "outputs": [
    {
     "data": {
      "image/png": "[encoded data removed]",
      "text/plain": [
       "<Figure size 720x720 with 1 Axes>"
      ]
     },
     "metadata": {
      "needs_background": "light"
     },
     "output_type": "display_data"
    }
   ],
   "source": [
    "plt.bar(range(len(model_10yr.feature_importances_)), model_10yr.feature_importances_)\n",
    "plt.show()"
   ]
  },
  {
   "cell_type": "code",
   "execution_count": 154,
   "metadata": {},
   "outputs": [
    {
     "data": {
      "image/png": "[encoded data removed]",
      "text/plain": [
       "<Figure size 720x720 with 1 Axes>"
      ]
     },
     "metadata": {
      "needs_background": "light"
     },
     "output_type": "display_data"
    }
   ],
   "source": [
    "plot_importance(model_10yr, max_num_features=10)\n",
    "plt.show()"
   ]
  },
  {
   "cell_type": "markdown",
   "metadata": {},
   "source": [
    "### Top predictors before selecting features for removal (1year)\n",
    "#### 1. cancer record format\n",
    "#### 2. number of self reported cancers\n",
    "#### 3. operation code\n",
    "#### 4. reported occurences of cancer\n",
    "#### 5. Age at cancer diagnosis\n",
    "#### 6. ICD-10-CM Code L98 - Other disorders of skin and subcutaneous tissue\n",
    "#### 7. skin colour\n",
    "#### 8. ICD-10-CM Code C44 - Other and unspecified malignant neoplasm of skin\n",
    "#### 9. childhood sunburn\n",
    "#### 10. average household income"
   ]
  },
  {
   "cell_type": "markdown",
   "metadata": {},
   "source": [
    "### Top predictors after selecting features for removal (1year)\n",
    "#### 1. Childhood sunburn occasions\n",
    "#### 2. Skin colour\n",
    "#### 3. Number of operations\n",
    "#### 4. Ease of skin tanning\n",
    "#### 5. Ethnic background\n",
    "#### 6. ICD-10-CM Code L98 - Other disorders of skin and subcutaneous tissue\n",
    "#### 7. Number of vehicles in household\n",
    "#### 8. Townsend deprivation score\n",
    "#### 9. Interpolated year of operation\n",
    "#### 10. Comparative height size at age 10 "
   ]
  }
 ],
 "metadata": {
  "kernelspec": {
   "display_name": "Python 3",
   "language": "python",
   "name": "python3"
  },
  "language_info": {
   "codemirror_mode": {
    "name": "ipython",
    "version": 3
   },
   "file_extension": ".py",
   "mimetype": "text/x-python",
   "name": "python",
   "nbconvert_exporter": "python",
   "pygments_lexer": "ipython3",
   "version": "3.6.8"
  }
 },
 "nbformat": 4,
 "nbformat_minor": 2
}

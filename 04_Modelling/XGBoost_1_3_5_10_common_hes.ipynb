{
 "cells": [
  {
   "cell_type": "markdown",
   "metadata": {},
   "source": [
    "# XGBoost models for 1, 3, 5 and 10 time windows ** with common hes files"
   ]
  },
  {
   "cell_type": "markdown",
   "metadata": {},
   "source": [
    "## Libraries"
   ]
  },
  {
   "cell_type": "code",
   "execution_count": 1,
   "metadata": {},
   "outputs": [],
   "source": [
    "import os\n",
    "import numpy as np \n",
    "import pandas as pd\n",
    "import matplotlib.pyplot as plt\n",
    "import seaborn as sns\n",
    "\n",
    "from sklearn.model_selection import train_test_split, StratifiedKFold, GridSearchCV\n",
    "from sklearn.metrics import confusion_matrix, roc_auc_score, accuracy_score, f1_score, recall_score, precision_score, roc_curve\n",
    "from sklearn.utils import resample\n",
    "\n",
    "import xgboost as xgb\n",
    "from xgboost import plot_importance"
   ]
  },
  {
   "cell_type": "markdown",
   "metadata": {},
   "source": [
    "## Directory"
   ]
  },
  {
   "cell_type": "code",
   "execution_count": 2,
   "metadata": {},
   "outputs": [],
   "source": [
    "os.chdir(\"/rds/general/project/hda_students_data/live/Group9/General/Data/Final_final_final_datasets\")"
   ]
  },
  {
   "cell_type": "markdown",
   "metadata": {},
   "source": [
    "## Load in data"
   ]
  },
  {
   "cell_type": "code",
   "execution_count": 3,
   "metadata": {},
   "outputs": [],
   "source": [
    "data_train = pd.read_csv(\"train_data_pca.csv\")\n",
    "data_test = pd.read_csv(\"test_data_pca.csv\")"
   ]
  },
  {
   "cell_type": "code",
   "execution_count": 4,
   "metadata": {},
   "outputs": [],
   "source": [
    "hes_1yr = pd.read_csv(\"../1_3_5_10_hes_common/hes_1yr_hes_bin.csv\")\n",
    "hes_3yr = pd.read_csv(\"../1_3_5_10_hes_common/hes_3yr_hes_bin.csv\")\n",
    "hes_5yr = pd.read_csv(\"../1_3_5_10_hes_common/hes_5yr_hes_bin.csv\")\n",
    "hes_10yr = pd.read_csv(\"../1_3_5_10_hes_common/hes_10yr_hes_bin.csv\")"
   ]
  },
  {
   "cell_type": "code",
   "execution_count": 5,
   "metadata": {},
   "outputs": [
    {
     "name": "stdout",
     "output_type": "stream",
     "text": [
      "(11517, 380)\n",
      "(3839, 380)\n",
      "(15356, 193)\n",
      "(15356, 324)\n",
      "(15356, 399)\n",
      "(15356, 498)\n"
     ]
    }
   ],
   "source": [
    "print(data_train.shape)\n",
    "print(data_test.shape)\n",
    "print(hes_1yr.shape)\n",
    "print(hes_3yr.shape)\n",
    "print(hes_5yr.shape)\n",
    "print(hes_10yr.shape)"
   ]
  },
  {
   "cell_type": "code",
   "execution_count": 6,
   "metadata": {},
   "outputs": [],
   "source": [
    "hes_1yr = hes_1yr.drop([\"X21003.0.0\", \"X31.0.0\", \"casecont\", \"triplet_id\"], axis = 1)\n",
    "data_1yr_train = data_train.merge(hes_1yr, on = \"eid\", how = \"left\")\n",
    "data_1yr_test = data_test.merge(hes_1yr, on = \"eid\", how = \"left\")"
   ]
  },
  {
   "cell_type": "code",
   "execution_count": 7,
   "metadata": {},
   "outputs": [],
   "source": [
    "data_1yr_train.to_csv(\"train_1yr_common_hesin_pca.csv\")\n",
    "data_1yr_test.to_csv(\"test_1yr_common_hesin_pca.csv\")"
   ]
  },
  {
   "cell_type": "code",
   "execution_count": 8,
   "metadata": {},
   "outputs": [],
   "source": [
    "hes_3yr = hes_3yr.drop([\"X21003.0.0\", \"X31.0.0\", \"casecont\", \"triplet_id\"], axis = 1)\n",
    "data_3yr_train = data_train.merge(hes_3yr, on = \"eid\", how = \"left\")\n",
    "data_3yr_test = data_test.merge(hes_3yr, on = \"eid\", how = \"left\")"
   ]
  },
  {
   "cell_type": "code",
   "execution_count": 9,
   "metadata": {},
   "outputs": [],
   "source": [
    "data_3yr_train.to_csv(\"train_3yr_common_hesin_pca.csv\")\n",
    "data_3yr_test.to_csv(\"test_3yr_common_hesin_pca.csv\")"
   ]
  },
  {
   "cell_type": "code",
   "execution_count": 10,
   "metadata": {},
   "outputs": [],
   "source": [
    "hes_5yr = hes_5yr.drop([\"X21003.0.0\", \"X31.0.0\", \"casecont\", \"triplet_id\"], axis = 1)\n",
    "data_5yr_train = data_train.merge(hes_5yr, on = \"eid\", how = \"left\")\n",
    "data_5yr_test = data_test.merge(hes_5yr, on = \"eid\", how = \"left\")"
   ]
  },
  {
   "cell_type": "code",
   "execution_count": 11,
   "metadata": {},
   "outputs": [],
   "source": [
    "data_5yr_train.to_csv(\"train_5yr_common_hesin_pca.csv\")\n",
    "data_5yr_test.to_csv(\"test_5yr_common_hesin_pca.csv\")"
   ]
  },
  {
   "cell_type": "code",
   "execution_count": 12,
   "metadata": {},
   "outputs": [],
   "source": [
    "hes_10yr = hes_10yr.drop([\"X21003.0.0\", \"X31.0.0\", \"casecont\", \"triplet_id\"], axis = 1)\n",
    "data_10yr_train = data_train.merge(hes_10yr, on = \"eid\", how = \"left\")\n",
    "data_10yr_test = data_test.merge(hes_10yr, on = \"eid\", how = \"left\")"
   ]
  },
  {
   "cell_type": "code",
   "execution_count": 13,
   "metadata": {},
   "outputs": [],
   "source": [
    "data_10yr_train.to_csv(\"train_10yr_common_hesin_pca.csv\")\n",
    "data_10yr_test.to_csv(\"test_10yr_common_hesin_pca.csv\")"
   ]
  },
  {
   "cell_type": "markdown",
   "metadata": {},
   "source": [
    "#### Check shapes"
   ]
  },
  {
   "cell_type": "code",
   "execution_count": 14,
   "metadata": {},
   "outputs": [
    {
     "name": "stdout",
     "output_type": "stream",
     "text": [
      "(11517, 568)\n",
      "(3839, 568)\n",
      "(11517, 699)\n",
      "(3839, 699)\n",
      "(11517, 774)\n",
      "(3839, 774)\n",
      "(11517, 873)\n",
      "(3839, 873)\n"
     ]
    }
   ],
   "source": [
    "print(data_1yr_train.shape)\n",
    "print(data_1yr_test.shape)\n",
    "\n",
    "print(data_3yr_train.shape)\n",
    "print(data_3yr_test.shape)\n",
    "\n",
    "print(data_5yr_train.shape)\n",
    "print(data_5yr_test.shape)\n",
    "\n",
    "print(data_10yr_train.shape)\n",
    "print(data_10yr_test.shape)"
   ]
  },
  {
   "cell_type": "markdown",
   "metadata": {},
   "source": [
    "## Balance training datasets"
   ]
  },
  {
   "cell_type": "code",
   "execution_count": 4,
   "metadata": {},
   "outputs": [
    {
     "name": "stdout",
     "output_type": "stream",
     "text": [
      "0    7657\n",
      "1    3860\n",
      "Name: casecont, dtype: int64\n"
     ]
    },
    {
     "ename": "NameError",
     "evalue": "name 'data_1yr_train' is not defined",
     "output_type": "error",
     "traceback": [
      "\u001b[0;31m---------------------------------------------------------------------------\u001b[0m",
      "\u001b[0;31mNameError\u001b[0m                                 Traceback (most recent call last)",
      "\u001b[0;32m<ipython-input-4-3c92a206e735>\u001b[0m in \u001b[0;36m<module>\u001b[0;34m\u001b[0m\n\u001b[1;32m      1\u001b[0m \u001b[0mprint\u001b[0m\u001b[0;34m(\u001b[0m\u001b[0mdata_train\u001b[0m\u001b[0;34m[\u001b[0m\u001b[0;34m\"casecont\"\u001b[0m\u001b[0;34m]\u001b[0m\u001b[0;34m.\u001b[0m\u001b[0mvalue_counts\u001b[0m\u001b[0;34m(\u001b[0m\u001b[0;34m)\u001b[0m\u001b[0;34m)\u001b[0m\u001b[0;34m\u001b[0m\u001b[0;34m\u001b[0m\u001b[0m\n\u001b[0;32m----> 2\u001b[0;31m \u001b[0mprint\u001b[0m\u001b[0;34m(\u001b[0m\u001b[0mdata_1yr_train\u001b[0m\u001b[0;34m[\u001b[0m\u001b[0;34m\"casecont\"\u001b[0m\u001b[0;34m]\u001b[0m\u001b[0;34m.\u001b[0m\u001b[0mvalue_counts\u001b[0m\u001b[0;34m(\u001b[0m\u001b[0;34m)\u001b[0m\u001b[0;34m)\u001b[0m\u001b[0;34m\u001b[0m\u001b[0;34m\u001b[0m\u001b[0m\n\u001b[0m\u001b[1;32m      3\u001b[0m \u001b[0mprint\u001b[0m\u001b[0;34m(\u001b[0m\u001b[0mdata_3yr_train\u001b[0m\u001b[0;34m[\u001b[0m\u001b[0;34m\"casecont\"\u001b[0m\u001b[0;34m]\u001b[0m\u001b[0;34m.\u001b[0m\u001b[0mvalue_counts\u001b[0m\u001b[0;34m(\u001b[0m\u001b[0;34m)\u001b[0m\u001b[0;34m)\u001b[0m\u001b[0;34m\u001b[0m\u001b[0;34m\u001b[0m\u001b[0m\n\u001b[1;32m      4\u001b[0m \u001b[0mprint\u001b[0m\u001b[0;34m(\u001b[0m\u001b[0mdata_5yr_train\u001b[0m\u001b[0;34m[\u001b[0m\u001b[0;34m\"casecont\"\u001b[0m\u001b[0;34m]\u001b[0m\u001b[0;34m.\u001b[0m\u001b[0mvalue_counts\u001b[0m\u001b[0;34m(\u001b[0m\u001b[0;34m)\u001b[0m\u001b[0;34m)\u001b[0m\u001b[0;34m\u001b[0m\u001b[0;34m\u001b[0m\u001b[0m\n\u001b[1;32m      5\u001b[0m \u001b[0mprint\u001b[0m\u001b[0;34m(\u001b[0m\u001b[0mdata_10yr_train\u001b[0m\u001b[0;34m[\u001b[0m\u001b[0;34m\"casecont\"\u001b[0m\u001b[0;34m]\u001b[0m\u001b[0;34m.\u001b[0m\u001b[0mvalue_counts\u001b[0m\u001b[0;34m(\u001b[0m\u001b[0;34m)\u001b[0m\u001b[0;34m)\u001b[0m\u001b[0;34m\u001b[0m\u001b[0;34m\u001b[0m\u001b[0m\n",
      "\u001b[0;31mNameError\u001b[0m: name 'data_1yr_train' is not defined"
     ]
    }
   ],
   "source": [
    "print(data_train[\"casecont\"].value_counts())\n",
    "print(data_1yr_train[\"casecont\"].value_counts())\n",
    "print(data_3yr_train[\"casecont\"].value_counts())\n",
    "print(data_5yr_train[\"casecont\"].value_counts())\n",
    "print(data_10yr_train[\"casecont\"].value_counts())"
   ]
  },
  {
   "cell_type": "code",
   "execution_count": 5,
   "metadata": {},
   "outputs": [],
   "source": [
    "data_train_maj = data_train[data_train[\"casecont\"] == 0]\n",
    "data_train_min = data_train[data_train[\"casecont\"] == 1]\n",
    "\n",
    "data_train_min_upsampled = resample(data_train_min, replace = True, n_samples = 7657, random_state = 289)\n",
    "\n",
    "data_train = pd.concat([data_train_maj, data_train_min_upsampled])"
   ]
  },
  {
   "cell_type": "code",
   "execution_count": null,
   "metadata": {},
   "outputs": [],
   "source": [
    "data_1yr_train_maj = data_1yr_train[data_1yr_train[\"casecont\"] == 0]\n",
    "data_1yr_train_min = data_1yr_train[data_1yr_train[\"casecont\"] == 1]\n",
    "\n",
    "data_1yr_train_min_upsampled = resample(data_1yr_train_min, replace = True, n_samples = 7657, random_state = 289)\n",
    "\n",
    "data_1yr_train = pd.concat([data_1yr_train_maj, data_1yr_train_min_upsampled])"
   ]
  },
  {
   "cell_type": "code",
   "execution_count": 16,
   "metadata": {},
   "outputs": [],
   "source": [
    "data_1yr_train_maj = data_1yr_train[data_1yr_train[\"casecont\"] == 0]\n",
    "data_1yr_train_min = data_1yr_train[data_1yr_train[\"casecont\"] == 1]\n",
    "\n",
    "data_1yr_train_min_upsampled = resample(data_1yr_train_min, replace = True, n_samples = 7657, random_state = 289)\n",
    "\n",
    "data_1yr_train = pd.concat([data_1yr_train_maj, data_1yr_train_min_upsampled])"
   ]
  },
  {
   "cell_type": "code",
   "execution_count": 17,
   "metadata": {},
   "outputs": [],
   "source": [
    "data_3yr_train_maj = data_3yr_train[data_3yr_train[\"casecont\"] == 0]\n",
    "data_3yr_train_min = data_3yr_train[data_3yr_train[\"casecont\"] == 1]\n",
    "\n",
    "data_3yr_train_min_upsampled = resample(data_3yr_train_min, replace = True, n_samples = 7657, random_state = 289)\n",
    "\n",
    "data_3yr_train = pd.concat([data_3yr_train_maj, data_3yr_train_min_upsampled])"
   ]
  },
  {
   "cell_type": "code",
   "execution_count": 18,
   "metadata": {},
   "outputs": [],
   "source": [
    "data_5yr_train_maj = data_5yr_train[data_5yr_train[\"casecont\"] == 0]\n",
    "data_5yr_train_min = data_5yr_train[data_5yr_train[\"casecont\"] == 1]\n",
    "\n",
    "data_5yr_train_min_upsampled = resample(data_5yr_train_min, replace = True, n_samples = 7657, random_state = 289)\n",
    "\n",
    "data_5yr_train = pd.concat([data_5yr_train_maj, data_5yr_train_min_upsampled])"
   ]
  },
  {
   "cell_type": "code",
   "execution_count": 19,
   "metadata": {},
   "outputs": [],
   "source": [
    "data_10yr_train_maj = data_10yr_train[data_10yr_train[\"casecont\"] == 0]\n",
    "data_10yr_train_min = data_10yr_train[data_10yr_train[\"casecont\"] == 1]\n",
    "\n",
    "data_10yr_train_min_upsampled = resample(data_10yr_train_min, replace = True, n_samples = 7657, random_state = 289)\n",
    "\n",
    "data_10yr_train = pd.concat([data_10yr_train_maj, data_10yr_train_min_upsampled])"
   ]
  },
  {
   "cell_type": "code",
   "execution_count": 6,
   "metadata": {},
   "outputs": [
    {
     "name": "stdout",
     "output_type": "stream",
     "text": [
      "1    7657\n",
      "0    7657\n",
      "Name: casecont, dtype: int64\n"
     ]
    },
    {
     "ename": "NameError",
     "evalue": "name 'data_1yr_train' is not defined",
     "output_type": "error",
     "traceback": [
      "\u001b[0;31m---------------------------------------------------------------------------\u001b[0m",
      "\u001b[0;31mNameError\u001b[0m                                 Traceback (most recent call last)",
      "\u001b[0;32m<ipython-input-6-3c92a206e735>\u001b[0m in \u001b[0;36m<module>\u001b[0;34m\u001b[0m\n\u001b[1;32m      1\u001b[0m \u001b[0mprint\u001b[0m\u001b[0;34m(\u001b[0m\u001b[0mdata_train\u001b[0m\u001b[0;34m[\u001b[0m\u001b[0;34m\"casecont\"\u001b[0m\u001b[0;34m]\u001b[0m\u001b[0;34m.\u001b[0m\u001b[0mvalue_counts\u001b[0m\u001b[0;34m(\u001b[0m\u001b[0;34m)\u001b[0m\u001b[0;34m)\u001b[0m\u001b[0;34m\u001b[0m\u001b[0;34m\u001b[0m\u001b[0m\n\u001b[0;32m----> 2\u001b[0;31m \u001b[0mprint\u001b[0m\u001b[0;34m(\u001b[0m\u001b[0mdata_1yr_train\u001b[0m\u001b[0;34m[\u001b[0m\u001b[0;34m\"casecont\"\u001b[0m\u001b[0;34m]\u001b[0m\u001b[0;34m.\u001b[0m\u001b[0mvalue_counts\u001b[0m\u001b[0;34m(\u001b[0m\u001b[0;34m)\u001b[0m\u001b[0;34m)\u001b[0m\u001b[0;34m\u001b[0m\u001b[0;34m\u001b[0m\u001b[0m\n\u001b[0m\u001b[1;32m      3\u001b[0m \u001b[0mprint\u001b[0m\u001b[0;34m(\u001b[0m\u001b[0mdata_3yr_train\u001b[0m\u001b[0;34m[\u001b[0m\u001b[0;34m\"casecont\"\u001b[0m\u001b[0;34m]\u001b[0m\u001b[0;34m.\u001b[0m\u001b[0mvalue_counts\u001b[0m\u001b[0;34m(\u001b[0m\u001b[0;34m)\u001b[0m\u001b[0;34m)\u001b[0m\u001b[0;34m\u001b[0m\u001b[0;34m\u001b[0m\u001b[0m\n\u001b[1;32m      4\u001b[0m \u001b[0mprint\u001b[0m\u001b[0;34m(\u001b[0m\u001b[0mdata_5yr_train\u001b[0m\u001b[0;34m[\u001b[0m\u001b[0;34m\"casecont\"\u001b[0m\u001b[0;34m]\u001b[0m\u001b[0;34m.\u001b[0m\u001b[0mvalue_counts\u001b[0m\u001b[0;34m(\u001b[0m\u001b[0;34m)\u001b[0m\u001b[0;34m)\u001b[0m\u001b[0;34m\u001b[0m\u001b[0;34m\u001b[0m\u001b[0m\n\u001b[1;32m      5\u001b[0m \u001b[0mprint\u001b[0m\u001b[0;34m(\u001b[0m\u001b[0mdata_10yr_train\u001b[0m\u001b[0;34m[\u001b[0m\u001b[0;34m\"casecont\"\u001b[0m\u001b[0;34m]\u001b[0m\u001b[0;34m.\u001b[0m\u001b[0mvalue_counts\u001b[0m\u001b[0;34m(\u001b[0m\u001b[0;34m)\u001b[0m\u001b[0;34m)\u001b[0m\u001b[0;34m\u001b[0m\u001b[0;34m\u001b[0m\u001b[0m\n",
      "\u001b[0;31mNameError\u001b[0m: name 'data_1yr_train' is not defined"
     ]
    }
   ],
   "source": [
    "print(data_train[\"casecont\"].value_counts())\n",
    "print(data_1yr_train[\"casecont\"].value_counts())\n",
    "print(data_3yr_train[\"casecont\"].value_counts())\n",
    "print(data_5yr_train[\"casecont\"].value_counts())\n",
    "print(data_10yr_train[\"casecont\"].value_counts())"
   ]
  },
  {
   "cell_type": "markdown",
   "metadata": {},
   "source": [
    "## Create X and Y"
   ]
  },
  {
   "cell_type": "code",
   "execution_count": 7,
   "metadata": {},
   "outputs": [],
   "source": [
    "data_train = data_train.drop([\"Unnamed: 0\", \"eid\"], axis = 1)\n",
    "data_test = data_test.drop([\"Unnamed: 0\", \"eid\"], axis = 1)\n",
    "\n",
    "X_train = data_train.drop([\"casecont\"], axis = 1)\n",
    "Y_train = data_train[\"casecont\"]\n",
    "X_test = data_test.drop([\"casecont\"], axis = 1)\n",
    "Y_test = data_test[\"casecont\"]"
   ]
  },
  {
   "cell_type": "code",
   "execution_count": 24,
   "metadata": {},
   "outputs": [],
   "source": [
    "X_train_1yr = data_1yr_train.drop([\"Unnamed: 0\", \"eid\", \"casecont\"], axis = 1)\n",
    "Y_train_1yr = data_1yr_train[\"casecont\"]\n",
    "\n",
    "X_test_1yr = data_1yr_test.drop([\"Unnamed: 0\", \"eid\", \"casecont\"], axis = 1)\n",
    "Y_test_1yr = data_1yr_test[\"casecont\"]\n",
    "\n",
    "X_train_3yr = data_3yr_train.drop([\"Unnamed: 0\", \"eid\", \"casecont\"], axis = 1)\n",
    "Y_train_3yr = data_3yr_train[\"casecont\"]\n",
    "\n",
    "X_test_3yr = data_3yr_test.drop([\"Unnamed: 0\", \"eid\", \"casecont\"], axis = 1)\n",
    "Y_test_3yr = data_3yr_test[\"casecont\"]\n",
    "\n",
    "X_train_5yr = data_5yr_train.drop([\"Unnamed: 0\", \"eid\", \"casecont\"], axis = 1)\n",
    "Y_train_5yr = data_5yr_train[\"casecont\"]\n",
    "\n",
    "X_test_5yr = data_5yr_test.drop([\"Unnamed: 0\", \"eid\", \"casecont\"], axis = 1)\n",
    "Y_test_5yr = data_5yr_test[\"casecont\"]\n",
    "\n",
    "X_train_10yr = data_10yr_train.drop([\"Unnamed: 0\", \"eid\", \"casecont\"], axis = 1)\n",
    "Y_train_10yr = data_10yr_train[\"casecont\"]\n",
    "\n",
    "X_test_10yr = data_10yr_test.drop([\"Unnamed: 0\", \"eid\", \"casecont\"], axis = 1)\n",
    "Y_test_10yr = data_10yr_test[\"casecont\"]"
   ]
  },
  {
   "cell_type": "code",
   "execution_count": 8,
   "metadata": {},
   "outputs": [
    {
     "name": "stdout",
     "output_type": "stream",
     "text": [
      "(15314, 377)\n",
      "(15314,)\n",
      "(3839, 377)\n",
      "(3839,)\n"
     ]
    }
   ],
   "source": [
    "print(X_train.shape)\n",
    "print(Y_train.shape)\n",
    "\n",
    "print(X_test.shape)\n",
    "print(Y_test.shape)"
   ]
  },
  {
   "cell_type": "code",
   "execution_count": 25,
   "metadata": {},
   "outputs": [
    {
     "name": "stdout",
     "output_type": "stream",
     "text": [
      "(15314, 565)\n",
      "(15314,)\n",
      "(3839, 565)\n",
      "(3839,)\n",
      "(15314, 696)\n",
      "(15314,)\n",
      "(3839, 696)\n",
      "(3839,)\n",
      "(15314, 771)\n",
      "(15314,)\n",
      "(3839, 771)\n",
      "(3839,)\n",
      "(15314, 870)\n",
      "(15314,)\n",
      "(3839, 870)\n",
      "(3839,)\n"
     ]
    }
   ],
   "source": [
    "print(X_train_1yr.shape)\n",
    "print(Y_train_1yr.shape) \n",
    "\n",
    "print(X_test_1yr.shape)\n",
    "print(Y_test_1yr.shape) \n",
    "\n",
    "print(X_train_3yr.shape)\n",
    "print(Y_train_3yr.shape) \n",
    "\n",
    "print(X_test_3yr.shape)\n",
    "print(Y_test_3yr.shape) \n",
    "\n",
    "print(X_train_5yr.shape)\n",
    "print(Y_train_5yr.shape) \n",
    "\n",
    "print(X_test_5yr.shape)\n",
    "print(Y_test_5yr.shape) \n",
    "\n",
    "print(X_train_10yr.shape)\n",
    "print(Y_train_10yr.shape) \n",
    "\n",
    "print(X_test_10yr.shape)\n",
    "print(Y_test_10yr.shape) "
   ]
  },
  {
   "cell_type": "code",
   "execution_count": 13,
   "metadata": {},
   "outputs": [
    {
     "data": {
      "text/html": [
       "<div>\n",
       "<style scoped>\n",
       "    .dataframe tbody tr th:only-of-type {\n",
       "        vertical-align: middle;\n",
       "    }\n",
       "\n",
       "    .dataframe tbody tr th {\n",
       "        vertical-align: top;\n",
       "    }\n",
       "\n",
       "    .dataframe thead th {\n",
       "        text-align: right;\n",
       "    }\n",
       "</style>\n",
       "<table border=\"1\" class=\"dataframe\">\n",
       "  <thead>\n",
       "    <tr style=\"text-align: right;\">\n",
       "      <th></th>\n",
       "      <th>X21022.0.0</th>\n",
       "      <th>X31.0.0.y</th>\n",
       "      <th>0</th>\n",
       "      <th>1</th>\n",
       "      <th>2</th>\n",
       "      <th>3</th>\n",
       "      <th>4</th>\n",
       "      <th>5</th>\n",
       "      <th>6</th>\n",
       "      <th>7</th>\n",
       "      <th>...</th>\n",
       "      <th>365</th>\n",
       "      <th>366</th>\n",
       "      <th>367</th>\n",
       "      <th>368</th>\n",
       "      <th>369</th>\n",
       "      <th>370</th>\n",
       "      <th>371</th>\n",
       "      <th>372</th>\n",
       "      <th>373</th>\n",
       "      <th>374</th>\n",
       "    </tr>\n",
       "  </thead>\n",
       "  <tbody>\n",
       "    <tr>\n",
       "      <th>0</th>\n",
       "      <td>66</td>\n",
       "      <td>1</td>\n",
       "      <td>-3.191095</td>\n",
       "      <td>-0.677469</td>\n",
       "      <td>0.311401</td>\n",
       "      <td>0.500885</td>\n",
       "      <td>2.155006</td>\n",
       "      <td>1.952517</td>\n",
       "      <td>-1.528051</td>\n",
       "      <td>1.665598</td>\n",
       "      <td>...</td>\n",
       "      <td>0.324298</td>\n",
       "      <td>-0.851730</td>\n",
       "      <td>-0.237109</td>\n",
       "      <td>-0.287929</td>\n",
       "      <td>-0.337016</td>\n",
       "      <td>0.108713</td>\n",
       "      <td>0.207263</td>\n",
       "      <td>0.305223</td>\n",
       "      <td>0.409423</td>\n",
       "      <td>0.150535</td>\n",
       "    </tr>\n",
       "    <tr>\n",
       "      <th>1</th>\n",
       "      <td>69</td>\n",
       "      <td>1</td>\n",
       "      <td>-0.387576</td>\n",
       "      <td>-1.836874</td>\n",
       "      <td>-2.018984</td>\n",
       "      <td>1.149321</td>\n",
       "      <td>-1.141178</td>\n",
       "      <td>1.704224</td>\n",
       "      <td>0.306925</td>\n",
       "      <td>0.115916</td>\n",
       "      <td>...</td>\n",
       "      <td>0.069974</td>\n",
       "      <td>0.249612</td>\n",
       "      <td>0.082616</td>\n",
       "      <td>0.244594</td>\n",
       "      <td>-0.044925</td>\n",
       "      <td>-0.230128</td>\n",
       "      <td>0.050705</td>\n",
       "      <td>-0.075294</td>\n",
       "      <td>0.201844</td>\n",
       "      <td>-0.675504</td>\n",
       "    </tr>\n",
       "    <tr>\n",
       "      <th>2</th>\n",
       "      <td>50</td>\n",
       "      <td>0</td>\n",
       "      <td>1.294949</td>\n",
       "      <td>-4.484496</td>\n",
       "      <td>-0.837069</td>\n",
       "      <td>1.851994</td>\n",
       "      <td>1.368840</td>\n",
       "      <td>1.717175</td>\n",
       "      <td>2.932464</td>\n",
       "      <td>-2.202618</td>\n",
       "      <td>...</td>\n",
       "      <td>-0.519334</td>\n",
       "      <td>-0.016357</td>\n",
       "      <td>0.207302</td>\n",
       "      <td>-0.444398</td>\n",
       "      <td>-0.071138</td>\n",
       "      <td>-0.382779</td>\n",
       "      <td>-0.195934</td>\n",
       "      <td>0.450909</td>\n",
       "      <td>-0.082163</td>\n",
       "      <td>0.295133</td>\n",
       "    </tr>\n",
       "    <tr>\n",
       "      <th>3</th>\n",
       "      <td>46</td>\n",
       "      <td>1</td>\n",
       "      <td>-0.002175</td>\n",
       "      <td>10.232414</td>\n",
       "      <td>-4.838340</td>\n",
       "      <td>6.001560</td>\n",
       "      <td>-1.119284</td>\n",
       "      <td>-1.379144</td>\n",
       "      <td>-0.687119</td>\n",
       "      <td>-0.015487</td>\n",
       "      <td>...</td>\n",
       "      <td>0.130083</td>\n",
       "      <td>-0.012671</td>\n",
       "      <td>0.205144</td>\n",
       "      <td>-0.207965</td>\n",
       "      <td>-0.268298</td>\n",
       "      <td>-0.083325</td>\n",
       "      <td>-0.022101</td>\n",
       "      <td>-0.094901</td>\n",
       "      <td>-0.162897</td>\n",
       "      <td>-0.168396</td>\n",
       "    </tr>\n",
       "    <tr>\n",
       "      <th>4</th>\n",
       "      <td>52</td>\n",
       "      <td>0</td>\n",
       "      <td>1.058770</td>\n",
       "      <td>-1.506609</td>\n",
       "      <td>0.428277</td>\n",
       "      <td>1.998242</td>\n",
       "      <td>-1.711726</td>\n",
       "      <td>-2.130647</td>\n",
       "      <td>0.741620</td>\n",
       "      <td>-2.262539</td>\n",
       "      <td>...</td>\n",
       "      <td>0.080763</td>\n",
       "      <td>0.057671</td>\n",
       "      <td>-0.109960</td>\n",
       "      <td>0.379671</td>\n",
       "      <td>0.044302</td>\n",
       "      <td>0.367752</td>\n",
       "      <td>-0.433283</td>\n",
       "      <td>-0.101109</td>\n",
       "      <td>-0.341636</td>\n",
       "      <td>0.338405</td>\n",
       "    </tr>\n",
       "  </tbody>\n",
       "</table>\n",
       "<p>5 rows × 377 columns</p>\n",
       "</div>"
      ],
      "text/plain": [
       "   X21022.0.0  X31.0.0.y         0          1         2         3         4  \\\n",
       "0          66          1 -3.191095  -0.677469  0.311401  0.500885  2.155006   \n",
       "1          69          1 -0.387576  -1.836874 -2.018984  1.149321 -1.141178   \n",
       "2          50          0  1.294949  -4.484496 -0.837069  1.851994  1.368840   \n",
       "3          46          1 -0.002175  10.232414 -4.838340  6.001560 -1.119284   \n",
       "4          52          0  1.058770  -1.506609  0.428277  1.998242 -1.711726   \n",
       "\n",
       "          5         6         7  ...       365       366       367       368  \\\n",
       "0  1.952517 -1.528051  1.665598  ...  0.324298 -0.851730 -0.237109 -0.287929   \n",
       "1  1.704224  0.306925  0.115916  ...  0.069974  0.249612  0.082616  0.244594   \n",
       "2  1.717175  2.932464 -2.202618  ... -0.519334 -0.016357  0.207302 -0.444398   \n",
       "3 -1.379144 -0.687119 -0.015487  ...  0.130083 -0.012671  0.205144 -0.207965   \n",
       "4 -2.130647  0.741620 -2.262539  ...  0.080763  0.057671 -0.109960  0.379671   \n",
       "\n",
       "        369       370       371       372       373       374  \n",
       "0 -0.337016  0.108713  0.207263  0.305223  0.409423  0.150535  \n",
       "1 -0.044925 -0.230128  0.050705 -0.075294  0.201844 -0.675504  \n",
       "2 -0.071138 -0.382779 -0.195934  0.450909 -0.082163  0.295133  \n",
       "3 -0.268298 -0.083325 -0.022101 -0.094901 -0.162897 -0.168396  \n",
       "4  0.044302  0.367752 -0.433283 -0.101109 -0.341636  0.338405  \n",
       "\n",
       "[5 rows x 377 columns]"
      ]
     },
     "execution_count": 13,
     "metadata": {},
     "output_type": "execute_result"
    }
   ],
   "source": [
    "X_train.head()"
   ]
  },
  {
   "cell_type": "code",
   "execution_count": 26,
   "metadata": {},
   "outputs": [
    {
     "data": {
      "text/html": [
       "<div>\n",
       "<style scoped>\n",
       "    .dataframe tbody tr th:only-of-type {\n",
       "        vertical-align: middle;\n",
       "    }\n",
       "\n",
       "    .dataframe tbody tr th {\n",
       "        vertical-align: top;\n",
       "    }\n",
       "\n",
       "    .dataframe thead th {\n",
       "        text-align: right;\n",
       "    }\n",
       "</style>\n",
       "<table border=\"1\" class=\"dataframe\">\n",
       "  <thead>\n",
       "    <tr style=\"text-align: right;\">\n",
       "      <th></th>\n",
       "      <th>X21022.0.0</th>\n",
       "      <th>X31.0.0.y</th>\n",
       "      <th>0</th>\n",
       "      <th>1</th>\n",
       "      <th>2</th>\n",
       "      <th>3</th>\n",
       "      <th>4</th>\n",
       "      <th>5</th>\n",
       "      <th>6</th>\n",
       "      <th>7</th>\n",
       "      <th>...</th>\n",
       "      <th>Z88</th>\n",
       "      <th>Z90</th>\n",
       "      <th>Z91</th>\n",
       "      <th>Z92</th>\n",
       "      <th>Z93</th>\n",
       "      <th>Z94</th>\n",
       "      <th>Z95</th>\n",
       "      <th>Z96</th>\n",
       "      <th>Z98</th>\n",
       "      <th>Z99</th>\n",
       "    </tr>\n",
       "  </thead>\n",
       "  <tbody>\n",
       "    <tr>\n",
       "      <th>0</th>\n",
       "      <td>66</td>\n",
       "      <td>1</td>\n",
       "      <td>-3.191095</td>\n",
       "      <td>-0.677469</td>\n",
       "      <td>0.311401</td>\n",
       "      <td>0.500885</td>\n",
       "      <td>2.155006</td>\n",
       "      <td>1.952517</td>\n",
       "      <td>-1.528051</td>\n",
       "      <td>1.665598</td>\n",
       "      <td>...</td>\n",
       "      <td>0</td>\n",
       "      <td>0</td>\n",
       "      <td>0</td>\n",
       "      <td>0</td>\n",
       "      <td>0</td>\n",
       "      <td>0</td>\n",
       "      <td>0</td>\n",
       "      <td>0</td>\n",
       "      <td>0</td>\n",
       "      <td>0</td>\n",
       "    </tr>\n",
       "    <tr>\n",
       "      <th>1</th>\n",
       "      <td>69</td>\n",
       "      <td>1</td>\n",
       "      <td>-0.387576</td>\n",
       "      <td>-1.836874</td>\n",
       "      <td>-2.018984</td>\n",
       "      <td>1.149321</td>\n",
       "      <td>-1.141178</td>\n",
       "      <td>1.704224</td>\n",
       "      <td>0.306925</td>\n",
       "      <td>0.115916</td>\n",
       "      <td>...</td>\n",
       "      <td>0</td>\n",
       "      <td>0</td>\n",
       "      <td>0</td>\n",
       "      <td>0</td>\n",
       "      <td>0</td>\n",
       "      <td>0</td>\n",
       "      <td>0</td>\n",
       "      <td>0</td>\n",
       "      <td>0</td>\n",
       "      <td>0</td>\n",
       "    </tr>\n",
       "    <tr>\n",
       "      <th>2</th>\n",
       "      <td>50</td>\n",
       "      <td>0</td>\n",
       "      <td>1.294949</td>\n",
       "      <td>-4.484496</td>\n",
       "      <td>-0.837069</td>\n",
       "      <td>1.851994</td>\n",
       "      <td>1.368840</td>\n",
       "      <td>1.717175</td>\n",
       "      <td>2.932464</td>\n",
       "      <td>-2.202618</td>\n",
       "      <td>...</td>\n",
       "      <td>0</td>\n",
       "      <td>0</td>\n",
       "      <td>0</td>\n",
       "      <td>0</td>\n",
       "      <td>0</td>\n",
       "      <td>0</td>\n",
       "      <td>0</td>\n",
       "      <td>0</td>\n",
       "      <td>0</td>\n",
       "      <td>0</td>\n",
       "    </tr>\n",
       "    <tr>\n",
       "      <th>3</th>\n",
       "      <td>46</td>\n",
       "      <td>1</td>\n",
       "      <td>-0.002175</td>\n",
       "      <td>10.232414</td>\n",
       "      <td>-4.838340</td>\n",
       "      <td>6.001560</td>\n",
       "      <td>-1.119284</td>\n",
       "      <td>-1.379144</td>\n",
       "      <td>-0.687119</td>\n",
       "      <td>-0.015487</td>\n",
       "      <td>...</td>\n",
       "      <td>0</td>\n",
       "      <td>0</td>\n",
       "      <td>0</td>\n",
       "      <td>0</td>\n",
       "      <td>0</td>\n",
       "      <td>0</td>\n",
       "      <td>0</td>\n",
       "      <td>0</td>\n",
       "      <td>0</td>\n",
       "      <td>0</td>\n",
       "    </tr>\n",
       "    <tr>\n",
       "      <th>4</th>\n",
       "      <td>52</td>\n",
       "      <td>0</td>\n",
       "      <td>1.058770</td>\n",
       "      <td>-1.506609</td>\n",
       "      <td>0.428277</td>\n",
       "      <td>1.998242</td>\n",
       "      <td>-1.711726</td>\n",
       "      <td>-2.130647</td>\n",
       "      <td>0.741620</td>\n",
       "      <td>-2.262539</td>\n",
       "      <td>...</td>\n",
       "      <td>0</td>\n",
       "      <td>0</td>\n",
       "      <td>0</td>\n",
       "      <td>0</td>\n",
       "      <td>0</td>\n",
       "      <td>0</td>\n",
       "      <td>0</td>\n",
       "      <td>0</td>\n",
       "      <td>0</td>\n",
       "      <td>0</td>\n",
       "    </tr>\n",
       "  </tbody>\n",
       "</table>\n",
       "<p>5 rows × 565 columns</p>\n",
       "</div>"
      ],
      "text/plain": [
       "   X21022.0.0  X31.0.0.y         0          1         2         3         4  \\\n",
       "0          66          1 -3.191095  -0.677469  0.311401  0.500885  2.155006   \n",
       "1          69          1 -0.387576  -1.836874 -2.018984  1.149321 -1.141178   \n",
       "2          50          0  1.294949  -4.484496 -0.837069  1.851994  1.368840   \n",
       "3          46          1 -0.002175  10.232414 -4.838340  6.001560 -1.119284   \n",
       "4          52          0  1.058770  -1.506609  0.428277  1.998242 -1.711726   \n",
       "\n",
       "          5         6         7  ...  Z88  Z90  Z91  Z92  Z93  Z94  Z95  Z96  \\\n",
       "0  1.952517 -1.528051  1.665598  ...    0    0    0    0    0    0    0    0   \n",
       "1  1.704224  0.306925  0.115916  ...    0    0    0    0    0    0    0    0   \n",
       "2  1.717175  2.932464 -2.202618  ...    0    0    0    0    0    0    0    0   \n",
       "3 -1.379144 -0.687119 -0.015487  ...    0    0    0    0    0    0    0    0   \n",
       "4 -2.130647  0.741620 -2.262539  ...    0    0    0    0    0    0    0    0   \n",
       "\n",
       "   Z98  Z99  \n",
       "0    0    0  \n",
       "1    0    0  \n",
       "2    0    0  \n",
       "3    0    0  \n",
       "4    0    0  \n",
       "\n",
       "[5 rows x 565 columns]"
      ]
     },
     "execution_count": 26,
     "metadata": {},
     "output_type": "execute_result"
    }
   ],
   "source": [
    "X_train_1yr.head()"
   ]
  },
  {
   "cell_type": "markdown",
   "metadata": {},
   "source": [
    "## XGBoost Models"
   ]
  },
  {
   "cell_type": "markdown",
   "metadata": {},
   "source": [
    "#### Baseline models"
   ]
  },
  {
   "cell_type": "code",
   "execution_count": 14,
   "metadata": {},
   "outputs": [
    {
     "data": {
      "text/plain": [
       "XGBClassifier(base_score=0.5, booster='gbtree', colsample_bylevel=1,\n",
       "              colsample_bynode=1, colsample_bytree=1, gamma=0, gpu_id=-1,\n",
       "              importance_type='gain', interaction_constraints='',\n",
       "              learning_rate=0.05, max_delta_step=0, max_depth=3,\n",
       "              min_child_weight=6, missing=nan, monotone_constraints='()',\n",
       "              n_estimators=100, n_jobs=0, num_parallel_tree=1, random_state=0,\n",
       "              reg_alpha=0, reg_lambda=1, scale_pos_weight=1, subsample=0.5,\n",
       "              tree_method='exact', validate_parameters=1, verbosity=None)"
      ]
     },
     "execution_count": 14,
     "metadata": {},
     "output_type": "execute_result"
    }
   ],
   "source": [
    "model = xgb.XGBClassifier(learning_rate = 0.05, max_depth = 3, min_child_weight = 6, subsample = 0.5)\n",
    "model.fit(X_train, Y_train)"
   ]
  },
  {
   "cell_type": "code",
   "execution_count": 15,
   "metadata": {},
   "outputs": [
    {
     "name": "stdout",
     "output_type": "stream",
     "text": [
      "Training accuracy => 0.76864\n",
      "Testing accuracy => 0.67596\n"
     ]
    }
   ],
   "source": [
    "train_score = round(model.score(X_train, Y_train), 5)\n",
    "test_score = round(model.score(X_test, Y_test), 5)\n",
    "\n",
    "print(f\"Training accuracy => {train_score}\")\n",
    "print(f\"Testing accuracy => {test_score}\")"
   ]
  },
  {
   "cell_type": "code",
   "execution_count": 27,
   "metadata": {},
   "outputs": [
    {
     "data": {
      "text/plain": [
       "XGBClassifier(base_score=0.5, booster='gbtree', colsample_bylevel=1,\n",
       "              colsample_bynode=1, colsample_bytree=1, gamma=0, gpu_id=-1,\n",
       "              importance_type='gain', interaction_constraints='',\n",
       "              learning_rate=0.05, max_delta_step=0, max_depth=3,\n",
       "              min_child_weight=6, missing=nan, monotone_constraints='()',\n",
       "              n_estimators=100, n_jobs=0, num_parallel_tree=1, random_state=0,\n",
       "              reg_alpha=0, reg_lambda=1, scale_pos_weight=1, subsample=0.5,\n",
       "              tree_method='exact', validate_parameters=1, verbosity=None)"
      ]
     },
     "execution_count": 27,
     "metadata": {},
     "output_type": "execute_result"
    }
   ],
   "source": [
    "model_1yr = xgb.XGBClassifier(learning_rate = 0.05, max_depth = 3, min_child_weight = 6, subsample = 0.5)\n",
    "model_1yr.fit(X_train_1yr, Y_train_1yr)"
   ]
  },
  {
   "cell_type": "code",
   "execution_count": 28,
   "metadata": {},
   "outputs": [
    {
     "name": "stdout",
     "output_type": "stream",
     "text": [
      "Training accuracy => 0.76342\n",
      "Testing accuracy => 0.68351\n"
     ]
    }
   ],
   "source": [
    "train_score = round(model_1yr.score(X_train_1yr, Y_train_1yr), 5)\n",
    "test_score = round(model_1yr.score(X_test_1yr, Y_test_1yr), 5)\n",
    "\n",
    "print(f\"Training accuracy => {train_score}\")\n",
    "print(f\"Testing accuracy => {test_score}\")"
   ]
  },
  {
   "cell_type": "code",
   "execution_count": 29,
   "metadata": {},
   "outputs": [
    {
     "data": {
      "text/plain": [
       "XGBClassifier(base_score=0.5, booster='gbtree', colsample_bylevel=1,\n",
       "              colsample_bynode=1, colsample_bytree=1, gamma=0, gpu_id=-1,\n",
       "              importance_type='gain', interaction_constraints='',\n",
       "              learning_rate=0.05, max_delta_step=0, max_depth=3,\n",
       "              min_child_weight=6, missing=nan, monotone_constraints='()',\n",
       "              n_estimators=100, n_jobs=0, num_parallel_tree=1, random_state=0,\n",
       "              reg_alpha=0, reg_lambda=1, scale_pos_weight=1, subsample=0.5,\n",
       "              tree_method='exact', validate_parameters=1, verbosity=None)"
      ]
     },
     "execution_count": 29,
     "metadata": {},
     "output_type": "execute_result"
    }
   ],
   "source": [
    "model_3yr = xgb.XGBClassifier(learning_rate = 0.05, max_depth = 3, min_child_weight = 6, subsample = 0.5)\n",
    "model_3yr.fit(X_train_3yr, Y_train_3yr)"
   ]
  },
  {
   "cell_type": "code",
   "execution_count": 30,
   "metadata": {},
   "outputs": [
    {
     "name": "stdout",
     "output_type": "stream",
     "text": [
      "Training accuracy => 0.76407\n",
      "Testing accuracy => 0.68299\n"
     ]
    }
   ],
   "source": [
    "train_score = round(model_3yr.score(X_train_3yr, Y_train_3yr), 5)\n",
    "test_score = round(model_3yr.score(X_test_3yr, Y_test_3yr), 5)\n",
    "\n",
    "print(f\"Training accuracy => {train_score}\")\n",
    "print(f\"Testing accuracy => {test_score}\")"
   ]
  },
  {
   "cell_type": "code",
   "execution_count": 31,
   "metadata": {},
   "outputs": [
    {
     "data": {
      "text/plain": [
       "XGBClassifier(base_score=0.5, booster='gbtree', colsample_bylevel=1,\n",
       "              colsample_bynode=1, colsample_bytree=1, gamma=0, gpu_id=-1,\n",
       "              importance_type='gain', interaction_constraints='',\n",
       "              learning_rate=0.05, max_delta_step=0, max_depth=3,\n",
       "              min_child_weight=6, missing=nan, monotone_constraints='()',\n",
       "              n_estimators=100, n_jobs=0, num_parallel_tree=1, random_state=0,\n",
       "              reg_alpha=0, reg_lambda=1, scale_pos_weight=1, subsample=0.5,\n",
       "              tree_method='exact', validate_parameters=1, verbosity=None)"
      ]
     },
     "execution_count": 31,
     "metadata": {},
     "output_type": "execute_result"
    }
   ],
   "source": [
    "model_5yr = xgb.XGBClassifier(learning_rate = 0.05, max_depth = 3, min_child_weight = 6, subsample = 0.5)\n",
    "model_5yr.fit(X_train_5yr, Y_train_5yr)"
   ]
  },
  {
   "cell_type": "code",
   "execution_count": 32,
   "metadata": {},
   "outputs": [
    {
     "name": "stdout",
     "output_type": "stream",
     "text": [
      "Training accuracy => 0.76192\n",
      "Testing accuracy => 0.67778\n"
     ]
    }
   ],
   "source": [
    "train_score = round(model_5yr.score(X_train_5yr, Y_train_5yr), 5)\n",
    "test_score = round(model_5yr.score(X_test_5yr, Y_test_5yr), 5)\n",
    "\n",
    "print(f\"Training accuracy => {train_score}\")\n",
    "print(f\"Testing accuracy => {test_score}\")"
   ]
  },
  {
   "cell_type": "code",
   "execution_count": 33,
   "metadata": {},
   "outputs": [
    {
     "data": {
      "text/plain": [
       "XGBClassifier(base_score=0.5, booster='gbtree', colsample_bylevel=1,\n",
       "              colsample_bynode=1, colsample_bytree=1, gamma=0, gpu_id=-1,\n",
       "              importance_type='gain', interaction_constraints='',\n",
       "              learning_rate=0.05, max_delta_step=0, max_depth=3,\n",
       "              min_child_weight=6, missing=nan, monotone_constraints='()',\n",
       "              n_estimators=100, n_jobs=0, num_parallel_tree=1, random_state=0,\n",
       "              reg_alpha=0, reg_lambda=1, scale_pos_weight=1, subsample=0.5,\n",
       "              tree_method='exact', validate_parameters=1, verbosity=None)"
      ]
     },
     "execution_count": 33,
     "metadata": {},
     "output_type": "execute_result"
    }
   ],
   "source": [
    "model_10yr = xgb.XGBClassifier(learning_rate = 0.05, max_depth = 3, min_child_weight = 6, subsample = 0.5)\n",
    "model_10yr.fit(X_train_10yr, Y_train_10yr)"
   ]
  },
  {
   "cell_type": "code",
   "execution_count": 34,
   "metadata": {},
   "outputs": [
    {
     "name": "stdout",
     "output_type": "stream",
     "text": [
      "Training accuracy => 0.76107\n",
      "Testing accuracy => 0.68273\n"
     ]
    }
   ],
   "source": [
    "train_score = round(model_10yr.score(X_train_10yr, Y_train_10yr), 5)\n",
    "test_score = round(model_10yr.score(X_test_10yr, Y_test_10yr), 5)\n",
    "\n",
    "print(f\"Training accuracy => {train_score}\")\n",
    "print(f\"Testing accuracy => {test_score}\")"
   ]
  },
  {
   "cell_type": "markdown",
   "metadata": {},
   "source": [
    "## Plot the ROC curves"
   ]
  },
  {
   "cell_type": "markdown",
   "metadata": {},
   "source": [
    "#### This is the code to build the roc curve plot, will need more results obviously, but shouldn't take too long to extend this code!"
   ]
  },
  {
   "cell_type": "code",
   "execution_count": 16,
   "metadata": {},
   "outputs": [],
   "source": [
    "result_table = pd.DataFrame(columns=['Time window', 'fpr','tpr','auc'])"
   ]
  },
  {
   "cell_type": "code",
   "execution_count": 17,
   "metadata": {},
   "outputs": [],
   "source": [
    "yproba = model.predict_proba(X_test)[::,1]\n",
    "fpr, tpr, _ = roc_curve(Y_test,  yproba)\n",
    "auc = roc_auc_score(Y_test, yproba)\n",
    "\n",
    "result_table = result_table.append({'Time window':\"1 year\",\n",
    "                                    'fpr':fpr, \n",
    "                                        'tpr':tpr, \n",
    "                                        'auc':auc}, ignore_index=True)"
   ]
  },
  {
   "cell_type": "code",
   "execution_count": 36,
   "metadata": {},
   "outputs": [],
   "source": [
    "yproba = model_1yr.predict_proba(X_test_1yr)[::,1]\n",
    "fpr, tpr, _ = roc_curve(Y_test_1yr,  yproba)\n",
    "auc = roc_auc_score(Y_test_1yr, yproba)\n",
    "\n",
    "result_table = result_table.append({'Time window':\"1 year\",\n",
    "                                    'fpr':fpr, \n",
    "                                        'tpr':tpr, \n",
    "                                        'auc':auc}, ignore_index=True)"
   ]
  },
  {
   "cell_type": "code",
   "execution_count": 37,
   "metadata": {},
   "outputs": [],
   "source": [
    "yproba = model_3yr.predict_proba(X_test_3yr)[::,1]\n",
    "fpr, tpr, _ = roc_curve(Y_test_3yr,  yproba)\n",
    "auc = roc_auc_score(Y_test_3yr, yproba)\n",
    "\n",
    "result_table = result_table.append({'Time window':\"3 years\",\n",
    "                                    'fpr':fpr, \n",
    "                                        'tpr':tpr, \n",
    "                                        'auc':auc}, ignore_index=True)"
   ]
  },
  {
   "cell_type": "code",
   "execution_count": 38,
   "metadata": {},
   "outputs": [],
   "source": [
    "yproba = model_5yr.predict_proba(X_test_5yr)[::,1]\n",
    "fpr, tpr, _ = roc_curve(Y_test_5yr,  yproba)\n",
    "auc = roc_auc_score(Y_test_5yr, yproba)\n",
    "\n",
    "result_table = result_table.append({'Time window':\"5 years\",\n",
    "                                    'fpr':fpr, \n",
    "                                        'tpr':tpr, \n",
    "                                        'auc':auc}, ignore_index=True)"
   ]
  },
  {
   "cell_type": "code",
   "execution_count": 39,
   "metadata": {},
   "outputs": [],
   "source": [
    "yproba = model_10yr.predict_proba(X_test_10yr)[::,1]\n",
    "fpr, tpr, _ = roc_curve(Y_test_10yr,  yproba)\n",
    "auc = roc_auc_score(Y_test_10yr, yproba)\n",
    "\n",
    "result_table = result_table.append({'Time window':\"10 years\",\n",
    "                                    'fpr':fpr, \n",
    "                                        'tpr':tpr, \n",
    "                                        'auc':auc}, ignore_index=True)"
   ]
  },
  {
   "cell_type": "code",
   "execution_count": 18,
   "metadata": {},
   "outputs": [
    {
     "data": {
      "image/png": "[encoded data removed]",
      "text/plain": [
       "<Figure size 720x720 with 1 Axes>"
      ]
     },
     "metadata": {
      "needs_background": "light"
     },
     "output_type": "display_data"
    }
   ],
   "source": [
    "plt.rcParams[\"figure.figsize\"] = (10,10)\n",
    "\n",
    "plt.plot(result_table.fpr[0], result_table.tpr[0], label=\"PCA AUC => \" + str(round(result_table.auc[0], 4)))\n",
    "# plt.plot(result_table.fpr[0], result_table.tpr[0], label=\"1 Year AUC => \" + str(round(result_table.auc[0], 4)))\n",
    "# plt.plot(result_table.fpr[1], result_table.tpr[1], label=\"3 Years AUC => \" + str(round(result_table.auc[1], 4)))\n",
    "# plt.plot(result_table.fpr[2], result_table.tpr[2], label=\"5 Years AUC => \" + str(round(result_table.auc[2], 4)))\n",
    "# plt.plot(result_table.fpr[3], result_table.tpr[3], label=\"10 Years AUC => \" + str(round(result_table.auc[3], 4)))\n",
    "\n",
    "plt.plot([0,1], [0,1], color='orange', linestyle='--')\n",
    "\n",
    "plt.xticks(np.arange(0.0, 1.1, step=0.1))\n",
    "plt.xlabel(\"False Positive Rate\", fontsize=15)\n",
    "\n",
    "plt.yticks(np.arange(0.0, 1.1, step=0.1))\n",
    "plt.ylabel(\"True Positive Rate\", fontsize=15)\n",
    "\n",
    "plt.title('ROC Curve Analysis', fontweight='bold', fontsize=15)\n",
    "plt.legend(prop={'size':13}, loc='lower right')\n",
    "\n",
    "plt.show()"
   ]
  },
  {
   "cell_type": "markdown",
   "metadata": {},
   "source": [
    "## Extract important features"
   ]
  },
  {
   "cell_type": "markdown",
   "metadata": {},
   "source": [
    "#### PCA"
   ]
  },
  {
   "cell_type": "code",
   "execution_count": 19,
   "metadata": {},
   "outputs": [
    {
     "data": {
      "image/png": "[encoded data removed]",
      "text/plain": [
       "<Figure size 720x720 with 1 Axes>"
      ]
     },
     "metadata": {
      "needs_background": "light"
     },
     "output_type": "display_data"
    }
   ],
   "source": [
    "plt.bar(range(len(model.feature_importances_)), model.feature_importances_)\n",
    "plt.show()"
   ]
  },
  {
   "cell_type": "code",
   "execution_count": 20,
   "metadata": {},
   "outputs": [
    {
     "data": {
      "image/png": "[encoded data removed]",
      "text/plain": [
       "<Figure size 720x720 with 1 Axes>"
      ]
     },
     "metadata": {
      "needs_background": "light"
     },
     "output_type": "display_data"
    }
   ],
   "source": [
    "plot_importance(model, max_num_features=10)\n",
    "plt.show()"
   ]
  },
  {
   "cell_type": "markdown",
   "metadata": {},
   "source": [
    "#### 1 Year"
   ]
  },
  {
   "cell_type": "code",
   "execution_count": 41,
   "metadata": {},
   "outputs": [
    {
     "data": {
      "image/png": "[encoded data removed]",
      "text/plain": [
       "<Figure size 720x720 with 1 Axes>"
      ]
     },
     "metadata": {
      "needs_background": "light"
     },
     "output_type": "display_data"
    }
   ],
   "source": [
    "plt.bar(range(len(model_1yr.feature_importances_)), model_1yr.feature_importances_)\n",
    "plt.show()"
   ]
  },
  {
   "cell_type": "code",
   "execution_count": 42,
   "metadata": {},
   "outputs": [
    {
     "data": {
      "image/png": "[encoded data removed]",
      "text/plain": [
       "<Figure size 720x720 with 1 Axes>"
      ]
     },
     "metadata": {
      "needs_background": "light"
     },
     "output_type": "display_data"
    }
   ],
   "source": [
    "plot_importance(model_1yr, max_num_features=10)\n",
    "plt.show()"
   ]
  },
  {
   "cell_type": "markdown",
   "metadata": {},
   "source": [
    "#### 3 Years"
   ]
  },
  {
   "cell_type": "code",
   "execution_count": 43,
   "metadata": {},
   "outputs": [
    {
     "data": {
      "image/png": "[encoded data removed]",
      "text/plain": [
       "<Figure size 720x720 with 1 Axes>"
      ]
     },
     "metadata": {
      "needs_background": "light"
     },
     "output_type": "display_data"
    }
   ],
   "source": [
    "plt.bar(range(len(model_3yr.feature_importances_)), model_3yr.feature_importances_)\n",
    "plt.show()"
   ]
  },
  {
   "cell_type": "code",
   "execution_count": 44,
   "metadata": {},
   "outputs": [
    {
     "data": {
      "image/png": "[encoded data removed]",
      "text/plain": [
       "<Figure size 720x720 with 1 Axes>"
      ]
     },
     "metadata": {
      "needs_background": "light"
     },
     "output_type": "display_data"
    }
   ],
   "source": [
    "plot_importance(model_3yr, max_num_features=10)\n",
    "plt.show()"
   ]
  },
  {
   "cell_type": "markdown",
   "metadata": {},
   "source": [
    "#### 5 Years"
   ]
  },
  {
   "cell_type": "code",
   "execution_count": 45,
   "metadata": {},
   "outputs": [
    {
     "data": {
      "image/png": "[encoded data removed]",
      "text/plain": [
       "<Figure size 720x720 with 1 Axes>"
      ]
     },
     "metadata": {
      "needs_background": "light"
     },
     "output_type": "display_data"
    }
   ],
   "source": [
    "plt.bar(range(len(model_5yr.feature_importances_)), model_5yr.feature_importances_)\n",
    "plt.show()"
   ]
  },
  {
   "cell_type": "code",
   "execution_count": 46,
   "metadata": {},
   "outputs": [
    {
     "data": {
      "image/png": "[encoded data removed]",
      "text/plain": [
       "<Figure size 720x720 with 1 Axes>"
      ]
     },
     "metadata": {
      "needs_background": "light"
     },
     "output_type": "display_data"
    }
   ],
   "source": [
    "plot_importance(model_5yr, max_num_features=10)\n",
    "plt.show()"
   ]
  },
  {
   "cell_type": "markdown",
   "metadata": {},
   "source": [
    "#### 10 Years"
   ]
  },
  {
   "cell_type": "code",
   "execution_count": 47,
   "metadata": {},
   "outputs": [
    {
     "data": {
      "image/png": "[encoded data removed]",
      "text/plain": [
       "<Figure size 720x720 with 1 Axes>"
      ]
     },
     "metadata": {
      "needs_background": "light"
     },
     "output_type": "display_data"
    }
   ],
   "source": [
    "plt.bar(range(len(model_10yr.feature_importances_)), model_10yr.feature_importances_)\n",
    "plt.show()"
   ]
  },
  {
   "cell_type": "code",
   "execution_count": 48,
   "metadata": {},
   "outputs": [
    {
     "data": {
      "image/png": "[encoded data removed]",
      "text/plain": [
       "<Figure size 720x720 with 1 Axes>"
      ]
     },
     "metadata": {
      "needs_background": "light"
     },
     "output_type": "display_data"
    }
   ],
   "source": [
    "plot_importance(model_10yr, max_num_features=10)\n",
    "plt.show()"
   ]
  }
 ],
 "metadata": {
  "kernelspec": {
   "display_name": "Python 3",
   "language": "python",
   "name": "python3"
  },
  "language_info": {
   "codemirror_mode": {
    "name": "ipython",
    "version": 3
   },
   "file_extension": ".py",
   "mimetype": "text/x-python",
   "name": "python",
   "nbconvert_exporter": "python",
   "pygments_lexer": "ipython3",
   "version": "3.6.8"
  }
 },
 "nbformat": 4,
 "nbformat_minor": 2
}

{
 "cells": [
  {
   "cell_type": "markdown",
   "metadata": {},
   "source": [
    "# XGBoost models for 1, 3, 5 and 10 time windows ** with common count hes files"
   ]
  },
  {
   "cell_type": "markdown",
   "metadata": {},
   "source": [
    "## Libraries"
   ]
  },
  {
   "cell_type": "code",
   "execution_count": 1,
   "metadata": {},
   "outputs": [],
   "source": [
    "import os\n",
    "import numpy as np \n",
    "import pandas as pd\n",
    "import matplotlib.pyplot as plt\n",
    "import seaborn as sns\n",
    "\n",
    "from sklearn.model_selection import train_test_split, StratifiedKFold, GridSearchCV\n",
    "from sklearn.metrics import confusion_matrix, roc_auc_score, accuracy_score, f1_score, recall_score, precision_score, roc_curve\n",
    "from sklearn.utils import resample\n",
    "\n",
    "import xgboost as xgb\n",
    "from xgboost import plot_importance"
   ]
  },
  {
   "cell_type": "markdown",
   "metadata": {},
   "source": [
    "## Directory"
   ]
  },
  {
   "cell_type": "code",
   "execution_count": 2,
   "metadata": {},
   "outputs": [],
   "source": [
    "os.chdir(\"/rds/general/project/hda_students_data/live/Group9/General/Data/Final_final_final_datasets\")"
   ]
  },
  {
   "cell_type": "markdown",
   "metadata": {},
   "source": [
    "## Load in data"
   ]
  },
  {
   "cell_type": "code",
   "execution_count": 54,
   "metadata": {},
   "outputs": [],
   "source": [
    "data_train = pd.read_csv(\"train_data_pca.csv\")\n",
    "data_test = pd.read_csv(\"test_data_pca.csv\")"
   ]
  },
  {
   "cell_type": "code",
   "execution_count": 55,
   "metadata": {},
   "outputs": [],
   "source": [
    "hes_1yr = pd.read_csv(\"../1_3_5_10_hes_common/hes_1yr_hes_count.csv\")\n",
    "hes_3yr = pd.read_csv(\"../1_3_5_10_hes_common/hes_3yr_hes_count.csv\")\n",
    "hes_5yr = pd.read_csv(\"../1_3_5_10_hes_common/hes_5yr_hes_count.csv\")\n",
    "hes_10yr = pd.read_csv(\"../1_3_5_10_hes_common/hes_10yr_hes_count.csv\")"
   ]
  },
  {
   "cell_type": "code",
   "execution_count": 56,
   "metadata": {},
   "outputs": [
    {
     "name": "stdout",
     "output_type": "stream",
     "text": [
      "(11517, 380)\n",
      "(3839, 380)\n",
      "(15356, 193)\n",
      "(15356, 324)\n",
      "(15356, 399)\n",
      "(15356, 498)\n"
     ]
    }
   ],
   "source": [
    "print(data_train.shape)\n",
    "print(data_test.shape)\n",
    "print(hes_1yr.shape)\n",
    "print(hes_3yr.shape)\n",
    "print(hes_5yr.shape)\n",
    "print(hes_10yr.shape)"
   ]
  },
  {
   "cell_type": "code",
   "execution_count": 57,
   "metadata": {},
   "outputs": [],
   "source": [
    "hes_1yr = hes_1yr.drop([\"X21003.0.0\", \"X31.0.0\", \"casecont\", \"triplet_id\"], axis = 1)\n",
    "data_1yr_train = data_train.merge(hes_1yr, on = \"eid\", how = \"left\")\n",
    "data_1yr_test = data_test.merge(hes_1yr, on = \"eid\", how = \"left\")"
   ]
  },
  {
   "cell_type": "code",
   "execution_count": 58,
   "metadata": {},
   "outputs": [],
   "source": [
    "data_1yr_train.to_csv(\"train_1yr_count_hesin_pca.csv\")\n",
    "data_1yr_test.to_csv(\"test_1yr_coount_hesin_pca.csv\")"
   ]
  },
  {
   "cell_type": "code",
   "execution_count": 59,
   "metadata": {},
   "outputs": [],
   "source": [
    "hes_3yr = hes_3yr.drop([\"X21003.0.0\", \"X31.0.0\", \"casecont\", \"triplet_id\"], axis = 1)\n",
    "data_3yr_train = data_train.merge(hes_3yr, on = \"eid\", how = \"left\")\n",
    "data_3yr_test = data_test.merge(hes_3yr, on = \"eid\", how = \"left\")"
   ]
  },
  {
   "cell_type": "code",
   "execution_count": 60,
   "metadata": {},
   "outputs": [],
   "source": [
    "data_3yr_train.to_csv(\"train_3yr_count_hesin_pca.csv\")\n",
    "data_3yr_test.to_csv(\"test_3yr_count_hesin_pca.csv\")"
   ]
  },
  {
   "cell_type": "code",
   "execution_count": 61,
   "metadata": {},
   "outputs": [],
   "source": [
    "hes_5yr = hes_5yr.drop([\"X21003.0.0\", \"X31.0.0\", \"casecont\", \"triplet_id\"], axis = 1)\n",
    "data_5yr_train = data_train.merge(hes_5yr, on = \"eid\", how = \"left\")\n",
    "data_5yr_test = data_test.merge(hes_5yr, on = \"eid\", how = \"left\")"
   ]
  },
  {
   "cell_type": "code",
   "execution_count": 62,
   "metadata": {},
   "outputs": [],
   "source": [
    "data_5yr_train.to_csv(\"train_5yr_count_hesin_pca.csv\")\n",
    "data_5yr_test.to_csv(\"test_5yr_count_hesin_pca.csv\")"
   ]
  },
  {
   "cell_type": "code",
   "execution_count": 63,
   "metadata": {},
   "outputs": [],
   "source": [
    "hes_10yr = hes_10yr.drop([\"X21003.0.0\", \"X31.0.0\", \"casecont\", \"triplet_id\"], axis = 1)\n",
    "data_10yr_train = data_train.merge(hes_10yr, on = \"eid\", how = \"left\")\n",
    "data_10yr_test = data_test.merge(hes_10yr, on = \"eid\", how = \"left\")"
   ]
  },
  {
   "cell_type": "code",
   "execution_count": 64,
   "metadata": {},
   "outputs": [],
   "source": [
    "data_10yr_train.to_csv(\"train_10yr_count_hesin_pca.csv\")\n",
    "data_10yr_test.to_csv(\"test_10yr_count_hesin_pca.csv\")"
   ]
  },
  {
   "cell_type": "markdown",
   "metadata": {},
   "source": [
    "#### Check shapes"
   ]
  },
  {
   "cell_type": "code",
   "execution_count": 65,
   "metadata": {},
   "outputs": [
    {
     "name": "stdout",
     "output_type": "stream",
     "text": [
      "(11517, 568)\n",
      "(3839, 568)\n",
      "(11517, 699)\n",
      "(3839, 699)\n",
      "(11517, 774)\n",
      "(3839, 774)\n",
      "(11517, 873)\n",
      "(3839, 873)\n"
     ]
    }
   ],
   "source": [
    "print(data_1yr_train.shape)\n",
    "print(data_1yr_test.shape)\n",
    "\n",
    "print(data_3yr_train.shape)\n",
    "print(data_3yr_test.shape)\n",
    "\n",
    "print(data_5yr_train.shape)\n",
    "print(data_5yr_test.shape)\n",
    "\n",
    "print(data_10yr_train.shape)\n",
    "print(data_10yr_test.shape)"
   ]
  },
  {
   "cell_type": "markdown",
   "metadata": {},
   "source": [
    "## Balance training datasets"
   ]
  },
  {
   "cell_type": "code",
   "execution_count": 85,
   "metadata": {},
   "outputs": [
    {
     "name": "stdout",
     "output_type": "stream",
     "text": [
      "0    7657\n",
      "1    3860\n",
      "Name: casecont, dtype: int64\n",
      "0    7657\n",
      "1    3860\n",
      "Name: casecont, dtype: int64\n",
      "0    7657\n",
      "1    3860\n",
      "Name: casecont, dtype: int64\n",
      "0    7657\n",
      "1    3860\n",
      "Name: casecont, dtype: int64\n"
     ]
    }
   ],
   "source": [
    "print(data_1yr_train[\"casecont\"].value_counts())\n",
    "print(data_3yr_train[\"casecont\"].value_counts())\n",
    "print(data_5yr_train[\"casecont\"].value_counts())\n",
    "print(data_10yr_train[\"casecont\"].value_counts())"
   ]
  },
  {
   "cell_type": "code",
   "execution_count": 86,
   "metadata": {},
   "outputs": [],
   "source": [
    "data_1yr_train_maj = data_1yr_train[data_1yr_train[\"casecont\"] == 0]\n",
    "data_1yr_train_min = data_1yr_train[data_1yr_train[\"casecont\"] == 1]\n",
    "\n",
    "data_1yr_train_min_upsampled = resample(data_1yr_train_min, replace = True, n_samples = 7657, random_state = 289)\n",
    "\n",
    "data_1yr_train = pd.concat([data_1yr_train_maj, data_1yr_train_min_upsampled])"
   ]
  },
  {
   "cell_type": "code",
   "execution_count": 87,
   "metadata": {},
   "outputs": [],
   "source": [
    "data_3yr_train_maj = data_3yr_train[data_3yr_train[\"casecont\"] == 0]\n",
    "data_3yr_train_min = data_3yr_train[data_3yr_train[\"casecont\"] == 1]\n",
    "\n",
    "data_3yr_train_min_upsampled = resample(data_3yr_train_min, replace = True, n_samples = 7657, random_state = 289)\n",
    "\n",
    "data_3yr_train = pd.concat([data_3yr_train_maj, data_3yr_train_min_upsampled])"
   ]
  },
  {
   "cell_type": "code",
   "execution_count": 88,
   "metadata": {},
   "outputs": [],
   "source": [
    "data_5yr_train_maj = data_5yr_train[data_5yr_train[\"casecont\"] == 0]\n",
    "data_5yr_train_min = data_5yr_train[data_5yr_train[\"casecont\"] == 1]\n",
    "\n",
    "data_5yr_train_min_upsampled = resample(data_5yr_train_min, replace = True, n_samples = 7657, random_state = 289)\n",
    "\n",
    "data_5yr_train = pd.concat([data_5yr_train_maj, data_5yr_train_min_upsampled])"
   ]
  },
  {
   "cell_type": "code",
   "execution_count": 89,
   "metadata": {},
   "outputs": [],
   "source": [
    "data_10yr_train_maj = data_10yr_train[data_10yr_train[\"casecont\"] == 0]\n",
    "data_10yr_train_min = data_10yr_train[data_10yr_train[\"casecont\"] == 1]\n",
    "\n",
    "data_10yr_train_min_upsampled = resample(data_10yr_train_min, replace = True, n_samples = 7657, random_state = 289)\n",
    "\n",
    "data_10yr_train = pd.concat([data_10yr_train_maj, data_10yr_train_min_upsampled])"
   ]
  },
  {
   "cell_type": "code",
   "execution_count": 90,
   "metadata": {},
   "outputs": [
    {
     "name": "stdout",
     "output_type": "stream",
     "text": [
      "1    7657\n",
      "0    7657\n",
      "Name: casecont, dtype: int64\n",
      "1    7657\n",
      "0    7657\n",
      "Name: casecont, dtype: int64\n",
      "1    7657\n",
      "0    7657\n",
      "Name: casecont, dtype: int64\n",
      "1    7657\n",
      "0    7657\n",
      "Name: casecont, dtype: int64\n"
     ]
    }
   ],
   "source": [
    "print(data_1yr_train[\"casecont\"].value_counts())\n",
    "print(data_3yr_train[\"casecont\"].value_counts())\n",
    "print(data_5yr_train[\"casecont\"].value_counts())\n",
    "print(data_10yr_train[\"casecont\"].value_counts())"
   ]
  },
  {
   "cell_type": "markdown",
   "metadata": {},
   "source": [
    "## Create X and Y"
   ]
  },
  {
   "cell_type": "code",
   "execution_count": 67,
   "metadata": {},
   "outputs": [
    {
     "data": {
      "text/html": [
       "<div>\n",
       "<style scoped>\n",
       "    .dataframe tbody tr th:only-of-type {\n",
       "        vertical-align: middle;\n",
       "    }\n",
       "\n",
       "    .dataframe tbody tr th {\n",
       "        vertical-align: top;\n",
       "    }\n",
       "\n",
       "    .dataframe thead th {\n",
       "        text-align: right;\n",
       "    }\n",
       "</style>\n",
       "<table border=\"1\" class=\"dataframe\">\n",
       "  <thead>\n",
       "    <tr style=\"text-align: right;\">\n",
       "      <th></th>\n",
       "      <th>Unnamed: 0</th>\n",
       "      <th>eid</th>\n",
       "      <th>X21022.0.0</th>\n",
       "      <th>X31.0.0.y</th>\n",
       "      <th>casecont</th>\n",
       "      <th>0</th>\n",
       "      <th>1</th>\n",
       "      <th>2</th>\n",
       "      <th>3</th>\n",
       "      <th>4</th>\n",
       "      <th>...</th>\n",
       "      <th>Z88</th>\n",
       "      <th>Z90</th>\n",
       "      <th>Z91</th>\n",
       "      <th>Z92</th>\n",
       "      <th>Z93</th>\n",
       "      <th>Z94</th>\n",
       "      <th>Z95</th>\n",
       "      <th>Z96</th>\n",
       "      <th>Z98</th>\n",
       "      <th>Z99</th>\n",
       "    </tr>\n",
       "  </thead>\n",
       "  <tbody>\n",
       "    <tr>\n",
       "      <th>0</th>\n",
       "      <td>1</td>\n",
       "      <td>1000027</td>\n",
       "      <td>66</td>\n",
       "      <td>1</td>\n",
       "      <td>0</td>\n",
       "      <td>-3.191095</td>\n",
       "      <td>-0.677469</td>\n",
       "      <td>0.311401</td>\n",
       "      <td>0.500885</td>\n",
       "      <td>2.155006</td>\n",
       "      <td>...</td>\n",
       "      <td>0</td>\n",
       "      <td>0</td>\n",
       "      <td>0</td>\n",
       "      <td>0</td>\n",
       "      <td>0</td>\n",
       "      <td>0</td>\n",
       "      <td>0</td>\n",
       "      <td>0</td>\n",
       "      <td>0</td>\n",
       "      <td>0</td>\n",
       "    </tr>\n",
       "    <tr>\n",
       "      <th>1</th>\n",
       "      <td>2</td>\n",
       "      <td>1000039</td>\n",
       "      <td>69</td>\n",
       "      <td>1</td>\n",
       "      <td>0</td>\n",
       "      <td>-0.387576</td>\n",
       "      <td>-1.836874</td>\n",
       "      <td>-2.018984</td>\n",
       "      <td>1.149321</td>\n",
       "      <td>-1.141178</td>\n",
       "      <td>...</td>\n",
       "      <td>0</td>\n",
       "      <td>0</td>\n",
       "      <td>0</td>\n",
       "      <td>0</td>\n",
       "      <td>0</td>\n",
       "      <td>0</td>\n",
       "      <td>0</td>\n",
       "      <td>0</td>\n",
       "      <td>0</td>\n",
       "      <td>0</td>\n",
       "    </tr>\n",
       "    <tr>\n",
       "      <th>2</th>\n",
       "      <td>3</td>\n",
       "      <td>1000040</td>\n",
       "      <td>50</td>\n",
       "      <td>0</td>\n",
       "      <td>0</td>\n",
       "      <td>1.294949</td>\n",
       "      <td>-4.484496</td>\n",
       "      <td>-0.837069</td>\n",
       "      <td>1.851994</td>\n",
       "      <td>1.368840</td>\n",
       "      <td>...</td>\n",
       "      <td>0</td>\n",
       "      <td>0</td>\n",
       "      <td>0</td>\n",
       "      <td>0</td>\n",
       "      <td>0</td>\n",
       "      <td>0</td>\n",
       "      <td>0</td>\n",
       "      <td>0</td>\n",
       "      <td>0</td>\n",
       "      <td>0</td>\n",
       "    </tr>\n",
       "    <tr>\n",
       "      <th>3</th>\n",
       "      <td>4</td>\n",
       "      <td>1000053</td>\n",
       "      <td>46</td>\n",
       "      <td>1</td>\n",
       "      <td>0</td>\n",
       "      <td>-0.002175</td>\n",
       "      <td>10.232414</td>\n",
       "      <td>-4.838340</td>\n",
       "      <td>6.001560</td>\n",
       "      <td>-1.119284</td>\n",
       "      <td>...</td>\n",
       "      <td>0</td>\n",
       "      <td>0</td>\n",
       "      <td>0</td>\n",
       "      <td>0</td>\n",
       "      <td>0</td>\n",
       "      <td>0</td>\n",
       "      <td>0</td>\n",
       "      <td>0</td>\n",
       "      <td>0</td>\n",
       "      <td>0</td>\n",
       "    </tr>\n",
       "    <tr>\n",
       "      <th>4</th>\n",
       "      <td>5</td>\n",
       "      <td>1000064</td>\n",
       "      <td>52</td>\n",
       "      <td>0</td>\n",
       "      <td>0</td>\n",
       "      <td>1.058770</td>\n",
       "      <td>-1.506609</td>\n",
       "      <td>0.428277</td>\n",
       "      <td>1.998242</td>\n",
       "      <td>-1.711726</td>\n",
       "      <td>...</td>\n",
       "      <td>0</td>\n",
       "      <td>0</td>\n",
       "      <td>0</td>\n",
       "      <td>0</td>\n",
       "      <td>0</td>\n",
       "      <td>0</td>\n",
       "      <td>0</td>\n",
       "      <td>0</td>\n",
       "      <td>0</td>\n",
       "      <td>0</td>\n",
       "    </tr>\n",
       "    <tr>\n",
       "      <th>...</th>\n",
       "      <td>...</td>\n",
       "      <td>...</td>\n",
       "      <td>...</td>\n",
       "      <td>...</td>\n",
       "      <td>...</td>\n",
       "      <td>...</td>\n",
       "      <td>...</td>\n",
       "      <td>...</td>\n",
       "      <td>...</td>\n",
       "      <td>...</td>\n",
       "      <td>...</td>\n",
       "      <td>...</td>\n",
       "      <td>...</td>\n",
       "      <td>...</td>\n",
       "      <td>...</td>\n",
       "      <td>...</td>\n",
       "      <td>...</td>\n",
       "      <td>...</td>\n",
       "      <td>...</td>\n",
       "      <td>...</td>\n",
       "      <td>...</td>\n",
       "    </tr>\n",
       "    <tr>\n",
       "      <th>11512</th>\n",
       "      <td>15818</td>\n",
       "      <td>6020344</td>\n",
       "      <td>59</td>\n",
       "      <td>1</td>\n",
       "      <td>1</td>\n",
       "      <td>-3.573450</td>\n",
       "      <td>2.300652</td>\n",
       "      <td>-0.051064</td>\n",
       "      <td>-3.162977</td>\n",
       "      <td>-0.215779</td>\n",
       "      <td>...</td>\n",
       "      <td>0</td>\n",
       "      <td>0</td>\n",
       "      <td>0</td>\n",
       "      <td>0</td>\n",
       "      <td>0</td>\n",
       "      <td>0</td>\n",
       "      <td>0</td>\n",
       "      <td>0</td>\n",
       "      <td>0</td>\n",
       "      <td>0</td>\n",
       "    </tr>\n",
       "    <tr>\n",
       "      <th>11513</th>\n",
       "      <td>15819</td>\n",
       "      <td>6021467</td>\n",
       "      <td>66</td>\n",
       "      <td>0</td>\n",
       "      <td>1</td>\n",
       "      <td>0.969796</td>\n",
       "      <td>-1.106059</td>\n",
       "      <td>0.843320</td>\n",
       "      <td>-0.274984</td>\n",
       "      <td>0.690744</td>\n",
       "      <td>...</td>\n",
       "      <td>0</td>\n",
       "      <td>0</td>\n",
       "      <td>0</td>\n",
       "      <td>0</td>\n",
       "      <td>0</td>\n",
       "      <td>0</td>\n",
       "      <td>0</td>\n",
       "      <td>0</td>\n",
       "      <td>0</td>\n",
       "      <td>0</td>\n",
       "    </tr>\n",
       "    <tr>\n",
       "      <th>11514</th>\n",
       "      <td>15822</td>\n",
       "      <td>6024045</td>\n",
       "      <td>46</td>\n",
       "      <td>1</td>\n",
       "      <td>1</td>\n",
       "      <td>-3.480296</td>\n",
       "      <td>0.380973</td>\n",
       "      <td>-0.792657</td>\n",
       "      <td>1.097781</td>\n",
       "      <td>3.253055</td>\n",
       "      <td>...</td>\n",
       "      <td>0</td>\n",
       "      <td>0</td>\n",
       "      <td>0</td>\n",
       "      <td>0</td>\n",
       "      <td>0</td>\n",
       "      <td>0</td>\n",
       "      <td>0</td>\n",
       "      <td>0</td>\n",
       "      <td>0</td>\n",
       "      <td>0</td>\n",
       "    </tr>\n",
       "    <tr>\n",
       "      <th>11515</th>\n",
       "      <td>15823</td>\n",
       "      <td>6024809</td>\n",
       "      <td>65</td>\n",
       "      <td>1</td>\n",
       "      <td>1</td>\n",
       "      <td>-0.931638</td>\n",
       "      <td>2.777366</td>\n",
       "      <td>5.394316</td>\n",
       "      <td>-4.818079</td>\n",
       "      <td>-0.046142</td>\n",
       "      <td>...</td>\n",
       "      <td>0</td>\n",
       "      <td>0</td>\n",
       "      <td>0</td>\n",
       "      <td>0</td>\n",
       "      <td>0</td>\n",
       "      <td>0</td>\n",
       "      <td>0</td>\n",
       "      <td>0</td>\n",
       "      <td>0</td>\n",
       "      <td>0</td>\n",
       "    </tr>\n",
       "    <tr>\n",
       "      <th>11516</th>\n",
       "      <td>15824</td>\n",
       "      <td>6026290</td>\n",
       "      <td>66</td>\n",
       "      <td>0</td>\n",
       "      <td>1</td>\n",
       "      <td>3.174192</td>\n",
       "      <td>-1.538430</td>\n",
       "      <td>2.746411</td>\n",
       "      <td>-2.630188</td>\n",
       "      <td>1.569018</td>\n",
       "      <td>...</td>\n",
       "      <td>0</td>\n",
       "      <td>0</td>\n",
       "      <td>0</td>\n",
       "      <td>0</td>\n",
       "      <td>0</td>\n",
       "      <td>0</td>\n",
       "      <td>0</td>\n",
       "      <td>0</td>\n",
       "      <td>0</td>\n",
       "      <td>0</td>\n",
       "    </tr>\n",
       "  </tbody>\n",
       "</table>\n",
       "<p>11517 rows × 568 columns</p>\n",
       "</div>"
      ],
      "text/plain": [
       "       Unnamed: 0      eid  X21022.0.0  X31.0.0.y  casecont         0  \\\n",
       "0               1  1000027          66          1         0 -3.191095   \n",
       "1               2  1000039          69          1         0 -0.387576   \n",
       "2               3  1000040          50          0         0  1.294949   \n",
       "3               4  1000053          46          1         0 -0.002175   \n",
       "4               5  1000064          52          0         0  1.058770   \n",
       "...           ...      ...         ...        ...       ...       ...   \n",
       "11512       15818  6020344          59          1         1 -3.573450   \n",
       "11513       15819  6021467          66          0         1  0.969796   \n",
       "11514       15822  6024045          46          1         1 -3.480296   \n",
       "11515       15823  6024809          65          1         1 -0.931638   \n",
       "11516       15824  6026290          66          0         1  3.174192   \n",
       "\n",
       "               1         2         3         4  ...  Z88  Z90  Z91  Z92  Z93  \\\n",
       "0      -0.677469  0.311401  0.500885  2.155006  ...    0    0    0    0    0   \n",
       "1      -1.836874 -2.018984  1.149321 -1.141178  ...    0    0    0    0    0   \n",
       "2      -4.484496 -0.837069  1.851994  1.368840  ...    0    0    0    0    0   \n",
       "3      10.232414 -4.838340  6.001560 -1.119284  ...    0    0    0    0    0   \n",
       "4      -1.506609  0.428277  1.998242 -1.711726  ...    0    0    0    0    0   \n",
       "...          ...       ...       ...       ...  ...  ...  ...  ...  ...  ...   \n",
       "11512   2.300652 -0.051064 -3.162977 -0.215779  ...    0    0    0    0    0   \n",
       "11513  -1.106059  0.843320 -0.274984  0.690744  ...    0    0    0    0    0   \n",
       "11514   0.380973 -0.792657  1.097781  3.253055  ...    0    0    0    0    0   \n",
       "11515   2.777366  5.394316 -4.818079 -0.046142  ...    0    0    0    0    0   \n",
       "11516  -1.538430  2.746411 -2.630188  1.569018  ...    0    0    0    0    0   \n",
       "\n",
       "       Z94  Z95  Z96  Z98  Z99  \n",
       "0        0    0    0    0    0  \n",
       "1        0    0    0    0    0  \n",
       "2        0    0    0    0    0  \n",
       "3        0    0    0    0    0  \n",
       "4        0    0    0    0    0  \n",
       "...    ...  ...  ...  ...  ...  \n",
       "11512    0    0    0    0    0  \n",
       "11513    0    0    0    0    0  \n",
       "11514    0    0    0    0    0  \n",
       "11515    0    0    0    0    0  \n",
       "11516    0    0    0    0    0  \n",
       "\n",
       "[11517 rows x 568 columns]"
      ]
     },
     "execution_count": 67,
     "metadata": {},
     "output_type": "execute_result"
    }
   ],
   "source": [
    "data_1yr_train"
   ]
  },
  {
   "cell_type": "code",
   "execution_count": 91,
   "metadata": {},
   "outputs": [],
   "source": [
    "X_train_1yr = data_1yr_train.drop([\"Unnamed: 0\", \"eid\", \"casecont\"], axis = 1)\n",
    "Y_train_1yr = data_1yr_train[\"casecont\"]\n",
    "\n",
    "X_test_1yr = data_1yr_test.drop([\"Unnamed: 0\", \"eid\", \"casecont\"], axis = 1)\n",
    "Y_test_1yr = data_1yr_test[\"casecont\"]\n",
    "\n",
    "X_train_3yr = data_3yr_train.drop([\"Unnamed: 0\", \"eid\", \"casecont\"], axis = 1)\n",
    "Y_train_3yr = data_3yr_train[\"casecont\"]\n",
    "\n",
    "X_test_3yr = data_3yr_test.drop([\"Unnamed: 0\", \"eid\", \"casecont\"], axis = 1)\n",
    "Y_test_3yr = data_3yr_test[\"casecont\"]\n",
    "\n",
    "X_train_5yr = data_5yr_train.drop([\"Unnamed: 0\", \"eid\", \"casecont\"], axis = 1)\n",
    "Y_train_5yr = data_5yr_train[\"casecont\"]\n",
    "\n",
    "X_test_5yr = data_5yr_test.drop([\"Unnamed: 0\", \"eid\", \"casecont\"], axis = 1)\n",
    "Y_test_5yr = data_5yr_test[\"casecont\"]\n",
    "\n",
    "X_train_10yr = data_10yr_train.drop([\"Unnamed: 0\", \"eid\", \"casecont\"], axis = 1)\n",
    "Y_train_10yr = data_10yr_train[\"casecont\"]\n",
    "\n",
    "X_test_10yr = data_10yr_test.drop([\"Unnamed: 0\", \"eid\", \"casecont\"], axis = 1)\n",
    "Y_test_10yr = data_10yr_test[\"casecont\"]"
   ]
  },
  {
   "cell_type": "code",
   "execution_count": 92,
   "metadata": {},
   "outputs": [
    {
     "name": "stdout",
     "output_type": "stream",
     "text": [
      "(15314, 565)\n",
      "(15314,)\n",
      "(3839, 565)\n",
      "(3839,)\n",
      "(15314, 696)\n",
      "(15314,)\n",
      "(3839, 696)\n",
      "(3839,)\n",
      "(15314, 771)\n",
      "(15314,)\n",
      "(3839, 771)\n",
      "(3839,)\n",
      "(15314, 870)\n",
      "(15314,)\n",
      "(3839, 870)\n",
      "(3839,)\n"
     ]
    }
   ],
   "source": [
    "print(X_train_1yr.shape)\n",
    "print(Y_train_1yr.shape) \n",
    "\n",
    "print(X_test_1yr.shape)\n",
    "print(Y_test_1yr.shape) \n",
    "\n",
    "print(X_train_3yr.shape)\n",
    "print(Y_train_3yr.shape) \n",
    "\n",
    "print(X_test_3yr.shape)\n",
    "print(Y_test_3yr.shape) \n",
    "\n",
    "print(X_train_5yr.shape)\n",
    "print(Y_train_5yr.shape) \n",
    "\n",
    "print(X_test_5yr.shape)\n",
    "print(Y_test_5yr.shape) \n",
    "\n",
    "print(X_train_10yr.shape)\n",
    "print(Y_train_10yr.shape) \n",
    "\n",
    "print(X_test_10yr.shape)\n",
    "print(Y_test_10yr.shape) "
   ]
  },
  {
   "cell_type": "code",
   "execution_count": 116,
   "metadata": {},
   "outputs": [
    {
     "data": {
      "text/html": [
       "<div>\n",
       "<style scoped>\n",
       "    .dataframe tbody tr th:only-of-type {\n",
       "        vertical-align: middle;\n",
       "    }\n",
       "\n",
       "    .dataframe tbody tr th {\n",
       "        vertical-align: top;\n",
       "    }\n",
       "\n",
       "    .dataframe thead th {\n",
       "        text-align: right;\n",
       "    }\n",
       "</style>\n",
       "<table border=\"1\" class=\"dataframe\">\n",
       "  <thead>\n",
       "    <tr style=\"text-align: right;\">\n",
       "      <th></th>\n",
       "      <th>X21022.0.0</th>\n",
       "      <th>X31.0.0.y</th>\n",
       "      <th>0</th>\n",
       "      <th>1</th>\n",
       "      <th>2</th>\n",
       "      <th>3</th>\n",
       "      <th>4</th>\n",
       "      <th>5</th>\n",
       "      <th>6</th>\n",
       "      <th>7</th>\n",
       "      <th>...</th>\n",
       "      <th>Z88</th>\n",
       "      <th>Z90</th>\n",
       "      <th>Z91</th>\n",
       "      <th>Z92</th>\n",
       "      <th>Z93</th>\n",
       "      <th>Z94</th>\n",
       "      <th>Z95</th>\n",
       "      <th>Z96</th>\n",
       "      <th>Z98</th>\n",
       "      <th>Z99</th>\n",
       "    </tr>\n",
       "  </thead>\n",
       "  <tbody>\n",
       "    <tr>\n",
       "      <th>0</th>\n",
       "      <td>65</td>\n",
       "      <td>1</td>\n",
       "      <td>-3.032887</td>\n",
       "      <td>-1.668018</td>\n",
       "      <td>0.618267</td>\n",
       "      <td>-1.102886</td>\n",
       "      <td>0.645902</td>\n",
       "      <td>-1.550361</td>\n",
       "      <td>-0.568101</td>\n",
       "      <td>-0.798112</td>\n",
       "      <td>...</td>\n",
       "      <td>0</td>\n",
       "      <td>0</td>\n",
       "      <td>0</td>\n",
       "      <td>0</td>\n",
       "      <td>0</td>\n",
       "      <td>0</td>\n",
       "      <td>0</td>\n",
       "      <td>0</td>\n",
       "      <td>0</td>\n",
       "      <td>0</td>\n",
       "    </tr>\n",
       "    <tr>\n",
       "      <th>1</th>\n",
       "      <td>63</td>\n",
       "      <td>0</td>\n",
       "      <td>4.561033</td>\n",
       "      <td>-3.569321</td>\n",
       "      <td>0.683186</td>\n",
       "      <td>-1.539499</td>\n",
       "      <td>1.854227</td>\n",
       "      <td>1.237379</td>\n",
       "      <td>0.131157</td>\n",
       "      <td>0.085243</td>\n",
       "      <td>...</td>\n",
       "      <td>0</td>\n",
       "      <td>0</td>\n",
       "      <td>0</td>\n",
       "      <td>0</td>\n",
       "      <td>0</td>\n",
       "      <td>0</td>\n",
       "      <td>0</td>\n",
       "      <td>0</td>\n",
       "      <td>0</td>\n",
       "      <td>0</td>\n",
       "    </tr>\n",
       "    <tr>\n",
       "      <th>2</th>\n",
       "      <td>63</td>\n",
       "      <td>0</td>\n",
       "      <td>2.192140</td>\n",
       "      <td>-4.201005</td>\n",
       "      <td>-1.036323</td>\n",
       "      <td>-1.046009</td>\n",
       "      <td>2.423900</td>\n",
       "      <td>2.434880</td>\n",
       "      <td>-1.108511</td>\n",
       "      <td>0.459309</td>\n",
       "      <td>...</td>\n",
       "      <td>0</td>\n",
       "      <td>0</td>\n",
       "      <td>0</td>\n",
       "      <td>0</td>\n",
       "      <td>0</td>\n",
       "      <td>0</td>\n",
       "      <td>0</td>\n",
       "      <td>0</td>\n",
       "      <td>0</td>\n",
       "      <td>0</td>\n",
       "    </tr>\n",
       "    <tr>\n",
       "      <th>3</th>\n",
       "      <td>46</td>\n",
       "      <td>1</td>\n",
       "      <td>-2.932891</td>\n",
       "      <td>-1.388148</td>\n",
       "      <td>-0.892360</td>\n",
       "      <td>-0.732510</td>\n",
       "      <td>-1.924474</td>\n",
       "      <td>-0.806001</td>\n",
       "      <td>1.898540</td>\n",
       "      <td>3.431544</td>\n",
       "      <td>...</td>\n",
       "      <td>0</td>\n",
       "      <td>0</td>\n",
       "      <td>0</td>\n",
       "      <td>0</td>\n",
       "      <td>0</td>\n",
       "      <td>0</td>\n",
       "      <td>0</td>\n",
       "      <td>0</td>\n",
       "      <td>0</td>\n",
       "      <td>0</td>\n",
       "    </tr>\n",
       "    <tr>\n",
       "      <th>4</th>\n",
       "      <td>63</td>\n",
       "      <td>1</td>\n",
       "      <td>-1.804552</td>\n",
       "      <td>0.943959</td>\n",
       "      <td>-1.774790</td>\n",
       "      <td>0.478925</td>\n",
       "      <td>2.809788</td>\n",
       "      <td>-1.339151</td>\n",
       "      <td>0.217313</td>\n",
       "      <td>0.525271</td>\n",
       "      <td>...</td>\n",
       "      <td>0</td>\n",
       "      <td>0</td>\n",
       "      <td>0</td>\n",
       "      <td>0</td>\n",
       "      <td>0</td>\n",
       "      <td>0</td>\n",
       "      <td>0</td>\n",
       "      <td>0</td>\n",
       "      <td>0</td>\n",
       "      <td>0</td>\n",
       "    </tr>\n",
       "  </tbody>\n",
       "</table>\n",
       "<p>5 rows × 565 columns</p>\n",
       "</div>"
      ],
      "text/plain": [
       "   X21022.0.0  X31.0.0.y         0         1         2         3         4  \\\n",
       "0          65          1 -3.032887 -1.668018  0.618267 -1.102886  0.645902   \n",
       "1          63          0  4.561033 -3.569321  0.683186 -1.539499  1.854227   \n",
       "2          63          0  2.192140 -4.201005 -1.036323 -1.046009  2.423900   \n",
       "3          46          1 -2.932891 -1.388148 -0.892360 -0.732510 -1.924474   \n",
       "4          63          1 -1.804552  0.943959 -1.774790  0.478925  2.809788   \n",
       "\n",
       "          5         6         7  ...  Z88  Z90  Z91  Z92  Z93  Z94  Z95  Z96  \\\n",
       "0 -1.550361 -0.568101 -0.798112  ...    0    0    0    0    0    0    0    0   \n",
       "1  1.237379  0.131157  0.085243  ...    0    0    0    0    0    0    0    0   \n",
       "2  2.434880 -1.108511  0.459309  ...    0    0    0    0    0    0    0    0   \n",
       "3 -0.806001  1.898540  3.431544  ...    0    0    0    0    0    0    0    0   \n",
       "4 -1.339151  0.217313  0.525271  ...    0    0    0    0    0    0    0    0   \n",
       "\n",
       "   Z98  Z99  \n",
       "0    0    0  \n",
       "1    0    0  \n",
       "2    0    0  \n",
       "3    0    0  \n",
       "4    0    0  \n",
       "\n",
       "[5 rows x 565 columns]"
      ]
     },
     "execution_count": 116,
     "metadata": {},
     "output_type": "execute_result"
    }
   ],
   "source": [
    "X_test_1yr.head()"
   ]
  },
  {
   "cell_type": "markdown",
   "metadata": {},
   "source": [
    "## XGBoost Models"
   ]
  },
  {
   "cell_type": "markdown",
   "metadata": {},
   "source": [
    "#### Baseline models"
   ]
  },
  {
   "cell_type": "code",
   "execution_count": 207,
   "metadata": {},
   "outputs": [
    {
     "name": "stdout",
     "output_type": "stream",
     "text": [
      "[0]\tvalidation_0-auc:0.50142\n",
      "[1]\tvalidation_0-auc:0.50747\n",
      "[2]\tvalidation_0-auc:0.51701\n",
      "[3]\tvalidation_0-auc:0.51638\n",
      "[4]\tvalidation_0-auc:0.51626\n",
      "[5]\tvalidation_0-auc:0.52221\n",
      "[6]\tvalidation_0-auc:0.51589\n",
      "[7]\tvalidation_0-auc:0.51603\n",
      "[8]\tvalidation_0-auc:0.51676\n",
      "[9]\tvalidation_0-auc:0.56638\n",
      "[10]\tvalidation_0-auc:0.57158\n",
      "[11]\tvalidation_0-auc:0.57044\n",
      "[12]\tvalidation_0-auc:0.57007\n",
      "[13]\tvalidation_0-auc:0.57008\n",
      "[14]\tvalidation_0-auc:0.56965\n",
      "[15]\tvalidation_0-auc:0.57093\n",
      "[16]\tvalidation_0-auc:0.56938\n",
      "[17]\tvalidation_0-auc:0.57018\n",
      "[18]\tvalidation_0-auc:0.56946\n",
      "[19]\tvalidation_0-auc:0.56972\n",
      "[20]\tvalidation_0-auc:0.56934\n",
      "[21]\tvalidation_0-auc:0.57464\n",
      "[22]\tvalidation_0-auc:0.57468\n",
      "[23]\tvalidation_0-auc:0.58200\n",
      "[24]\tvalidation_0-auc:0.58165\n",
      "[25]\tvalidation_0-auc:0.58162\n",
      "[26]\tvalidation_0-auc:0.58188\n",
      "[27]\tvalidation_0-auc:0.58213\n",
      "[28]\tvalidation_0-auc:0.59447\n",
      "[29]\tvalidation_0-auc:0.59437\n",
      "[30]\tvalidation_0-auc:0.60422\n",
      "[31]\tvalidation_0-auc:0.60684\n",
      "[32]\tvalidation_0-auc:0.60632\n",
      "[33]\tvalidation_0-auc:0.60660\n",
      "[34]\tvalidation_0-auc:0.60622\n",
      "[35]\tvalidation_0-auc:0.61113\n",
      "[36]\tvalidation_0-auc:0.61285\n",
      "[37]\tvalidation_0-auc:0.61345\n",
      "[38]\tvalidation_0-auc:0.61523\n",
      "[39]\tvalidation_0-auc:0.61523\n",
      "[40]\tvalidation_0-auc:0.61769\n",
      "[41]\tvalidation_0-auc:0.61472\n",
      "[42]\tvalidation_0-auc:0.62359\n",
      "[43]\tvalidation_0-auc:0.63012\n",
      "[44]\tvalidation_0-auc:0.63326\n",
      "[45]\tvalidation_0-auc:0.63495\n",
      "[46]\tvalidation_0-auc:0.63475\n",
      "[47]\tvalidation_0-auc:0.63476\n",
      "[48]\tvalidation_0-auc:0.63479\n",
      "[49]\tvalidation_0-auc:0.63488\n",
      "[50]\tvalidation_0-auc:0.63578\n",
      "[51]\tvalidation_0-auc:0.63614\n",
      "[52]\tvalidation_0-auc:0.63757\n",
      "[53]\tvalidation_0-auc:0.63985\n",
      "[54]\tvalidation_0-auc:0.63980\n",
      "[55]\tvalidation_0-auc:0.64158\n",
      "[56]\tvalidation_0-auc:0.64136\n",
      "[57]\tvalidation_0-auc:0.64143\n",
      "[58]\tvalidation_0-auc:0.64193\n",
      "[59]\tvalidation_0-auc:0.64426\n",
      "[60]\tvalidation_0-auc:0.64623\n",
      "[61]\tvalidation_0-auc:0.64624\n",
      "[62]\tvalidation_0-auc:0.64757\n",
      "[63]\tvalidation_0-auc:0.64564\n",
      "[64]\tvalidation_0-auc:0.64574\n",
      "[65]\tvalidation_0-auc:0.64587\n",
      "[66]\tvalidation_0-auc:0.64483\n",
      "[67]\tvalidation_0-auc:0.64526\n",
      "[68]\tvalidation_0-auc:0.64440\n",
      "[69]\tvalidation_0-auc:0.64443\n",
      "[70]\tvalidation_0-auc:0.64512\n",
      "[71]\tvalidation_0-auc:0.64538\n",
      "[72]\tvalidation_0-auc:0.64656\n",
      "[73]\tvalidation_0-auc:0.64596\n",
      "[74]\tvalidation_0-auc:0.64621\n",
      "[75]\tvalidation_0-auc:0.64582\n",
      "[76]\tvalidation_0-auc:0.64614\n",
      "[77]\tvalidation_0-auc:0.64616\n",
      "[78]\tvalidation_0-auc:0.64609\n",
      "[79]\tvalidation_0-auc:0.64620\n",
      "[80]\tvalidation_0-auc:0.64635\n",
      "[81]\tvalidation_0-auc:0.64572\n",
      "[82]\tvalidation_0-auc:0.64573\n",
      "[83]\tvalidation_0-auc:0.64566\n",
      "[84]\tvalidation_0-auc:0.64340\n",
      "[85]\tvalidation_0-auc:0.64341\n",
      "[86]\tvalidation_0-auc:0.64339\n",
      "[87]\tvalidation_0-auc:0.64443\n",
      "[88]\tvalidation_0-auc:0.64433\n",
      "[89]\tvalidation_0-auc:0.64473\n",
      "[90]\tvalidation_0-auc:0.64276\n",
      "[91]\tvalidation_0-auc:0.64277\n",
      "[92]\tvalidation_0-auc:0.64240\n",
      "[93]\tvalidation_0-auc:0.64167\n",
      "[94]\tvalidation_0-auc:0.64168\n",
      "[95]\tvalidation_0-auc:0.64176\n",
      "[96]\tvalidation_0-auc:0.64188\n",
      "[97]\tvalidation_0-auc:0.64302\n",
      "[98]\tvalidation_0-auc:0.64284\n",
      "[99]\tvalidation_0-auc:0.64302\n"
     ]
    },
    {
     "data": {
      "text/plain": [
       "XGBClassifier(base_score=0.5, booster='gbtree', colsample_bylevel=1,\n",
       "              colsample_bynode=1, colsample_bytree=1, gamma=0, gpu_id=-1,\n",
       "              importance_type='gain', interaction_constraints='',\n",
       "              learning_rate=0.05, max_delta_step=0, max_depth=3,\n",
       "              min_child_weight=6, missing=nan, monotone_constraints='()',\n",
       "              n_estimators=100, n_jobs=0, num_parallel_tree=1, random_state=0,\n",
       "              reg_alpha=0, reg_lambda=1, scale_pos_weight=1, subsample=0.5,\n",
       "              tree_method='exact', validate_parameters=1, verbosity=None)"
      ]
     },
     "execution_count": 207,
     "metadata": {},
     "output_type": "execute_result"
    }
   ],
   "source": [
    "eval_set = [(X_test_1yr, Y_test_1yr)]\n",
    "\n",
    "model_1yr = xgb.XGBClassifier(learning_rate = 0.05, max_depth = 3, min_child_weight = 6, subsample = 0.5)\n",
    "model_1yr.fit(X_train_1yr, Y_train_1yr, eval_metric = \"auc\", eval_set = eval_set, verbose = True)"
   ]
  },
  {
   "cell_type": "code",
   "execution_count": 208,
   "metadata": {},
   "outputs": [
    {
     "name": "stdout",
     "output_type": "stream",
     "text": [
      "Training accuracy => 0.76342\n",
      "Testing accuracy => 0.68351\n"
     ]
    }
   ],
   "source": [
    "train_score = round(model_1yr.score(X_train_1yr, Y_train_1yr), 5)\n",
    "test_score = round(model_1yr.score(X_test_1yr, Y_test_1yr), 5)\n",
    "\n",
    "print(f\"Training accuracy => {train_score}\")\n",
    "print(f\"Testing accuracy => {test_score}\")"
   ]
  },
  {
   "cell_type": "code",
   "execution_count": 176,
   "metadata": {},
   "outputs": [
    {
     "data": {
      "text/plain": [
       "XGBClassifier(base_score=0.5, booster='gbtree', colsample_bylevel=1,\n",
       "              colsample_bynode=1, colsample_bytree=1, gamma=0, gpu_id=-1,\n",
       "              importance_type='gain', interaction_constraints='',\n",
       "              learning_rate=0.05, max_delta_step=0, max_depth=3,\n",
       "              min_child_weight=6, missing=nan, monotone_constraints='()',\n",
       "              n_estimators=100, n_jobs=0, num_parallel_tree=1, random_state=0,\n",
       "              reg_alpha=0, reg_lambda=1, scale_pos_weight=1, subsample=0.5,\n",
       "              tree_method='exact', validate_parameters=1, verbosity=None)"
      ]
     },
     "execution_count": 176,
     "metadata": {},
     "output_type": "execute_result"
    }
   ],
   "source": [
    "model_3yr = xgb.XGBClassifier(learning_rate = 0.05, max_depth = 3, min_child_weight = 6, subsample = 0.5)\n",
    "model_3yr.fit(X_train_3yr, Y_train_3yr)"
   ]
  },
  {
   "cell_type": "code",
   "execution_count": 177,
   "metadata": {},
   "outputs": [
    {
     "name": "stdout",
     "output_type": "stream",
     "text": [
      "Training accuracy => 0.76407\n",
      "Testing accuracy => 0.68299\n"
     ]
    }
   ],
   "source": [
    "train_score = round(model_3yr.score(X_train_3yr, Y_train_3yr), 5)\n",
    "test_score = round(model_3yr.score(X_test_3yr, Y_test_3yr), 5)\n",
    "\n",
    "print(f\"Training accuracy => {train_score}\")\n",
    "print(f\"Testing accuracy => {test_score}\")"
   ]
  },
  {
   "cell_type": "code",
   "execution_count": 178,
   "metadata": {},
   "outputs": [
    {
     "data": {
      "text/plain": [
       "XGBClassifier(base_score=0.5, booster='gbtree', colsample_bylevel=1,\n",
       "              colsample_bynode=1, colsample_bytree=1, gamma=0, gpu_id=-1,\n",
       "              importance_type='gain', interaction_constraints='',\n",
       "              learning_rate=0.05, max_delta_step=0, max_depth=3,\n",
       "              min_child_weight=6, missing=nan, monotone_constraints='()',\n",
       "              n_estimators=100, n_jobs=0, num_parallel_tree=1, random_state=0,\n",
       "              reg_alpha=0, reg_lambda=1, scale_pos_weight=1, subsample=0.5,\n",
       "              tree_method='exact', validate_parameters=1, verbosity=None)"
      ]
     },
     "execution_count": 178,
     "metadata": {},
     "output_type": "execute_result"
    }
   ],
   "source": [
    "model_5yr = xgb.XGBClassifier(learning_rate = 0.05, max_depth = 3, min_child_weight = 6, subsample = 0.5)\n",
    "model_5yr.fit(X_train_5yr, Y_train_5yr)"
   ]
  },
  {
   "cell_type": "code",
   "execution_count": 179,
   "metadata": {},
   "outputs": [
    {
     "name": "stdout",
     "output_type": "stream",
     "text": [
      "Training accuracy => 0.76192\n",
      "Testing accuracy => 0.67778\n"
     ]
    }
   ],
   "source": [
    "train_score = round(model_5yr.score(X_train_5yr, Y_train_5yr), 5)\n",
    "test_score = round(model_5yr.score(X_test_5yr, Y_test_5yr), 5)\n",
    "\n",
    "print(f\"Training accuracy => {train_score}\")\n",
    "print(f\"Testing accuracy => {test_score}\")"
   ]
  },
  {
   "cell_type": "code",
   "execution_count": 180,
   "metadata": {},
   "outputs": [
    {
     "data": {
      "text/plain": [
       "XGBClassifier(base_score=0.5, booster='gbtree', colsample_bylevel=1,\n",
       "              colsample_bynode=1, colsample_bytree=1, gamma=0, gpu_id=-1,\n",
       "              importance_type='gain', interaction_constraints='',\n",
       "              learning_rate=0.05, max_delta_step=0, max_depth=3,\n",
       "              min_child_weight=6, missing=nan, monotone_constraints='()',\n",
       "              n_estimators=100, n_jobs=0, num_parallel_tree=1, random_state=0,\n",
       "              reg_alpha=0, reg_lambda=1, scale_pos_weight=1, subsample=0.5,\n",
       "              tree_method='exact', validate_parameters=1, verbosity=None)"
      ]
     },
     "execution_count": 180,
     "metadata": {},
     "output_type": "execute_result"
    }
   ],
   "source": [
    "model_10yr = xgb.XGBClassifier(learning_rate = 0.05, max_depth = 3, min_child_weight = 6, subsample = 0.5)\n",
    "model_10yr.fit(X_train_10yr, Y_train_10yr)"
   ]
  },
  {
   "cell_type": "code",
   "execution_count": 181,
   "metadata": {},
   "outputs": [
    {
     "name": "stdout",
     "output_type": "stream",
     "text": [
      "Training accuracy => 0.76094\n",
      "Testing accuracy => 0.68273\n"
     ]
    }
   ],
   "source": [
    "train_score = round(model_10yr.score(X_train_10yr, Y_train_10yr), 5)\n",
    "test_score = round(model_10yr.score(X_test_10yr, Y_test_10yr), 5)\n",
    "\n",
    "print(f\"Training accuracy => {train_score}\")\n",
    "print(f\"Testing accuracy => {test_score}\")"
   ]
  },
  {
   "cell_type": "markdown",
   "metadata": {},
   "source": [
    "## Plot the ROC curves"
   ]
  },
  {
   "cell_type": "markdown",
   "metadata": {},
   "source": [
    "#### This is the code to build the roc curve plot, will need more results obviously, but shouldn't take too long to extend this code!"
   ]
  },
  {
   "cell_type": "code",
   "execution_count": 209,
   "metadata": {},
   "outputs": [],
   "source": [
    "result_table = pd.DataFrame(columns=['Time window', 'fpr','tpr','auc'])"
   ]
  },
  {
   "cell_type": "code",
   "execution_count": 210,
   "metadata": {},
   "outputs": [],
   "source": [
    "yproba = model_1yr.predict_proba(X_test_1yr)[::,1]\n",
    "fpr, tpr, _ = roc_curve(Y_test_1yr,  yproba)\n",
    "auc = roc_auc_score(Y_test_1yr, yproba)\n",
    "\n",
    "result_table = result_table.append({'Time window':\"1 year\",\n",
    "                                    'fpr':fpr, \n",
    "                                        'tpr':tpr, \n",
    "                                        'auc':auc}, ignore_index=True)"
   ]
  },
  {
   "cell_type": "code",
   "execution_count": 211,
   "metadata": {},
   "outputs": [],
   "source": [
    "yproba = model_3yr.predict_proba(X_test_3yr)[::,1]\n",
    "fpr, tpr, _ = roc_curve(Y_test_3yr,  yproba)\n",
    "auc = roc_auc_score(Y_test_3yr, yproba)\n",
    "\n",
    "result_table = result_table.append({'Time window':\"3 years\",\n",
    "                                    'fpr':fpr, \n",
    "                                        'tpr':tpr, \n",
    "                                        'auc':auc}, ignore_index=True)"
   ]
  },
  {
   "cell_type": "code",
   "execution_count": 212,
   "metadata": {},
   "outputs": [],
   "source": [
    "yproba = model_5yr.predict_proba(X_test_5yr)[::,1]\n",
    "fpr, tpr, _ = roc_curve(Y_test_5yr,  yproba)\n",
    "auc = roc_auc_score(Y_test_5yr, yproba)\n",
    "\n",
    "result_table = result_table.append({'Time window':\"5 years\",\n",
    "                                    'fpr':fpr, \n",
    "                                        'tpr':tpr, \n",
    "                                        'auc':auc}, ignore_index=True)"
   ]
  },
  {
   "cell_type": "code",
   "execution_count": 213,
   "metadata": {},
   "outputs": [],
   "source": [
    "yproba = model_10yr.predict_proba(X_test_10yr)[::,1]\n",
    "fpr, tpr, _ = roc_curve(Y_test_10yr,  yproba)\n",
    "auc = roc_auc_score(Y_test_10yr, yproba)\n",
    "\n",
    "result_table = result_table.append({'Time window':\"10 years\",\n",
    "                                    'fpr':fpr, \n",
    "                                        'tpr':tpr, \n",
    "                                        'auc':auc}, ignore_index=True)"
   ]
  },
  {
   "cell_type": "code",
   "execution_count": 214,
   "metadata": {},
   "outputs": [
    {
     "data": {
      "image/png": "[encoded data removed]",
      "text/plain": [
       "<Figure size 720x720 with 1 Axes>"
      ]
     },
     "metadata": {
      "needs_background": "light"
     },
     "output_type": "display_data"
    }
   ],
   "source": [
    "plt.rcParams[\"figure.figsize\"] = (10,10)\n",
    "\n",
    "plt.plot(result_table.fpr[0], result_table.tpr[0], label=\"1 Year AUC => \" + str(round(result_table.auc[0], 4)))\n",
    "plt.plot(result_table.fpr[1], result_table.tpr[1], label=\"3 Years AUC => \" + str(round(result_table.auc[1], 4)))\n",
    "plt.plot(result_table.fpr[2], result_table.tpr[2], label=\"5 Years AUC => \" + str(round(result_table.auc[2], 4)))\n",
    "plt.plot(result_table.fpr[3], result_table.tpr[3], label=\"10 Years AUC => \" + str(round(result_table.auc[3], 4)))\n",
    "\n",
    "plt.plot([0,1], [0,1], color='orange', linestyle='--')\n",
    "\n",
    "plt.xticks(np.arange(0.0, 1.1, step=0.1))\n",
    "plt.xlabel(\"False Positive Rate\", fontsize=15)\n",
    "\n",
    "plt.yticks(np.arange(0.0, 1.1, step=0.1))\n",
    "plt.ylabel(\"True Positive Rate\", fontsize=15)\n",
    "\n",
    "plt.title('ROC Curve Analysis', fontweight='bold', fontsize=15)\n",
    "plt.legend(prop={'size':13}, loc='lower right')\n",
    "\n",
    "plt.show()"
   ]
  },
  {
   "cell_type": "markdown",
   "metadata": {},
   "source": [
    "## Extract important features"
   ]
  },
  {
   "cell_type": "markdown",
   "metadata": {},
   "source": [
    "#### 1 Year"
   ]
  },
  {
   "cell_type": "code",
   "execution_count": 215,
   "metadata": {},
   "outputs": [
    {
     "data": {
      "image/png": "[encoded data removed]",
      "text/plain": [
       "<Figure size 720x720 with 1 Axes>"
      ]
     },
     "metadata": {
      "needs_background": "light"
     },
     "output_type": "display_data"
    }
   ],
   "source": [
    "plt.bar(range(len(model_1yr.feature_importances_)), model_1yr.feature_importances_)\n",
    "plt.show()"
   ]
  },
  {
   "cell_type": "code",
   "execution_count": 216,
   "metadata": {},
   "outputs": [
    {
     "data": {
      "image/png": "[encoded data removed]",
      "text/plain": [
       "<Figure size 720x720 with 1 Axes>"
      ]
     },
     "metadata": {
      "needs_background": "light"
     },
     "output_type": "display_data"
    }
   ],
   "source": [
    "plot_importance(model_1yr, max_num_features=10)\n",
    "plt.show()"
   ]
  },
  {
   "cell_type": "markdown",
   "metadata": {},
   "source": [
    "#### 3 Years"
   ]
  },
  {
   "cell_type": "code",
   "execution_count": 217,
   "metadata": {},
   "outputs": [
    {
     "data": {
      "image/png": "[encoded data removed]",
      "text/plain": [
       "<Figure size 720x720 with 1 Axes>"
      ]
     },
     "metadata": {
      "needs_background": "light"
     },
     "output_type": "display_data"
    }
   ],
   "source": [
    "plt.bar(range(len(model_3yr.feature_importances_)), model_3yr.feature_importances_)\n",
    "plt.show()"
   ]
  },
  {
   "cell_type": "code",
   "execution_count": 218,
   "metadata": {},
   "outputs": [
    {
     "data": {
      "image/png": "[encoded data removed]",
      "text/plain": [
       "<Figure size 720x720 with 1 Axes>"
      ]
     },
     "metadata": {
      "needs_background": "light"
     },
     "output_type": "display_data"
    }
   ],
   "source": [
    "plot_importance(model_3yr, max_num_features=10)\n",
    "plt.show()"
   ]
  },
  {
   "cell_type": "markdown",
   "metadata": {},
   "source": [
    "#### 5 Years"
   ]
  },
  {
   "cell_type": "code",
   "execution_count": 219,
   "metadata": {},
   "outputs": [
    {
     "data": {
      "image/png": "[encoded data removed]",
      "text/plain": [
       "<Figure size 720x720 with 1 Axes>"
      ]
     },
     "metadata": {
      "needs_background": "light"
     },
     "output_type": "display_data"
    }
   ],
   "source": [
    "plt.bar(range(len(model_5yr.feature_importances_)), model_5yr.feature_importances_)\n",
    "plt.show()"
   ]
  },
  {
   "cell_type": "code",
   "execution_count": 220,
   "metadata": {},
   "outputs": [
    {
     "data": {
      "image/png": "[encoded data removed]",
      "text/plain": [
       "<Figure size 720x720 with 1 Axes>"
      ]
     },
     "metadata": {
      "needs_background": "light"
     },
     "output_type": "display_data"
    }
   ],
   "source": [
    "plot_importance(model_5yr, max_num_features=10)\n",
    "plt.show()"
   ]
  },
  {
   "cell_type": "markdown",
   "metadata": {},
   "source": [
    "#### 10 Years"
   ]
  },
  {
   "cell_type": "code",
   "execution_count": 221,
   "metadata": {},
   "outputs": [
    {
     "data": {
      "image/png": "[encoded data removed]",
      "text/plain": [
       "<Figure size 720x720 with 1 Axes>"
      ]
     },
     "metadata": {
      "needs_background": "light"
     },
     "output_type": "display_data"
    }
   ],
   "source": [
    "plt.bar(range(len(model_10yr.feature_importances_)), model_10yr.feature_importances_)\n",
    "plt.show()"
   ]
  },
  {
   "cell_type": "code",
   "execution_count": 222,
   "metadata": {},
   "outputs": [
    {
     "data": {
      "image/png": "[encoded data removed]",
      "text/plain": [
       "<Figure size 720x720 with 1 Axes>"
      ]
     },
     "metadata": {
      "needs_background": "light"
     },
     "output_type": "display_data"
    }
   ],
   "source": [
    "plot_importance(model_10yr, max_num_features=10)\n",
    "plt.show()"
   ]
  }
 ],
 "metadata": {
  "kernelspec": {
   "display_name": "Python 3",
   "language": "python",
   "name": "python3"
  },
  "language_info": {
   "codemirror_mode": {
    "name": "ipython",
    "version": 3
   },
   "file_extension": ".py",
   "mimetype": "text/x-python",
   "name": "python",
   "nbconvert_exporter": "python",
   "pygments_lexer": "ipython3",
   "version": "3.6.8"
  }
 },
 "nbformat": 4,
 "nbformat_minor": 2
}
